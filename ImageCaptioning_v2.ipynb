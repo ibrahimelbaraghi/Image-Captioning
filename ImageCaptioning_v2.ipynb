{
  "nbformat": 4,
  "nbformat_minor": 0,
  "metadata": {
    "colab": {
      "provenance": [],
      "gpuType": "T4"
    },
    "kernelspec": {
      "name": "python3",
      "display_name": "Python 3"
    },
    "language_info": {
      "name": "python"
    },
    "accelerator": "GPU",
    "widgets": {
      "application/vnd.jupyter.widget-state+json": {
        "19958f65e3184a9286e3a64b53146127": {
          "model_module": "@jupyter-widgets/controls",
          "model_name": "HBoxModel",
          "model_module_version": "1.5.0",
          "state": {
            "_dom_classes": [],
            "_model_module": "@jupyter-widgets/controls",
            "_model_module_version": "1.5.0",
            "_model_name": "HBoxModel",
            "_view_count": null,
            "_view_module": "@jupyter-widgets/controls",
            "_view_module_version": "1.5.0",
            "_view_name": "HBoxView",
            "box_style": "",
            "children": [
              "IPY_MODEL_caac4c04510d429a97b03165c237a0b1",
              "IPY_MODEL_6125e71a25b446ec92edcdd4d3d099c5",
              "IPY_MODEL_ee8ed49ceff5454da7d438e36bcbaaaa"
            ],
            "layout": "IPY_MODEL_9ca90d763a13462eaaba89cafb7a2b5e"
          }
        },
        "caac4c04510d429a97b03165c237a0b1": {
          "model_module": "@jupyter-widgets/controls",
          "model_name": "HTMLModel",
          "model_module_version": "1.5.0",
          "state": {
            "_dom_classes": [],
            "_model_module": "@jupyter-widgets/controls",
            "_model_module_version": "1.5.0",
            "_model_name": "HTMLModel",
            "_view_count": null,
            "_view_module": "@jupyter-widgets/controls",
            "_view_module_version": "1.5.0",
            "_view_name": "HTMLView",
            "description": "",
            "description_tooltip": null,
            "layout": "IPY_MODEL_37c49e2184ed420cadae3a35f4826c09",
            "placeholder": "​",
            "style": "IPY_MODEL_9d77b9ddd8b34c30919e0279aac2f5b7",
            "value": "model.safetensors: 100%"
          }
        },
        "6125e71a25b446ec92edcdd4d3d099c5": {
          "model_module": "@jupyter-widgets/controls",
          "model_name": "FloatProgressModel",
          "model_module_version": "1.5.0",
          "state": {
            "_dom_classes": [],
            "_model_module": "@jupyter-widgets/controls",
            "_model_module_version": "1.5.0",
            "_model_name": "FloatProgressModel",
            "_view_count": null,
            "_view_module": "@jupyter-widgets/controls",
            "_view_module_version": "1.5.0",
            "_view_name": "ProgressView",
            "bar_style": "success",
            "description": "",
            "description_tooltip": null,
            "layout": "IPY_MODEL_cafd750d2ff645998430a4f0ffd1ffad",
            "max": 21355344,
            "min": 0,
            "orientation": "horizontal",
            "style": "IPY_MODEL_9cee82d37fa24e3ca43633b391b21774",
            "value": 21355344
          }
        },
        "ee8ed49ceff5454da7d438e36bcbaaaa": {
          "model_module": "@jupyter-widgets/controls",
          "model_name": "HTMLModel",
          "model_module_version": "1.5.0",
          "state": {
            "_dom_classes": [],
            "_model_module": "@jupyter-widgets/controls",
            "_model_module_version": "1.5.0",
            "_model_name": "HTMLModel",
            "_view_count": null,
            "_view_module": "@jupyter-widgets/controls",
            "_view_module_version": "1.5.0",
            "_view_name": "HTMLView",
            "description": "",
            "description_tooltip": null,
            "layout": "IPY_MODEL_64a10b4f75a64995abe09d65405ea95e",
            "placeholder": "​",
            "style": "IPY_MODEL_8c0408e8b85740df9b608283e4fce303",
            "value": " 21.4M/21.4M [00:00&lt;00:00, 27.2MB/s]"
          }
        },
        "9ca90d763a13462eaaba89cafb7a2b5e": {
          "model_module": "@jupyter-widgets/base",
          "model_name": "LayoutModel",
          "model_module_version": "1.2.0",
          "state": {
            "_model_module": "@jupyter-widgets/base",
            "_model_module_version": "1.2.0",
            "_model_name": "LayoutModel",
            "_view_count": null,
            "_view_module": "@jupyter-widgets/base",
            "_view_module_version": "1.2.0",
            "_view_name": "LayoutView",
            "align_content": null,
            "align_items": null,
            "align_self": null,
            "border": null,
            "bottom": null,
            "display": null,
            "flex": null,
            "flex_flow": null,
            "grid_area": null,
            "grid_auto_columns": null,
            "grid_auto_flow": null,
            "grid_auto_rows": null,
            "grid_column": null,
            "grid_gap": null,
            "grid_row": null,
            "grid_template_areas": null,
            "grid_template_columns": null,
            "grid_template_rows": null,
            "height": null,
            "justify_content": null,
            "justify_items": null,
            "left": null,
            "margin": null,
            "max_height": null,
            "max_width": null,
            "min_height": null,
            "min_width": null,
            "object_fit": null,
            "object_position": null,
            "order": null,
            "overflow": null,
            "overflow_x": null,
            "overflow_y": null,
            "padding": null,
            "right": null,
            "top": null,
            "visibility": null,
            "width": null
          }
        },
        "37c49e2184ed420cadae3a35f4826c09": {
          "model_module": "@jupyter-widgets/base",
          "model_name": "LayoutModel",
          "model_module_version": "1.2.0",
          "state": {
            "_model_module": "@jupyter-widgets/base",
            "_model_module_version": "1.2.0",
            "_model_name": "LayoutModel",
            "_view_count": null,
            "_view_module": "@jupyter-widgets/base",
            "_view_module_version": "1.2.0",
            "_view_name": "LayoutView",
            "align_content": null,
            "align_items": null,
            "align_self": null,
            "border": null,
            "bottom": null,
            "display": null,
            "flex": null,
            "flex_flow": null,
            "grid_area": null,
            "grid_auto_columns": null,
            "grid_auto_flow": null,
            "grid_auto_rows": null,
            "grid_column": null,
            "grid_gap": null,
            "grid_row": null,
            "grid_template_areas": null,
            "grid_template_columns": null,
            "grid_template_rows": null,
            "height": null,
            "justify_content": null,
            "justify_items": null,
            "left": null,
            "margin": null,
            "max_height": null,
            "max_width": null,
            "min_height": null,
            "min_width": null,
            "object_fit": null,
            "object_position": null,
            "order": null,
            "overflow": null,
            "overflow_x": null,
            "overflow_y": null,
            "padding": null,
            "right": null,
            "top": null,
            "visibility": null,
            "width": null
          }
        },
        "9d77b9ddd8b34c30919e0279aac2f5b7": {
          "model_module": "@jupyter-widgets/controls",
          "model_name": "DescriptionStyleModel",
          "model_module_version": "1.5.0",
          "state": {
            "_model_module": "@jupyter-widgets/controls",
            "_model_module_version": "1.5.0",
            "_model_name": "DescriptionStyleModel",
            "_view_count": null,
            "_view_module": "@jupyter-widgets/base",
            "_view_module_version": "1.2.0",
            "_view_name": "StyleView",
            "description_width": ""
          }
        },
        "cafd750d2ff645998430a4f0ffd1ffad": {
          "model_module": "@jupyter-widgets/base",
          "model_name": "LayoutModel",
          "model_module_version": "1.2.0",
          "state": {
            "_model_module": "@jupyter-widgets/base",
            "_model_module_version": "1.2.0",
            "_model_name": "LayoutModel",
            "_view_count": null,
            "_view_module": "@jupyter-widgets/base",
            "_view_module_version": "1.2.0",
            "_view_name": "LayoutView",
            "align_content": null,
            "align_items": null,
            "align_self": null,
            "border": null,
            "bottom": null,
            "display": null,
            "flex": null,
            "flex_flow": null,
            "grid_area": null,
            "grid_auto_columns": null,
            "grid_auto_flow": null,
            "grid_auto_rows": null,
            "grid_column": null,
            "grid_gap": null,
            "grid_row": null,
            "grid_template_areas": null,
            "grid_template_columns": null,
            "grid_template_rows": null,
            "height": null,
            "justify_content": null,
            "justify_items": null,
            "left": null,
            "margin": null,
            "max_height": null,
            "max_width": null,
            "min_height": null,
            "min_width": null,
            "object_fit": null,
            "object_position": null,
            "order": null,
            "overflow": null,
            "overflow_x": null,
            "overflow_y": null,
            "padding": null,
            "right": null,
            "top": null,
            "visibility": null,
            "width": null
          }
        },
        "9cee82d37fa24e3ca43633b391b21774": {
          "model_module": "@jupyter-widgets/controls",
          "model_name": "ProgressStyleModel",
          "model_module_version": "1.5.0",
          "state": {
            "_model_module": "@jupyter-widgets/controls",
            "_model_module_version": "1.5.0",
            "_model_name": "ProgressStyleModel",
            "_view_count": null,
            "_view_module": "@jupyter-widgets/base",
            "_view_module_version": "1.2.0",
            "_view_name": "StyleView",
            "bar_color": null,
            "description_width": ""
          }
        },
        "64a10b4f75a64995abe09d65405ea95e": {
          "model_module": "@jupyter-widgets/base",
          "model_name": "LayoutModel",
          "model_module_version": "1.2.0",
          "state": {
            "_model_module": "@jupyter-widgets/base",
            "_model_module_version": "1.2.0",
            "_model_name": "LayoutModel",
            "_view_count": null,
            "_view_module": "@jupyter-widgets/base",
            "_view_module_version": "1.2.0",
            "_view_name": "LayoutView",
            "align_content": null,
            "align_items": null,
            "align_self": null,
            "border": null,
            "bottom": null,
            "display": null,
            "flex": null,
            "flex_flow": null,
            "grid_area": null,
            "grid_auto_columns": null,
            "grid_auto_flow": null,
            "grid_auto_rows": null,
            "grid_column": null,
            "grid_gap": null,
            "grid_row": null,
            "grid_template_areas": null,
            "grid_template_columns": null,
            "grid_template_rows": null,
            "height": null,
            "justify_content": null,
            "justify_items": null,
            "left": null,
            "margin": null,
            "max_height": null,
            "max_width": null,
            "min_height": null,
            "min_width": null,
            "object_fit": null,
            "object_position": null,
            "order": null,
            "overflow": null,
            "overflow_x": null,
            "overflow_y": null,
            "padding": null,
            "right": null,
            "top": null,
            "visibility": null,
            "width": null
          }
        },
        "8c0408e8b85740df9b608283e4fce303": {
          "model_module": "@jupyter-widgets/controls",
          "model_name": "DescriptionStyleModel",
          "model_module_version": "1.5.0",
          "state": {
            "_model_module": "@jupyter-widgets/controls",
            "_model_module_version": "1.5.0",
            "_model_name": "DescriptionStyleModel",
            "_view_count": null,
            "_view_module": "@jupyter-widgets/base",
            "_view_module_version": "1.2.0",
            "_view_name": "StyleView",
            "description_width": ""
          }
        }
      }
    }
  },
  "cells": [
    {
      "cell_type": "code",
      "execution_count": 2,
      "metadata": {
        "id": "kveFgcPix8bv"
      },
      "outputs": [],
      "source": [
        "import os\n",
        "from google.colab import drive\n",
        "\n",
        "import spacy\n",
        "import numpy as np\n",
        "import pandas as pd\n",
        "import matplotlib.pyplot as plt\n",
        "\n",
        "from sklearn.model_selection import train_test_split\n",
        "from tqdm import tqdm\n",
        "\n",
        "from PIL import Image\n",
        "import cv2\n",
        "import torch\n",
        "from torch import nn\n",
        "import torch.nn.functional as F\n",
        "from torch.utils.data import Dataset, DataLoader\n",
        "import torchvision.models as model\n",
        "\n",
        "#from aac_metrics.functional import spice\n",
        "#import timm"
      ]
    },
    {
      "cell_type": "markdown",
      "source": [
        "# Configurations & Hyper-Parameters"
      ],
      "metadata": {
        "id": "obGH154Ty2GE"
      }
    },
    {
      "cell_type": "code",
      "source": [
        "ROOT_DIR = './dataset/Images/'\n",
        "DATA_FILE = './dataset/captions.txt'\n",
        "IMAGE_SIZE = 320\n",
        "CROP_SIZE = 256\n",
        "MAX_LENGTH = 25 # for captions\n",
        "\n",
        "DEVICE = 'cuda' if torch.cuda.is_available() else 'cpu'\n",
        "\n",
        "EPOCHS = 30\n",
        "BATCH_SIZE = 16\n",
        "LR = 1e-3\n",
        "NUM_LAYERS = 3\n",
        "DROPOUT_RATE = .4\n",
        "\n",
        "ENCODER = 'efficientnet_b0'"
      ],
      "metadata": {
        "id": "wHzPgEjfyqkr"
      },
      "execution_count": 3,
      "outputs": []
    },
    {
      "cell_type": "markdown",
      "source": [],
      "metadata": {
        "id": "Hc5MNgcezbPi"
      }
    },
    {
      "cell_type": "code",
      "source": [
        "!mkdir /content/dataset\n",
        "#!rm -rf /content/dataset/"
      ],
      "metadata": {
        "id": "G6a_wmELzaIc"
      },
      "execution_count": 4,
      "outputs": []
    },
    {
      "cell_type": "code",
      "source": [
        "from google.colab import drive\n",
        "drive.mount('/content/drive')\n",
        "\n",
        "os.chdir('/content/drive/My Drive/')\n",
        "\n",
        "!unzip ./0.52k_images -d /content/dataset/Images\n",
        "!unzip ./captions.txt.zip -d /content/dataset/\n",
        "os.chdir('/content')"
      ],
      "metadata": {
        "colab": {
          "base_uri": "https://localhost:8080/"
        },
        "id": "opOyaj4a25Zl",
        "outputId": "aba042f2-5b9b-48c8-9909-a93b8f6b4b7a"
      },
      "execution_count": 5,
      "outputs": [
        {
          "output_type": "stream",
          "name": "stdout",
          "text": [
            "Drive already mounted at /content/drive; to attempt to forcibly remount, call drive.mount(\"/content/drive\", force_remount=True).\n",
            "unzip:  cannot find or open ./Images.zip, ./Images.zip.zip or ./Images.zip.ZIP.\n",
            "Archive:  ./captions.txt.zip\n",
            "  inflating: /content/dataset/captions.txt  \n"
          ]
        }
      ]
    },
    {
      "cell_type": "markdown",
      "source": [],
      "metadata": {
        "id": "HKiz57vD6VJw"
      }
    },
    {
      "cell_type": "markdown",
      "source": [
        "# Creating the DataFrame from the data file"
      ],
      "metadata": {
        "id": "2ABdZDslL-jJ"
      }
    },
    {
      "cell_type": "code",
      "source": [
        "def build_df(root_dir, data_file):\n",
        "  images = list()\n",
        "  captions_per_image = list()\n",
        "\n",
        "  with open(data_file, mode='r') as f:\n",
        "    lines = f.readlines()\n",
        "\n",
        "    lines = sorted(lines[1:]) # don't include the first line (it's just a header)\n",
        "\n",
        "    images = [root_dir + lines[i].strip().split(',', maxsplit=1)[0] for i in range(0, len(lines), 5)]\n",
        "    captions_per_image = [[line.strip().split(',', maxsplit=1)[1] for line in lines[i: i+5]] for i in range(0, len(lines), 5)]\n",
        "\n",
        "    return pd.DataFrame(\n",
        "        {\n",
        "            \"Images\" : images,\n",
        "            \"Captions_per_image\" : captions_per_image\n",
        "        }\n",
        "    )\n",
        "\n",
        "def show_image(tensor_image):\n",
        "  image = np.array(tensor_image)\n",
        "  image = np.transpose(image, axes=(1, 2, 0))\n",
        "  plt.imshow(image)"
      ],
      "metadata": {
        "id": "wJQ-oR9WL7RE"
      },
      "execution_count": 6,
      "outputs": []
    },
    {
      "cell_type": "code",
      "source": [
        "df = build_df(\n",
        "    root_dir=ROOT_DIR,\n",
        "    data_file=DATA_FILE\n",
        ")"
      ],
      "metadata": {
        "id": "gPtgipYaMDk0"
      },
      "execution_count": null,
      "outputs": []
    },
    {
      "cell_type": "code",
      "source": [
        "df.head()"
      ],
      "metadata": {
        "colab": {
          "base_uri": "https://localhost:8080/",
          "height": 206
        },
        "id": "k551FGPIMLRj",
        "outputId": "fcc0e918-a6ad-41f5-d746-cbad0bf0abf3"
      },
      "execution_count": null,
      "outputs": [
        {
          "output_type": "execute_result",
          "data": {
            "text/plain": [
              "                                       Images  \\\n",
              "0  ./dataset/Images/1000268201_693b08cb0e.jpg   \n",
              "1  ./dataset/Images/1001773457_577c3a7d70.jpg   \n",
              "2  ./dataset/Images/1002674143_1b742ab4b8.jpg   \n",
              "3  ./dataset/Images/1003163366_44323f5815.jpg   \n",
              "4  ./dataset/Images/1007129816_e794419615.jpg   \n",
              "\n",
              "                                  Captions_per_image  \n",
              "0  [A child in a pink dress is climbing up a set ...  \n",
              "1  [A black dog and a spotted dog are fighting, A...  \n",
              "2  [A little girl covered in paint sits in front ...  \n",
              "3  [A man lays on a bench while his dog sits by h...  \n",
              "4  [A man in an orange hat starring at something ...  "
            ],
            "text/html": [
              "\n",
              "  <div id=\"df-a0f207fa-10f2-46da-9122-97347ac1fbf6\" class=\"colab-df-container\">\n",
              "    <div>\n",
              "<style scoped>\n",
              "    .dataframe tbody tr th:only-of-type {\n",
              "        vertical-align: middle;\n",
              "    }\n",
              "\n",
              "    .dataframe tbody tr th {\n",
              "        vertical-align: top;\n",
              "    }\n",
              "\n",
              "    .dataframe thead th {\n",
              "        text-align: right;\n",
              "    }\n",
              "</style>\n",
              "<table border=\"1\" class=\"dataframe\">\n",
              "  <thead>\n",
              "    <tr style=\"text-align: right;\">\n",
              "      <th></th>\n",
              "      <th>Images</th>\n",
              "      <th>Captions_per_image</th>\n",
              "    </tr>\n",
              "  </thead>\n",
              "  <tbody>\n",
              "    <tr>\n",
              "      <th>0</th>\n",
              "      <td>./dataset/Images/1000268201_693b08cb0e.jpg</td>\n",
              "      <td>[A child in a pink dress is climbing up a set ...</td>\n",
              "    </tr>\n",
              "    <tr>\n",
              "      <th>1</th>\n",
              "      <td>./dataset/Images/1001773457_577c3a7d70.jpg</td>\n",
              "      <td>[A black dog and a spotted dog are fighting, A...</td>\n",
              "    </tr>\n",
              "    <tr>\n",
              "      <th>2</th>\n",
              "      <td>./dataset/Images/1002674143_1b742ab4b8.jpg</td>\n",
              "      <td>[A little girl covered in paint sits in front ...</td>\n",
              "    </tr>\n",
              "    <tr>\n",
              "      <th>3</th>\n",
              "      <td>./dataset/Images/1003163366_44323f5815.jpg</td>\n",
              "      <td>[A man lays on a bench while his dog sits by h...</td>\n",
              "    </tr>\n",
              "    <tr>\n",
              "      <th>4</th>\n",
              "      <td>./dataset/Images/1007129816_e794419615.jpg</td>\n",
              "      <td>[A man in an orange hat starring at something ...</td>\n",
              "    </tr>\n",
              "  </tbody>\n",
              "</table>\n",
              "</div>\n",
              "    <div class=\"colab-df-buttons\">\n",
              "\n",
              "  <div class=\"colab-df-container\">\n",
              "    <button class=\"colab-df-convert\" onclick=\"convertToInteractive('df-a0f207fa-10f2-46da-9122-97347ac1fbf6')\"\n",
              "            title=\"Convert this dataframe to an interactive table.\"\n",
              "            style=\"display:none;\">\n",
              "\n",
              "  <svg xmlns=\"http://www.w3.org/2000/svg\" height=\"24px\" viewBox=\"0 -960 960 960\">\n",
              "    <path d=\"M120-120v-720h720v720H120Zm60-500h600v-160H180v160Zm220 220h160v-160H400v160Zm0 220h160v-160H400v160ZM180-400h160v-160H180v160Zm440 0h160v-160H620v160ZM180-180h160v-160H180v160Zm440 0h160v-160H620v160Z\"/>\n",
              "  </svg>\n",
              "    </button>\n",
              "\n",
              "  <style>\n",
              "    .colab-df-container {\n",
              "      display:flex;\n",
              "      gap: 12px;\n",
              "    }\n",
              "\n",
              "    .colab-df-convert {\n",
              "      background-color: #E8F0FE;\n",
              "      border: none;\n",
              "      border-radius: 50%;\n",
              "      cursor: pointer;\n",
              "      display: none;\n",
              "      fill: #1967D2;\n",
              "      height: 32px;\n",
              "      padding: 0 0 0 0;\n",
              "      width: 32px;\n",
              "    }\n",
              "\n",
              "    .colab-df-convert:hover {\n",
              "      background-color: #E2EBFA;\n",
              "      box-shadow: 0px 1px 2px rgba(60, 64, 67, 0.3), 0px 1px 3px 1px rgba(60, 64, 67, 0.15);\n",
              "      fill: #174EA6;\n",
              "    }\n",
              "\n",
              "    .colab-df-buttons div {\n",
              "      margin-bottom: 4px;\n",
              "    }\n",
              "\n",
              "    [theme=dark] .colab-df-convert {\n",
              "      background-color: #3B4455;\n",
              "      fill: #D2E3FC;\n",
              "    }\n",
              "\n",
              "    [theme=dark] .colab-df-convert:hover {\n",
              "      background-color: #434B5C;\n",
              "      box-shadow: 0px 1px 3px 1px rgba(0, 0, 0, 0.15);\n",
              "      filter: drop-shadow(0px 1px 2px rgba(0, 0, 0, 0.3));\n",
              "      fill: #FFFFFF;\n",
              "    }\n",
              "  </style>\n",
              "\n",
              "    <script>\n",
              "      const buttonEl =\n",
              "        document.querySelector('#df-a0f207fa-10f2-46da-9122-97347ac1fbf6 button.colab-df-convert');\n",
              "      buttonEl.style.display =\n",
              "        google.colab.kernel.accessAllowed ? 'block' : 'none';\n",
              "\n",
              "      async function convertToInteractive(key) {\n",
              "        const element = document.querySelector('#df-a0f207fa-10f2-46da-9122-97347ac1fbf6');\n",
              "        const dataTable =\n",
              "          await google.colab.kernel.invokeFunction('convertToInteractive',\n",
              "                                                    [key], {});\n",
              "        if (!dataTable) return;\n",
              "\n",
              "        const docLinkHtml = 'Like what you see? Visit the ' +\n",
              "          '<a target=\"_blank\" href=https://colab.research.google.com/notebooks/data_table.ipynb>data table notebook</a>'\n",
              "          + ' to learn more about interactive tables.';\n",
              "        element.innerHTML = '';\n",
              "        dataTable['output_type'] = 'display_data';\n",
              "        await google.colab.output.renderOutput(dataTable, element);\n",
              "        const docLink = document.createElement('div');\n",
              "        docLink.innerHTML = docLinkHtml;\n",
              "        element.appendChild(docLink);\n",
              "      }\n",
              "    </script>\n",
              "  </div>\n",
              "\n",
              "\n",
              "<div id=\"df-d63b2db1-8013-43f1-b7b1-aacf7b8cd3d5\">\n",
              "  <button class=\"colab-df-quickchart\" onclick=\"quickchart('df-d63b2db1-8013-43f1-b7b1-aacf7b8cd3d5')\"\n",
              "            title=\"Suggest charts.\"\n",
              "            style=\"display:none;\">\n",
              "\n",
              "<svg xmlns=\"http://www.w3.org/2000/svg\" height=\"24px\"viewBox=\"0 0 24 24\"\n",
              "     width=\"24px\">\n",
              "    <g>\n",
              "        <path d=\"M19 3H5c-1.1 0-2 .9-2 2v14c0 1.1.9 2 2 2h14c1.1 0 2-.9 2-2V5c0-1.1-.9-2-2-2zM9 17H7v-7h2v7zm4 0h-2V7h2v10zm4 0h-2v-4h2v4z\"/>\n",
              "    </g>\n",
              "</svg>\n",
              "  </button>\n",
              "\n",
              "<style>\n",
              "  .colab-df-quickchart {\n",
              "      --bg-color: #E8F0FE;\n",
              "      --fill-color: #1967D2;\n",
              "      --hover-bg-color: #E2EBFA;\n",
              "      --hover-fill-color: #174EA6;\n",
              "      --disabled-fill-color: #AAA;\n",
              "      --disabled-bg-color: #DDD;\n",
              "  }\n",
              "\n",
              "  [theme=dark] .colab-df-quickchart {\n",
              "      --bg-color: #3B4455;\n",
              "      --fill-color: #D2E3FC;\n",
              "      --hover-bg-color: #434B5C;\n",
              "      --hover-fill-color: #FFFFFF;\n",
              "      --disabled-bg-color: #3B4455;\n",
              "      --disabled-fill-color: #666;\n",
              "  }\n",
              "\n",
              "  .colab-df-quickchart {\n",
              "    background-color: var(--bg-color);\n",
              "    border: none;\n",
              "    border-radius: 50%;\n",
              "    cursor: pointer;\n",
              "    display: none;\n",
              "    fill: var(--fill-color);\n",
              "    height: 32px;\n",
              "    padding: 0;\n",
              "    width: 32px;\n",
              "  }\n",
              "\n",
              "  .colab-df-quickchart:hover {\n",
              "    background-color: var(--hover-bg-color);\n",
              "    box-shadow: 0 1px 2px rgba(60, 64, 67, 0.3), 0 1px 3px 1px rgba(60, 64, 67, 0.15);\n",
              "    fill: var(--button-hover-fill-color);\n",
              "  }\n",
              "\n",
              "  .colab-df-quickchart-complete:disabled,\n",
              "  .colab-df-quickchart-complete:disabled:hover {\n",
              "    background-color: var(--disabled-bg-color);\n",
              "    fill: var(--disabled-fill-color);\n",
              "    box-shadow: none;\n",
              "  }\n",
              "\n",
              "  .colab-df-spinner {\n",
              "    border: 2px solid var(--fill-color);\n",
              "    border-color: transparent;\n",
              "    border-bottom-color: var(--fill-color);\n",
              "    animation:\n",
              "      spin 1s steps(1) infinite;\n",
              "  }\n",
              "\n",
              "  @keyframes spin {\n",
              "    0% {\n",
              "      border-color: transparent;\n",
              "      border-bottom-color: var(--fill-color);\n",
              "      border-left-color: var(--fill-color);\n",
              "    }\n",
              "    20% {\n",
              "      border-color: transparent;\n",
              "      border-left-color: var(--fill-color);\n",
              "      border-top-color: var(--fill-color);\n",
              "    }\n",
              "    30% {\n",
              "      border-color: transparent;\n",
              "      border-left-color: var(--fill-color);\n",
              "      border-top-color: var(--fill-color);\n",
              "      border-right-color: var(--fill-color);\n",
              "    }\n",
              "    40% {\n",
              "      border-color: transparent;\n",
              "      border-right-color: var(--fill-color);\n",
              "      border-top-color: var(--fill-color);\n",
              "    }\n",
              "    60% {\n",
              "      border-color: transparent;\n",
              "      border-right-color: var(--fill-color);\n",
              "    }\n",
              "    80% {\n",
              "      border-color: transparent;\n",
              "      border-right-color: var(--fill-color);\n",
              "      border-bottom-color: var(--fill-color);\n",
              "    }\n",
              "    90% {\n",
              "      border-color: transparent;\n",
              "      border-bottom-color: var(--fill-color);\n",
              "    }\n",
              "  }\n",
              "</style>\n",
              "\n",
              "  <script>\n",
              "    async function quickchart(key) {\n",
              "      const quickchartButtonEl =\n",
              "        document.querySelector('#' + key + ' button');\n",
              "      quickchartButtonEl.disabled = true;  // To prevent multiple clicks.\n",
              "      quickchartButtonEl.classList.add('colab-df-spinner');\n",
              "      try {\n",
              "        const charts = await google.colab.kernel.invokeFunction(\n",
              "            'suggestCharts', [key], {});\n",
              "      } catch (error) {\n",
              "        console.error('Error during call to suggestCharts:', error);\n",
              "      }\n",
              "      quickchartButtonEl.classList.remove('colab-df-spinner');\n",
              "      quickchartButtonEl.classList.add('colab-df-quickchart-complete');\n",
              "    }\n",
              "    (() => {\n",
              "      let quickchartButtonEl =\n",
              "        document.querySelector('#df-d63b2db1-8013-43f1-b7b1-aacf7b8cd3d5 button');\n",
              "      quickchartButtonEl.style.display =\n",
              "        google.colab.kernel.accessAllowed ? 'block' : 'none';\n",
              "    })();\n",
              "  </script>\n",
              "</div>\n",
              "    </div>\n",
              "  </div>\n"
            ]
          },
          "metadata": {},
          "execution_count": 7
        }
      ]
    },
    {
      "cell_type": "code",
      "source": [
        "spacy_eng = spacy.load(\"en_core_web_sm\")\n",
        "\n",
        "class Lang():\n",
        "  def __init__(self, data_file, min_frequency):\n",
        "    super(Lang, self).__init__()\n",
        "    self.data_file = data_file\n",
        "    self.min_frequency = min_frequency\n",
        "    self.stoi = {\"<sos>\" : 0, \"<eos>\" : 1, \"<pad>\" : 2, \"<unk>\" : 3}\n",
        "    self.itos = {0 : \"<sos>\", 1 : \"<eos>\", 2 : \"<pad>\", 3 : \"<unk>\"}\n",
        "\n",
        "  def __len__(self):\n",
        "    return len(self.stoi)\n",
        "\n",
        "  def tokenize(self, input_str, max_len, sos_token=\"<sos>\", eos_token=\"<eos>\", pad_token=\"<pad>\"):\n",
        "    tokenized_str = [token.text.lower() for token in spacy_eng.tokenizer(input_str)]\n",
        "    tokenized_str = [sos_token] + tokenized_str + [eos_token]\n",
        "    if len(tokenized_str) < max_len:\n",
        "      padded_len = max_len - len(tokenized_str)\n",
        "      tokenized_str = tokenized_str + [pad_token] * padded_len\n",
        "    if len(tokenized_str) > max_len:\n",
        "      tokenized_str = tokenized_str[:max_len-2] + [eos_token] + [pad_token]\n",
        "    return tokenized_str\n",
        "\n",
        "  def get_freqs(self, text):\n",
        "    freqs = dict()\n",
        "    for sentence in text:\n",
        "      for token in self.tokenize(sentence, max_len=MAX_LENGTH):\n",
        "        if token not in freqs:\n",
        "          freqs[token] = 1\n",
        "        else:\n",
        "          freqs[token] += 1\n",
        "    return freqs\n",
        "\n",
        "  def build_vocab(self):\n",
        "    captions = list()\n",
        "    with open(self.data_file, mode='r') as f:\n",
        "      lines = f.readlines()\n",
        "      captions = [line.strip().split(',', maxsplit=1)[1] for line in lines]\n",
        "\n",
        "    freqs = self.get_freqs(captions)\n",
        "    idx = 4\n",
        "    for sentence in captions:\n",
        "      for token in self.tokenize(sentence, max_len=MAX_LENGTH):\n",
        "        if token not in self.stoi:\n",
        "          if freqs[token] >= self.min_frequency:\n",
        "            self.stoi[token] = idx\n",
        "            self.itos[idx] = token\n",
        "            idx += 1\n",
        "\n",
        "  def encode(self, sentence):\n",
        "    tokenized_str = self.tokenize(sentence, max_len=MAX_LENGTH)\n",
        "    return [self.stoi[token] if token in self.stoi else self.stoi[\"<unk>\"] for token in tokenized_str]\n",
        "\n",
        "  def decode(self, encoded_str):\n",
        "    return [self.itos[idx.item()] for idx in encoded_str]"
      ],
      "metadata": {
        "id": "YpKWHMgP6KXq"
      },
      "execution_count": null,
      "outputs": []
    },
    {
      "cell_type": "code",
      "source": [
        "lang = Lang(\n",
        "    data_file=DATA_FILE,\n",
        "    min_frequency=2\n",
        ")\n",
        "lang.build_vocab()\n",
        "tokenizer = lang.tokenize\n",
        "encoder = lang.encode"
      ],
      "metadata": {
        "id": "dG-gAsBjldT8"
      },
      "execution_count": null,
      "outputs": []
    },
    {
      "cell_type": "code",
      "source": [
        "from torchvision import transforms\n",
        "def transform():\n",
        "  return transforms.Compose([\n",
        "      transforms.Resize((IMAGE_SIZE, IMAGE_SIZE)),\n",
        "      transforms.CenterCrop((CROP_SIZE, CROP_SIZE)),\n",
        "      transforms.ToTensor(),\n",
        "      transforms.Normalize(mean=[0.485, 0.456, 0.406], std=[0.229, 0.224, 0.225])\n",
        "  ])"
      ],
      "metadata": {
        "id": "iFalTu8155LB"
      },
      "execution_count": null,
      "outputs": []
    },
    {
      "cell_type": "code",
      "source": [
        "class IC_DataSet(Dataset):\n",
        "  def __init__(self, df, encoder, tokenizer, transformation):\n",
        "    super(IC_DataSet, self).__init__()\n",
        "    self.df = df\n",
        "    self.encoder = encoder\n",
        "    self.tokenizer = tokenizer\n",
        "    self.transformation = transformation\n",
        "\n",
        "  def __len__(self):\n",
        "    return len(self.df)\n",
        "\n",
        "  def __getitem__(self, index):\n",
        "    row = self.df.iloc[index]\n",
        "\n",
        "    image_path = row.Images\n",
        "    captions = row.Captions_per_image\n",
        "\n",
        "    image = cv2.imread(image_path)\n",
        "    image = cv2.cvtColor(image, cv2.COLOR_BGR2RGB)\n",
        "    #image = Image.fromarray(image)\n",
        "    \"\"\"\n",
        "    if self.transformation:\n",
        "      image = self.transformation(image)\n",
        "      #image = np.transpose(image, axes=(2, 0, 1))\n",
        "      #image = image.permute(2, 0, 1)\n",
        "    \"\"\"\n",
        "\n",
        "\n",
        "    # image normalization and shape transposing\n",
        "    image = cv2.resize(image, (IMAGE_SIZE, IMAGE_SIZE))\n",
        "    image = np.transpose(image, axes=(2, 0, 1))\n",
        "\n",
        "    # randomly select one caption from the list of captions of the image\n",
        "    rnd_idx = np.random.randint(0, len(captions))\n",
        "    selected_caption = captions[rnd_idx]\n",
        "    # tokenize & encode the selected caption\n",
        "    encoded_caption = self.encoder(selected_caption)\n",
        "\n",
        "    # converting data to tensors\n",
        "    image = torch.Tensor(image) / 255.0\n",
        "    encoded_caption = torch.Tensor(encoded_caption).long()\n",
        "\n",
        "    return image, encoded_caption\n"
      ],
      "metadata": {
        "id": "lne4Blw46W3E"
      },
      "execution_count": null,
      "outputs": []
    },
    {
      "cell_type": "markdown",
      "source": [],
      "metadata": {
        "id": "hhoLzb0y6-nJ"
      }
    },
    {
      "cell_type": "code",
      "source": [
        "train_df, test_df = train_test_split(\n",
        "    df,\n",
        "    test_size=.2,\n",
        "    random_state=42\n",
        ")"
      ],
      "metadata": {
        "id": "2BAWI0qWI_VH"
      },
      "execution_count": null,
      "outputs": []
    },
    {
      "cell_type": "code",
      "source": [
        "trainset = IC_DataSet(train_df, encoder, tokenizer, transform())\n",
        "testset = IC_DataSet(test_df, encoder, tokenizer, transform())"
      ],
      "metadata": {
        "id": "HZj7FpqRM_IR"
      },
      "execution_count": null,
      "outputs": []
    },
    {
      "cell_type": "code",
      "source": [
        "trainset[0]"
      ],
      "metadata": {
        "colab": {
          "base_uri": "https://localhost:8080/"
        },
        "id": "3Hpv_3P7Nv_n",
        "outputId": "f5e9d356-c25a-48a1-87c6-5be2b328d51f"
      },
      "execution_count": null,
      "outputs": [
        {
          "output_type": "execute_result",
          "data": {
            "text/plain": [
              "(tensor([[[0.2314, 0.0745, 0.1255,  ..., 0.0824, 0.0941, 0.1255],\n",
              "          [0.1804, 0.1059, 0.1216,  ..., 0.1333, 0.1137, 0.1569],\n",
              "          [0.1333, 0.1176, 0.0784,  ..., 0.1882, 0.1647, 0.1137],\n",
              "          ...,\n",
              "          [0.0941, 0.1294, 0.0667,  ..., 0.0196, 0.0118, 0.0471],\n",
              "          [0.2235, 0.1020, 0.1765,  ..., 0.3137, 0.2588, 0.1725],\n",
              "          [0.1176, 0.2196, 0.1686,  ..., 0.1686, 0.2549, 0.3451]],\n",
              " \n",
              "         [[0.2392, 0.0824, 0.1373,  ..., 0.0667, 0.0784, 0.0980],\n",
              "          [0.2000, 0.1569, 0.1765,  ..., 0.1098, 0.0941, 0.1176],\n",
              "          [0.2078, 0.1804, 0.1255,  ..., 0.1373, 0.1333, 0.0941],\n",
              "          ...,\n",
              "          [0.0863, 0.0784, 0.0471,  ..., 0.0235, 0.0078, 0.0471],\n",
              "          [0.1608, 0.0392, 0.0784,  ..., 0.2588, 0.2078, 0.1216],\n",
              "          [0.0784, 0.1176, 0.1216,  ..., 0.1294, 0.1843, 0.2196]],\n",
              " \n",
              "         [[0.1686, 0.0706, 0.1255,  ..., 0.0824, 0.0627, 0.0627],\n",
              "          [0.1294, 0.0549, 0.1059,  ..., 0.0863, 0.0627, 0.0863],\n",
              "          [0.0941, 0.0784, 0.0471,  ..., 0.1333, 0.1373, 0.0902],\n",
              "          ...,\n",
              "          [0.0431, 0.0549, 0.0039,  ..., 0.0549, 0.0392, 0.0549],\n",
              "          [0.1216, 0.0196, 0.0588,  ..., 0.1412, 0.1176, 0.0353],\n",
              "          [0.0275, 0.0706, 0.0863,  ..., 0.1529, 0.2078, 0.1765]]]),\n",
              " tensor([  0,   4, 584, 232, 169,   4, 170,  90,  26,   4, 692,  17,   1,   2,\n",
              "           2,   2,   2,   2,   2,   2,   2,   2,   2,   2,   2]))"
            ]
          },
          "metadata": {},
          "execution_count": 137
        }
      ]
    },
    {
      "cell_type": "code",
      "source": [
        "show_image(trainset[3][0])"
      ],
      "metadata": {
        "id": "HGfZlqdkWlLf",
        "colab": {
          "base_uri": "https://localhost:8080/",
          "height": 435
        },
        "outputId": "c1015dbd-4310-401c-9b99-1ef3c2c37fa7"
      },
      "execution_count": null,
      "outputs": [
        {
          "output_type": "display_data",
          "data": {
            "text/plain": [
              "<Figure size 640x480 with 1 Axes>"
            ],
            "image/png": "[encoded data removed]"
          },
          "metadata": {}
        }
      ]
    },
    {
      "cell_type": "code",
      "source": [
        "trainloader = DataLoader(\n",
        "    trainset,\n",
        "    batch_size=BATCH_SIZE,\n",
        "    shuffle=True\n",
        ")\n",
        "\n",
        "testloader = DataLoader(\n",
        "    testset,\n",
        "    batch_size=BATCH_SIZE,\n",
        "    shuffle=True\n",
        ")"
      ],
      "metadata": {
        "id": "qSLRTVvHyfZ8"
      },
      "execution_count": null,
      "outputs": []
    },
    {
      "cell_type": "code",
      "source": [
        "print(f\"total no. of batches in trainloader : {len(trainloader)}\")\n",
        "print(f\"total no. of batches in testloader : {len(testloader)}\")"
      ],
      "metadata": {
        "colab": {
          "base_uri": "https://localhost:8080/"
        },
        "id": "v5bEQ_n8zLNN",
        "outputId": "25d6eee7-7641-4e73-de94-b194eb2620db"
      },
      "execution_count": null,
      "outputs": [
        {
          "output_type": "stream",
          "name": "stdout",
          "text": [
            "total no. of batches in trainloader : 405\n",
            "total no. of batches in testloader : 102\n"
          ]
        }
      ]
    },
    {
      "cell_type": "code",
      "source": [
        "for images, captions in trainloader:\n",
        "  break\n",
        "print(f\"One batch image shape : {images.shape}\")\n",
        "print(f\"One batch caption shape : {captions.shape}\")\n",
        "captions.shape"
      ],
      "metadata": {
        "colab": {
          "base_uri": "https://localhost:8080/"
        },
        "id": "8qr0vLcUzgw5",
        "outputId": "f6f79ac0-c976-4368-a540-2303de97898b"
      },
      "execution_count": null,
      "outputs": [
        {
          "output_type": "stream",
          "name": "stdout",
          "text": [
            "One batch image shape : torch.Size([16, 3, 320, 320])\n",
            "One batch caption shape : torch.Size([16, 25])\n"
          ]
        },
        {
          "output_type": "execute_result",
          "data": {
            "text/plain": [
              "torch.Size([16, 25])"
            ]
          },
          "metadata": {},
          "execution_count": 141
        }
      ]
    },
    {
      "cell_type": "markdown",
      "source": [
        "#***Creating the Image Captioning Model***"
      ],
      "metadata": {
        "id": "FzoLJH810jF5"
      }
    },
    {
      "cell_type": "code",
      "source": [
        "!pip install timm"
      ],
      "metadata": {
        "colab": {
          "base_uri": "https://localhost:8080/"
        },
        "id": "w_KMZz3xPbIP",
        "outputId": "31348488-75a2-4d24-abf5-6445b571362a"
      },
      "execution_count": null,
      "outputs": [
        {
          "output_type": "stream",
          "name": "stdout",
          "text": [
            "Collecting timm\n",
            "  Downloading timm-0.9.8-py3-none-any.whl (2.2 MB)\n",
            "\u001b[2K     \u001b[90m━━━━━━━━━━━━━━━━━━━━━━━━━━━━━━━━━━━━━━━━\u001b[0m \u001b[32m2.2/2.2 MB\u001b[0m \u001b[31m22.1 MB/s\u001b[0m eta \u001b[36m0:00:00\u001b[0m\n",
            "\u001b[?25hRequirement already satisfied: torch>=1.7 in /usr/local/lib/python3.10/dist-packages (from timm) (2.1.0+cu118)\n",
            "Requirement already satisfied: torchvision in /usr/local/lib/python3.10/dist-packages (from timm) (0.16.0+cu118)\n",
            "Requirement already satisfied: pyyaml in /usr/local/lib/python3.10/dist-packages (from timm) (6.0.1)\n",
            "Collecting huggingface-hub (from timm)\n",
            "  Downloading huggingface_hub-0.18.0-py3-none-any.whl (301 kB)\n",
            "\u001b[2K     \u001b[90m━━━━━━━━━━━━━━━━━━━━━━━━━━━━━━━━━━━━━━━━\u001b[0m \u001b[32m302.0/302.0 kB\u001b[0m \u001b[31m36.0 MB/s\u001b[0m eta \u001b[36m0:00:00\u001b[0m\n",
            "\u001b[?25hCollecting safetensors (from timm)\n",
            "  Downloading safetensors-0.4.0-cp310-cp310-manylinux_2_17_x86_64.manylinux2014_x86_64.whl (1.3 MB)\n",
            "\u001b[2K     \u001b[90m━━━━━━━━━━━━━━━━━━━━━━━━━━━━━━━━━━━━━━━━\u001b[0m \u001b[32m1.3/1.3 MB\u001b[0m \u001b[31m86.6 MB/s\u001b[0m eta \u001b[36m0:00:00\u001b[0m\n",
            "\u001b[?25hRequirement already satisfied: filelock in /usr/local/lib/python3.10/dist-packages (from torch>=1.7->timm) (3.12.4)\n",
            "Requirement already satisfied: typing-extensions in /usr/local/lib/python3.10/dist-packages (from torch>=1.7->timm) (4.5.0)\n",
            "Requirement already satisfied: sympy in /usr/local/lib/python3.10/dist-packages (from torch>=1.7->timm) (1.12)\n",
            "Requirement already satisfied: networkx in /usr/local/lib/python3.10/dist-packages (from torch>=1.7->timm) (3.2)\n",
            "Requirement already satisfied: jinja2 in /usr/local/lib/python3.10/dist-packages (from torch>=1.7->timm) (3.1.2)\n",
            "Requirement already satisfied: fsspec in /usr/local/lib/python3.10/dist-packages (from torch>=1.7->timm) (2023.6.0)\n",
            "Requirement already satisfied: triton==2.1.0 in /usr/local/lib/python3.10/dist-packages (from torch>=1.7->timm) (2.1.0)\n",
            "Requirement already satisfied: requests in /usr/local/lib/python3.10/dist-packages (from huggingface-hub->timm) (2.31.0)\n",
            "Requirement already satisfied: tqdm>=4.42.1 in /usr/local/lib/python3.10/dist-packages (from huggingface-hub->timm) (4.66.1)\n",
            "Requirement already satisfied: packaging>=20.9 in /usr/local/lib/python3.10/dist-packages (from huggingface-hub->timm) (23.2)\n",
            "Requirement already satisfied: numpy in /usr/local/lib/python3.10/dist-packages (from torchvision->timm) (1.23.5)\n",
            "Requirement already satisfied: pillow!=8.3.*,>=5.3.0 in /usr/local/lib/python3.10/dist-packages (from torchvision->timm) (9.4.0)\n",
            "Requirement already satisfied: MarkupSafe>=2.0 in /usr/local/lib/python3.10/dist-packages (from jinja2->torch>=1.7->timm) (2.1.3)\n",
            "Requirement already satisfied: charset-normalizer<4,>=2 in /usr/local/lib/python3.10/dist-packages (from requests->huggingface-hub->timm) (3.3.1)\n",
            "Requirement already satisfied: idna<4,>=2.5 in /usr/local/lib/python3.10/dist-packages (from requests->huggingface-hub->timm) (3.4)\n",
            "Requirement already satisfied: urllib3<3,>=1.21.1 in /usr/local/lib/python3.10/dist-packages (from requests->huggingface-hub->timm) (2.0.7)\n",
            "Requirement already satisfied: certifi>=2017.4.17 in /usr/local/lib/python3.10/dist-packages (from requests->huggingface-hub->timm) (2023.7.22)\n",
            "Requirement already satisfied: mpmath>=0.19 in /usr/local/lib/python3.10/dist-packages (from sympy->torch>=1.7->timm) (1.3.0)\n",
            "Installing collected packages: safetensors, huggingface-hub, timm\n",
            "Successfully installed huggingface-hub-0.18.0 safetensors-0.4.0 timm-0.9.8\n"
          ]
        }
      ]
    },
    {
      "cell_type": "code",
      "source": [
        "FEATURES_SIZE = 1280 # Efficientnet-bO\n",
        "FEATURES_SIZE_ = 25088 # VGG16\n",
        "EMBEDDING_SIZE = 512\n",
        "HIDDEN_SIZE = 512\n",
        "VOCAB_SIZE = len(lang.itos)\n",
        "print(VOCAB_SIZE)"
      ],
      "metadata": {
        "colab": {
          "base_uri": "https://localhost:8080/"
        },
        "id": "rIKqWo6qLrOK",
        "outputId": "e5cc10e8-d241-44d2-a32f-68d0d668268a"
      },
      "execution_count": null,
      "outputs": [
        {
          "output_type": "stream",
          "name": "stdout",
          "text": [
            "5159\n"
          ]
        }
      ]
    },
    {
      "cell_type": "code",
      "source": [
        "# meth 2\n",
        "\"\"\"\n",
        "class CNN_Encoder(nn.Module):\n",
        "\n",
        "  def __init__(self, model_name, pretrained=True, embedding_size=EMBEDDING_SIZE):\n",
        "    super(CNN_Encoder, self).__init__()\n",
        "    vgg16 = model.vgg16(pretrained=pretrained)\n",
        "\n",
        "    for param in vgg16.parameters():\n",
        "      param.requires_grad_(False)\n",
        "\n",
        "    self.vgg16 = nn.Sequential(*list(self.vgg16.children())[:-1])\n",
        "    self.ln = nn.Linear(\n",
        "        in_features=FEATURES_SIZE_,\n",
        "        out_features=HIDDEN_SIZE\n",
        "    )\n",
        "\n",
        "  def forward(self, images):\n",
        "    features = self.vgg16(images)\n",
        "    features = features.view(features.size(0), -1)\n",
        "    features = self.ln(features)\n",
        "    return features\n",
        "\"\"\""
      ],
      "metadata": {
        "colab": {
          "base_uri": "https://localhost:8080/",
          "height": 87
        },
        "id": "s94M30pJDDt_",
        "outputId": "74882487-be2c-4780-9f3f-b96645643171"
      },
      "execution_count": null,
      "outputs": [
        {
          "output_type": "execute_result",
          "data": {
            "text/plain": [
              "'\\nclass CNN_Encoder(nn.Module):\\n\\n  def __init__(self, model_name, pretrained=True, embedding_size=EMBEDDING_SIZE):\\n    super(CNN_Encoder, self).__init__()\\n    vgg16 = model.vgg16(pretrained=pretrained)\\n\\n    for param in vgg16.parameters():\\n      param.requires_grad_(False)\\n\\n    self.vgg16 = nn.Sequential(*list(self.vgg16.children())[:-1])\\n    self.ln = nn.Linear(\\n        in_features=FEATURES_SIZE_,\\n        out_features=HIDDEN_SIZE\\n    )\\n\\n  def forward(self, images):\\n    features = self.vgg16(images)\\n    features = features.view(features.size(0), -1)\\n    features = self.ln(features)\\n    return features\\n'"
            ],
            "application/vnd.google.colaboratory.intrinsic+json": {
              "type": "string"
            }
          },
          "metadata": {},
          "execution_count": 144
        }
      ]
    },
    {
      "cell_type": "code",
      "source": [],
      "metadata": {
        "id": "EPH6xRhEHMDe"
      },
      "execution_count": null,
      "outputs": []
    },
    {
      "cell_type": "code",
      "source": [],
      "metadata": {
        "id": "ZcHLA2oBHNMk"
      },
      "execution_count": null,
      "outputs": []
    },
    {
      "cell_type": "code",
      "source": [],
      "metadata": {
        "id": "cmZqQheFHNCR"
      },
      "execution_count": null,
      "outputs": []
    },
    {
      "cell_type": "code",
      "source": [],
      "metadata": {
        "id": "AB_2IpyEHM_Y"
      },
      "execution_count": null,
      "outputs": []
    },
    {
      "cell_type": "code",
      "source": [
        "\n",
        "class CNN_Encoder(nn.Module):\n",
        "\n",
        "  def __init__(self, model_name, pretrained=True, embedding_size=EMBEDDING_SIZE):\n",
        "    super(CNN_Encoder, self).__init__()\n",
        "    self.cnn = timm.create_model(\n",
        "        model_name=model_name,\n",
        "        pretrained=pretrained\n",
        "    )\n",
        "    self.features = nn.Sequential(*list(self.cnn.children())[:-1])\n",
        "    self.ln = nn.Linear(\n",
        "        in_features=FEATURES_SIZE,\n",
        "        out_features=HIDDEN_SIZE\n",
        "    )\n",
        "\n",
        "    for param in self.features.parameters():\n",
        "      param.requires_grad = False\n",
        "\n",
        "\n",
        "  def forward(self, images):\n",
        "    features = self.features(images)\n",
        "    features = self.ln(features)\n",
        "    return features\n"
      ],
      "metadata": {
        "id": "vYiyT54FzwNF"
      },
      "execution_count": null,
      "outputs": []
    },
    {
      "cell_type": "code",
      "source": [
        "import timm\n",
        "avail_pretrained_models = timm.list_models(pretrained=True)\n",
        "print(f\"there's {len(avail_pretrained_models)} pretrained models available\")"
      ],
      "metadata": {
        "colab": {
          "base_uri": "https://localhost:8080/"
        },
        "id": "bzuCGi2X20do",
        "outputId": "6ae884dd-c7ad-4374-ba9c-bbae92925ddb"
      },
      "execution_count": null,
      "outputs": [
        {
          "output_type": "stream",
          "name": "stdout",
          "text": [
            "there's 1260 pretrained models available\n"
          ]
        }
      ]
    },
    {
      "cell_type": "code",
      "source": [
        "\"\"\"\n",
        "a = 0\n",
        "for image, caption in trainloader:\n",
        "  a = cnn_encoder(image.to(DEVICE))\n",
        "  break\n",
        "print(a.shape)\n",
        "print(a[0].shape)\n",
        "print(a[0]) # features vector of the first image in the first batch\n",
        "\"\"\""
      ],
      "metadata": {
        "colab": {
          "base_uri": "https://localhost:8080/",
          "height": 53
        },
        "id": "9GtC7IArGD_E",
        "outputId": "930920fc-a701-4bc7-9db5-1e0c355c6450"
      },
      "execution_count": null,
      "outputs": [
        {
          "output_type": "execute_result",
          "data": {
            "text/plain": [
              "'\\na = 0\\nfor image, caption in trainloader:\\n  a = cnn_encoder(image.to(DEVICE))\\n  break\\nprint(a.shape)\\nprint(a[0].shape)\\nprint(a[0]) # features vector of the first image in the first batch\\n'"
            ],
            "application/vnd.google.colaboratory.intrinsic+json": {
              "type": "string"
            }
          },
          "metadata": {},
          "execution_count": 147
        }
      ]
    },
    {
      "cell_type": "code",
      "source": [
        "class LSTM_decoder(nn.Module):\n",
        "\n",
        "  def __init__(self, vocab_size, embedding_size, hidden_size, num_layers=3, dropout_rate=.6, teacher_forcing_ratio=.5):\n",
        "    super(LSTM_decoder, self).__init__()\n",
        "    self.hidden_size = hidden_size\n",
        "    self.num_layers = num_layers\n",
        "    self.teacher_forcing_ratio = teacher_forcing_ratio\n",
        "\n",
        "    self.embedding = nn.Embedding(\n",
        "        num_embeddings=vocab_size,\n",
        "        embedding_dim=embedding_size\n",
        "    )\n",
        "\n",
        "    self.dropout = nn.Dropout(\n",
        "        p=dropout_rate\n",
        "    )\n",
        "\n",
        "    self.lstm = nn.LSTM(\n",
        "        input_size=embedding_size,\n",
        "        hidden_size=hidden_size,\n",
        "        num_layers=num_layers,\n",
        "        batch_first=True\n",
        "    )\n",
        "    self.lr = nn.Linear(\n",
        "        in_features=hidden_size,\n",
        "        out_features=vocab_size\n",
        "    )\n",
        "    #self.softm = nn.Softmax(dim=2)\n",
        "\n",
        "  def forward(self, features, captions):\n",
        "    shapes = {}\n",
        "    # features shape : (batch_size, hidden_size) so in order to pass it as hidden state the shape shoud be --> (num_layers, batch_size, hidden_size)\n",
        "    batch_size = captions.size(0)\n",
        "    #initial_hidden = features.view(self.num_layers, batch_size, self.hidden_size)\n",
        "    #initial_cell = features.view(self.num_layers, batch_size, self.hidden_size)\n",
        "\n",
        "    # Reshape features to initialize LSTM states\n",
        "    initial_hidden = features.unsqueeze(0).repeat(self.num_layers, 1, 1)\n",
        "    initial_cell = features.unsqueeze(0).repeat(self.num_layers, 1, 1)\n",
        "\n",
        "\n",
        "    # initializing the input tokens to the lstm with the sos_token '<sos>'\n",
        "    in_tokens = captions[:, 0].unsqueeze(dim=1)\n",
        "    shapes[\"in_token\"] = in_tokens.shape\n",
        "\n",
        "    max_length = captions.size(1)\n",
        "    preds = []\n",
        "    #preds.append(in_tokens)\n",
        "    for t in range(1, max_length):\n",
        "      embedded = self.embedding(in_tokens) # Embedd the input tokens\n",
        "      shapes[\"embedding\"] = embedded.shape\n",
        "      # Apply dropout after the embedding layer\n",
        "      embedded = self.dropout(embedded)\n",
        "\n",
        "      output, _ = self.lstm(embedded.view(batch_size, 1, -1), (initial_hidden, initial_cell)) # Pass the embeddings to the lstm\n",
        "      shapes[\"lstm_out\"] = output.shape\n",
        "      output = self.lr(output) # Pass the lstm output to the linear layer (this is to map the hidden_size to the vocab_size)\n",
        "      shapes[\"linear_out\"] = output.shape\n",
        "      output = F.softmax(output, dim=-1) # Apply a softmax activation function on the output (distribution of word probabilities)\n",
        "      shapes[\"softmax_out\"] = output.shape\n",
        "      #pred_idxs = torch.argmax(output, dim=-1)# Get the index with the high probability\n",
        "      #shapes[\"pred_idxs\"] = pred_idxs.shape\n",
        "      preds.append(output)\n",
        "      # Apply teacher forcing\n",
        "      #if self.training:\n",
        "      #use_tf = (self.teacher_forcing_ratio > torch.rand(1).item())\n",
        "      #shapes[\"use_tf\"] = use_tf\n",
        "      #if use_tf:\n",
        "      in_tokens = captions[:, t]\n",
        "      #  shapes[\"use_tf_true\"] = in_tokens.shape\n",
        "      #else:\n",
        "        #in_tokens = torch.argmax(output, dim=-1).view(batch_size, 1)\n",
        "\n",
        "    #preds = torch.stack(preds).transpose(-1, 0)\n",
        "\n",
        "    preds_ = torch.cat(preds, dim=1)\n",
        "\n",
        "    return preds_, shapes"
      ],
      "metadata": {
        "id": "paY4lr8wBz0i"
      },
      "execution_count": null,
      "outputs": []
    },
    {
      "cell_type": "code",
      "source": [
        "class IC_Model(nn.Module):\n",
        "\n",
        "  def __init__(self, encoder, decoder):\n",
        "    super(IC_Model, self).__init__()\n",
        "    self.cnn_encoder = encoder\n",
        "    self.lstm_decoder = decoder\n",
        "\n",
        "  def forward(self, images, captions):\n",
        "    features = self.cnn_encoder(images)\n",
        "    outputs, _ = self.lstm_decoder(features, captions)\n",
        "    return outputs"
      ],
      "metadata": {
        "id": "0fPmEa6zDXeu"
      },
      "execution_count": null,
      "outputs": []
    },
    {
      "cell_type": "code",
      "source": [
        "cnn_encoder = CNN_Encoder(\n",
        "    model_name=ENCODER\n",
        ")\n",
        "cnn_encoder.to(DEVICE)"
      ],
      "metadata": {
        "colab": {
          "base_uri": "https://localhost:8080/",
          "height": 1000,
          "referenced_widgets": [
            "19958f65e3184a9286e3a64b53146127",
            "caac4c04510d429a97b03165c237a0b1",
            "6125e71a25b446ec92edcdd4d3d099c5",
            "ee8ed49ceff5454da7d438e36bcbaaaa",
            "9ca90d763a13462eaaba89cafb7a2b5e",
            "37c49e2184ed420cadae3a35f4826c09",
            "9d77b9ddd8b34c30919e0279aac2f5b7",
            "cafd750d2ff645998430a4f0ffd1ffad",
            "9cee82d37fa24e3ca43633b391b21774",
            "64a10b4f75a64995abe09d65405ea95e",
            "8c0408e8b85740df9b608283e4fce303"
          ]
        },
        "id": "sGLJNJEoICoW",
        "outputId": "f3835244-e20d-42ed-dd5f-c0c94d7d80fb"
      },
      "execution_count": null,
      "outputs": [
        {
          "output_type": "display_data",
          "data": {
            "text/plain": [
              "model.safetensors:   0%|          | 0.00/21.4M [00:00<?, ?B/s]"
            ],
            "application/vnd.jupyter.widget-view+json": {
              "version_major": 2,
              "version_minor": 0,
              "model_id": "19958f65e3184a9286e3a64b53146127"
            }
          },
          "metadata": {}
        },
        {
          "output_type": "execute_result",
          "data": {
            "text/plain": [
              "CNN_Encoder(\n",
              "  (cnn): EfficientNet(\n",
              "    (conv_stem): Conv2d(3, 32, kernel_size=(3, 3), stride=(2, 2), padding=(1, 1), bias=False)\n",
              "    (bn1): BatchNormAct2d(\n",
              "      32, eps=1e-05, momentum=0.1, affine=True, track_running_stats=True\n",
              "      (drop): Identity()\n",
              "      (act): SiLU(inplace=True)\n",
              "    )\n",
              "    (blocks): Sequential(\n",
              "      (0): Sequential(\n",
              "        (0): DepthwiseSeparableConv(\n",
              "          (conv_dw): Conv2d(32, 32, kernel_size=(3, 3), stride=(1, 1), padding=(1, 1), groups=32, bias=False)\n",
              "          (bn1): BatchNormAct2d(\n",
              "            32, eps=1e-05, momentum=0.1, affine=True, track_running_stats=True\n",
              "            (drop): Identity()\n",
              "            (act): SiLU(inplace=True)\n",
              "          )\n",
              "          (se): SqueezeExcite(\n",
              "            (conv_reduce): Conv2d(32, 8, kernel_size=(1, 1), stride=(1, 1))\n",
              "            (act1): SiLU(inplace=True)\n",
              "            (conv_expand): Conv2d(8, 32, kernel_size=(1, 1), stride=(1, 1))\n",
              "            (gate): Sigmoid()\n",
              "          )\n",
              "          (conv_pw): Conv2d(32, 16, kernel_size=(1, 1), stride=(1, 1), bias=False)\n",
              "          (bn2): BatchNormAct2d(\n",
              "            16, eps=1e-05, momentum=0.1, affine=True, track_running_stats=True\n",
              "            (drop): Identity()\n",
              "            (act): Identity()\n",
              "          )\n",
              "          (drop_path): Identity()\n",
              "        )\n",
              "      )\n",
              "      (1): Sequential(\n",
              "        (0): InvertedResidual(\n",
              "          (conv_pw): Conv2d(16, 96, kernel_size=(1, 1), stride=(1, 1), bias=False)\n",
              "          (bn1): BatchNormAct2d(\n",
              "            96, eps=1e-05, momentum=0.1, affine=True, track_running_stats=True\n",
              "            (drop): Identity()\n",
              "            (act): SiLU(inplace=True)\n",
              "          )\n",
              "          (conv_dw): Conv2d(96, 96, kernel_size=(3, 3), stride=(2, 2), padding=(1, 1), groups=96, bias=False)\n",
              "          (bn2): BatchNormAct2d(\n",
              "            96, eps=1e-05, momentum=0.1, affine=True, track_running_stats=True\n",
              "            (drop): Identity()\n",
              "            (act): SiLU(inplace=True)\n",
              "          )\n",
              "          (se): SqueezeExcite(\n",
              "            (conv_reduce): Conv2d(96, 4, kernel_size=(1, 1), stride=(1, 1))\n",
              "            (act1): SiLU(inplace=True)\n",
              "            (conv_expand): Conv2d(4, 96, kernel_size=(1, 1), stride=(1, 1))\n",
              "            (gate): Sigmoid()\n",
              "          )\n",
              "          (conv_pwl): Conv2d(96, 24, kernel_size=(1, 1), stride=(1, 1), bias=False)\n",
              "          (bn3): BatchNormAct2d(\n",
              "            24, eps=1e-05, momentum=0.1, affine=True, track_running_stats=True\n",
              "            (drop): Identity()\n",
              "            (act): Identity()\n",
              "          )\n",
              "          (drop_path): Identity()\n",
              "        )\n",
              "        (1): InvertedResidual(\n",
              "          (conv_pw): Conv2d(24, 144, kernel_size=(1, 1), stride=(1, 1), bias=False)\n",
              "          (bn1): BatchNormAct2d(\n",
              "            144, eps=1e-05, momentum=0.1, affine=True, track_running_stats=True\n",
              "            (drop): Identity()\n",
              "            (act): SiLU(inplace=True)\n",
              "          )\n",
              "          (conv_dw): Conv2d(144, 144, kernel_size=(3, 3), stride=(1, 1), padding=(1, 1), groups=144, bias=False)\n",
              "          (bn2): BatchNormAct2d(\n",
              "            144, eps=1e-05, momentum=0.1, affine=True, track_running_stats=True\n",
              "            (drop): Identity()\n",
              "            (act): SiLU(inplace=True)\n",
              "          )\n",
              "          (se): SqueezeExcite(\n",
              "            (conv_reduce): Conv2d(144, 6, kernel_size=(1, 1), stride=(1, 1))\n",
              "            (act1): SiLU(inplace=True)\n",
              "            (conv_expand): Conv2d(6, 144, kernel_size=(1, 1), stride=(1, 1))\n",
              "            (gate): Sigmoid()\n",
              "          )\n",
              "          (conv_pwl): Conv2d(144, 24, kernel_size=(1, 1), stride=(1, 1), bias=False)\n",
              "          (bn3): BatchNormAct2d(\n",
              "            24, eps=1e-05, momentum=0.1, affine=True, track_running_stats=True\n",
              "            (drop): Identity()\n",
              "            (act): Identity()\n",
              "          )\n",
              "          (drop_path): Identity()\n",
              "        )\n",
              "      )\n",
              "      (2): Sequential(\n",
              "        (0): InvertedResidual(\n",
              "          (conv_pw): Conv2d(24, 144, kernel_size=(1, 1), stride=(1, 1), bias=False)\n",
              "          (bn1): BatchNormAct2d(\n",
              "            144, eps=1e-05, momentum=0.1, affine=True, track_running_stats=True\n",
              "            (drop): Identity()\n",
              "            (act): SiLU(inplace=True)\n",
              "          )\n",
              "          (conv_dw): Conv2d(144, 144, kernel_size=(5, 5), stride=(2, 2), padding=(2, 2), groups=144, bias=False)\n",
              "          (bn2): BatchNormAct2d(\n",
              "            144, eps=1e-05, momentum=0.1, affine=True, track_running_stats=True\n",
              "            (drop): Identity()\n",
              "            (act): SiLU(inplace=True)\n",
              "          )\n",
              "          (se): SqueezeExcite(\n",
              "            (conv_reduce): Conv2d(144, 6, kernel_size=(1, 1), stride=(1, 1))\n",
              "            (act1): SiLU(inplace=True)\n",
              "            (conv_expand): Conv2d(6, 144, kernel_size=(1, 1), stride=(1, 1))\n",
              "            (gate): Sigmoid()\n",
              "          )\n",
              "          (conv_pwl): Conv2d(144, 40, kernel_size=(1, 1), stride=(1, 1), bias=False)\n",
              "          (bn3): BatchNormAct2d(\n",
              "            40, eps=1e-05, momentum=0.1, affine=True, track_running_stats=True\n",
              "            (drop): Identity()\n",
              "            (act): Identity()\n",
              "          )\n",
              "          (drop_path): Identity()\n",
              "        )\n",
              "        (1): InvertedResidual(\n",
              "          (conv_pw): Conv2d(40, 240, kernel_size=(1, 1), stride=(1, 1), bias=False)\n",
              "          (bn1): BatchNormAct2d(\n",
              "            240, eps=1e-05, momentum=0.1, affine=True, track_running_stats=True\n",
              "            (drop): Identity()\n",
              "            (act): SiLU(inplace=True)\n",
              "          )\n",
              "          (conv_dw): Conv2d(240, 240, kernel_size=(5, 5), stride=(1, 1), padding=(2, 2), groups=240, bias=False)\n",
              "          (bn2): BatchNormAct2d(\n",
              "            240, eps=1e-05, momentum=0.1, affine=True, track_running_stats=True\n",
              "            (drop): Identity()\n",
              "            (act): SiLU(inplace=True)\n",
              "          )\n",
              "          (se): SqueezeExcite(\n",
              "            (conv_reduce): Conv2d(240, 10, kernel_size=(1, 1), stride=(1, 1))\n",
              "            (act1): SiLU(inplace=True)\n",
              "            (conv_expand): Conv2d(10, 240, kernel_size=(1, 1), stride=(1, 1))\n",
              "            (gate): Sigmoid()\n",
              "          )\n",
              "          (conv_pwl): Conv2d(240, 40, kernel_size=(1, 1), stride=(1, 1), bias=False)\n",
              "          (bn3): BatchNormAct2d(\n",
              "            40, eps=1e-05, momentum=0.1, affine=True, track_running_stats=True\n",
              "            (drop): Identity()\n",
              "            (act): Identity()\n",
              "          )\n",
              "          (drop_path): Identity()\n",
              "        )\n",
              "      )\n",
              "      (3): Sequential(\n",
              "        (0): InvertedResidual(\n",
              "          (conv_pw): Conv2d(40, 240, kernel_size=(1, 1), stride=(1, 1), bias=False)\n",
              "          (bn1): BatchNormAct2d(\n",
              "            240, eps=1e-05, momentum=0.1, affine=True, track_running_stats=True\n",
              "            (drop): Identity()\n",
              "            (act): SiLU(inplace=True)\n",
              "          )\n",
              "          (conv_dw): Conv2d(240, 240, kernel_size=(3, 3), stride=(2, 2), padding=(1, 1), groups=240, bias=False)\n",
              "          (bn2): BatchNormAct2d(\n",
              "            240, eps=1e-05, momentum=0.1, affine=True, track_running_stats=True\n",
              "            (drop): Identity()\n",
              "            (act): SiLU(inplace=True)\n",
              "          )\n",
              "          (se): SqueezeExcite(\n",
              "            (conv_reduce): Conv2d(240, 10, kernel_size=(1, 1), stride=(1, 1))\n",
              "            (act1): SiLU(inplace=True)\n",
              "            (conv_expand): Conv2d(10, 240, kernel_size=(1, 1), stride=(1, 1))\n",
              "            (gate): Sigmoid()\n",
              "          )\n",
              "          (conv_pwl): Conv2d(240, 80, kernel_size=(1, 1), stride=(1, 1), bias=False)\n",
              "          (bn3): BatchNormAct2d(\n",
              "            80, eps=1e-05, momentum=0.1, affine=True, track_running_stats=True\n",
              "            (drop): Identity()\n",
              "            (act): Identity()\n",
              "          )\n",
              "          (drop_path): Identity()\n",
              "        )\n",
              "        (1): InvertedResidual(\n",
              "          (conv_pw): Conv2d(80, 480, kernel_size=(1, 1), stride=(1, 1), bias=False)\n",
              "          (bn1): BatchNormAct2d(\n",
              "            480, eps=1e-05, momentum=0.1, affine=True, track_running_stats=True\n",
              "            (drop): Identity()\n",
              "            (act): SiLU(inplace=True)\n",
              "          )\n",
              "          (conv_dw): Conv2d(480, 480, kernel_size=(3, 3), stride=(1, 1), padding=(1, 1), groups=480, bias=False)\n",
              "          (bn2): BatchNormAct2d(\n",
              "            480, eps=1e-05, momentum=0.1, affine=True, track_running_stats=True\n",
              "            (drop): Identity()\n",
              "            (act): SiLU(inplace=True)\n",
              "          )\n",
              "          (se): SqueezeExcite(\n",
              "            (conv_reduce): Conv2d(480, 20, kernel_size=(1, 1), stride=(1, 1))\n",
              "            (act1): SiLU(inplace=True)\n",
              "            (conv_expand): Conv2d(20, 480, kernel_size=(1, 1), stride=(1, 1))\n",
              "            (gate): Sigmoid()\n",
              "          )\n",
              "          (conv_pwl): Conv2d(480, 80, kernel_size=(1, 1), stride=(1, 1), bias=False)\n",
              "          (bn3): BatchNormAct2d(\n",
              "            80, eps=1e-05, momentum=0.1, affine=True, track_running_stats=True\n",
              "            (drop): Identity()\n",
              "            (act): Identity()\n",
              "          )\n",
              "          (drop_path): Identity()\n",
              "        )\n",
              "        (2): InvertedResidual(\n",
              "          (conv_pw): Conv2d(80, 480, kernel_size=(1, 1), stride=(1, 1), bias=False)\n",
              "          (bn1): BatchNormAct2d(\n",
              "            480, eps=1e-05, momentum=0.1, affine=True, track_running_stats=True\n",
              "            (drop): Identity()\n",
              "            (act): SiLU(inplace=True)\n",
              "          )\n",
              "          (conv_dw): Conv2d(480, 480, kernel_size=(3, 3), stride=(1, 1), padding=(1, 1), groups=480, bias=False)\n",
              "          (bn2): BatchNormAct2d(\n",
              "            480, eps=1e-05, momentum=0.1, affine=True, track_running_stats=True\n",
              "            (drop): Identity()\n",
              "            (act): SiLU(inplace=True)\n",
              "          )\n",
              "          (se): SqueezeExcite(\n",
              "            (conv_reduce): Conv2d(480, 20, kernel_size=(1, 1), stride=(1, 1))\n",
              "            (act1): SiLU(inplace=True)\n",
              "            (conv_expand): Conv2d(20, 480, kernel_size=(1, 1), stride=(1, 1))\n",
              "            (gate): Sigmoid()\n",
              "          )\n",
              "          (conv_pwl): Conv2d(480, 80, kernel_size=(1, 1), stride=(1, 1), bias=False)\n",
              "          (bn3): BatchNormAct2d(\n",
              "            80, eps=1e-05, momentum=0.1, affine=True, track_running_stats=True\n",
              "            (drop): Identity()\n",
              "            (act): Identity()\n",
              "          )\n",
              "          (drop_path): Identity()\n",
              "        )\n",
              "      )\n",
              "      (4): Sequential(\n",
              "        (0): InvertedResidual(\n",
              "          (conv_pw): Conv2d(80, 480, kernel_size=(1, 1), stride=(1, 1), bias=False)\n",
              "          (bn1): BatchNormAct2d(\n",
              "            480, eps=1e-05, momentum=0.1, affine=True, track_running_stats=True\n",
              "            (drop): Identity()\n",
              "            (act): SiLU(inplace=True)\n",
              "          )\n",
              "          (conv_dw): Conv2d(480, 480, kernel_size=(5, 5), stride=(1, 1), padding=(2, 2), groups=480, bias=False)\n",
              "          (bn2): BatchNormAct2d(\n",
              "            480, eps=1e-05, momentum=0.1, affine=True, track_running_stats=True\n",
              "            (drop): Identity()\n",
              "            (act): SiLU(inplace=True)\n",
              "          )\n",
              "          (se): SqueezeExcite(\n",
              "            (conv_reduce): Conv2d(480, 20, kernel_size=(1, 1), stride=(1, 1))\n",
              "            (act1): SiLU(inplace=True)\n",
              "            (conv_expand): Conv2d(20, 480, kernel_size=(1, 1), stride=(1, 1))\n",
              "            (gate): Sigmoid()\n",
              "          )\n",
              "          (conv_pwl): Conv2d(480, 112, kernel_size=(1, 1), stride=(1, 1), bias=False)\n",
              "          (bn3): BatchNormAct2d(\n",
              "            112, eps=1e-05, momentum=0.1, affine=True, track_running_stats=True\n",
              "            (drop): Identity()\n",
              "            (act): Identity()\n",
              "          )\n",
              "          (drop_path): Identity()\n",
              "        )\n",
              "        (1): InvertedResidual(\n",
              "          (conv_pw): Conv2d(112, 672, kernel_size=(1, 1), stride=(1, 1), bias=False)\n",
              "          (bn1): BatchNormAct2d(\n",
              "            672, eps=1e-05, momentum=0.1, affine=True, track_running_stats=True\n",
              "            (drop): Identity()\n",
              "            (act): SiLU(inplace=True)\n",
              "          )\n",
              "          (conv_dw): Conv2d(672, 672, kernel_size=(5, 5), stride=(1, 1), padding=(2, 2), groups=672, bias=False)\n",
              "          (bn2): BatchNormAct2d(\n",
              "            672, eps=1e-05, momentum=0.1, affine=True, track_running_stats=True\n",
              "            (drop): Identity()\n",
              "            (act): SiLU(inplace=True)\n",
              "          )\n",
              "          (se): SqueezeExcite(\n",
              "            (conv_reduce): Conv2d(672, 28, kernel_size=(1, 1), stride=(1, 1))\n",
              "            (act1): SiLU(inplace=True)\n",
              "            (conv_expand): Conv2d(28, 672, kernel_size=(1, 1), stride=(1, 1))\n",
              "            (gate): Sigmoid()\n",
              "          )\n",
              "          (conv_pwl): Conv2d(672, 112, kernel_size=(1, 1), stride=(1, 1), bias=False)\n",
              "          (bn3): BatchNormAct2d(\n",
              "            112, eps=1e-05, momentum=0.1, affine=True, track_running_stats=True\n",
              "            (drop): Identity()\n",
              "            (act): Identity()\n",
              "          )\n",
              "          (drop_path): Identity()\n",
              "        )\n",
              "        (2): InvertedResidual(\n",
              "          (conv_pw): Conv2d(112, 672, kernel_size=(1, 1), stride=(1, 1), bias=False)\n",
              "          (bn1): BatchNormAct2d(\n",
              "            672, eps=1e-05, momentum=0.1, affine=True, track_running_stats=True\n",
              "            (drop): Identity()\n",
              "            (act): SiLU(inplace=True)\n",
              "          )\n",
              "          (conv_dw): Conv2d(672, 672, kernel_size=(5, 5), stride=(1, 1), padding=(2, 2), groups=672, bias=False)\n",
              "          (bn2): BatchNormAct2d(\n",
              "            672, eps=1e-05, momentum=0.1, affine=True, track_running_stats=True\n",
              "            (drop): Identity()\n",
              "            (act): SiLU(inplace=True)\n",
              "          )\n",
              "          (se): SqueezeExcite(\n",
              "            (conv_reduce): Conv2d(672, 28, kernel_size=(1, 1), stride=(1, 1))\n",
              "            (act1): SiLU(inplace=True)\n",
              "            (conv_expand): Conv2d(28, 672, kernel_size=(1, 1), stride=(1, 1))\n",
              "            (gate): Sigmoid()\n",
              "          )\n",
              "          (conv_pwl): Conv2d(672, 112, kernel_size=(1, 1), stride=(1, 1), bias=False)\n",
              "          (bn3): BatchNormAct2d(\n",
              "            112, eps=1e-05, momentum=0.1, affine=True, track_running_stats=True\n",
              "            (drop): Identity()\n",
              "            (act): Identity()\n",
              "          )\n",
              "          (drop_path): Identity()\n",
              "        )\n",
              "      )\n",
              "      (5): Sequential(\n",
              "        (0): InvertedResidual(\n",
              "          (conv_pw): Conv2d(112, 672, kernel_size=(1, 1), stride=(1, 1), bias=False)\n",
              "          (bn1): BatchNormAct2d(\n",
              "            672, eps=1e-05, momentum=0.1, affine=True, track_running_stats=True\n",
              "            (drop): Identity()\n",
              "            (act): SiLU(inplace=True)\n",
              "          )\n",
              "          (conv_dw): Conv2d(672, 672, kernel_size=(5, 5), stride=(2, 2), padding=(2, 2), groups=672, bias=False)\n",
              "          (bn2): BatchNormAct2d(\n",
              "            672, eps=1e-05, momentum=0.1, affine=True, track_running_stats=True\n",
              "            (drop): Identity()\n",
              "            (act): SiLU(inplace=True)\n",
              "          )\n",
              "          (se): SqueezeExcite(\n",
              "            (conv_reduce): Conv2d(672, 28, kernel_size=(1, 1), stride=(1, 1))\n",
              "            (act1): SiLU(inplace=True)\n",
              "            (conv_expand): Conv2d(28, 672, kernel_size=(1, 1), stride=(1, 1))\n",
              "            (gate): Sigmoid()\n",
              "          )\n",
              "          (conv_pwl): Conv2d(672, 192, kernel_size=(1, 1), stride=(1, 1), bias=False)\n",
              "          (bn3): BatchNormAct2d(\n",
              "            192, eps=1e-05, momentum=0.1, affine=True, track_running_stats=True\n",
              "            (drop): Identity()\n",
              "            (act): Identity()\n",
              "          )\n",
              "          (drop_path): Identity()\n",
              "        )\n",
              "        (1): InvertedResidual(\n",
              "          (conv_pw): Conv2d(192, 1152, kernel_size=(1, 1), stride=(1, 1), bias=False)\n",
              "          (bn1): BatchNormAct2d(\n",
              "            1152, eps=1e-05, momentum=0.1, affine=True, track_running_stats=True\n",
              "            (drop): Identity()\n",
              "            (act): SiLU(inplace=True)\n",
              "          )\n",
              "          (conv_dw): Conv2d(1152, 1152, kernel_size=(5, 5), stride=(1, 1), padding=(2, 2), groups=1152, bias=False)\n",
              "          (bn2): BatchNormAct2d(\n",
              "            1152, eps=1e-05, momentum=0.1, affine=True, track_running_stats=True\n",
              "            (drop): Identity()\n",
              "            (act): SiLU(inplace=True)\n",
              "          )\n",
              "          (se): SqueezeExcite(\n",
              "            (conv_reduce): Conv2d(1152, 48, kernel_size=(1, 1), stride=(1, 1))\n",
              "            (act1): SiLU(inplace=True)\n",
              "            (conv_expand): Conv2d(48, 1152, kernel_size=(1, 1), stride=(1, 1))\n",
              "            (gate): Sigmoid()\n",
              "          )\n",
              "          (conv_pwl): Conv2d(1152, 192, kernel_size=(1, 1), stride=(1, 1), bias=False)\n",
              "          (bn3): BatchNormAct2d(\n",
              "            192, eps=1e-05, momentum=0.1, affine=True, track_running_stats=True\n",
              "            (drop): Identity()\n",
              "            (act): Identity()\n",
              "          )\n",
              "          (drop_path): Identity()\n",
              "        )\n",
              "        (2): InvertedResidual(\n",
              "          (conv_pw): Conv2d(192, 1152, kernel_size=(1, 1), stride=(1, 1), bias=False)\n",
              "          (bn1): BatchNormAct2d(\n",
              "            1152, eps=1e-05, momentum=0.1, affine=True, track_running_stats=True\n",
              "            (drop): Identity()\n",
              "            (act): SiLU(inplace=True)\n",
              "          )\n",
              "          (conv_dw): Conv2d(1152, 1152, kernel_size=(5, 5), stride=(1, 1), padding=(2, 2), groups=1152, bias=False)\n",
              "          (bn2): BatchNormAct2d(\n",
              "            1152, eps=1e-05, momentum=0.1, affine=True, track_running_stats=True\n",
              "            (drop): Identity()\n",
              "            (act): SiLU(inplace=True)\n",
              "          )\n",
              "          (se): SqueezeExcite(\n",
              "            (conv_reduce): Conv2d(1152, 48, kernel_size=(1, 1), stride=(1, 1))\n",
              "            (act1): SiLU(inplace=True)\n",
              "            (conv_expand): Conv2d(48, 1152, kernel_size=(1, 1), stride=(1, 1))\n",
              "            (gate): Sigmoid()\n",
              "          )\n",
              "          (conv_pwl): Conv2d(1152, 192, kernel_size=(1, 1), stride=(1, 1), bias=False)\n",
              "          (bn3): BatchNormAct2d(\n",
              "            192, eps=1e-05, momentum=0.1, affine=True, track_running_stats=True\n",
              "            (drop): Identity()\n",
              "            (act): Identity()\n",
              "          )\n",
              "          (drop_path): Identity()\n",
              "        )\n",
              "        (3): InvertedResidual(\n",
              "          (conv_pw): Conv2d(192, 1152, kernel_size=(1, 1), stride=(1, 1), bias=False)\n",
              "          (bn1): BatchNormAct2d(\n",
              "            1152, eps=1e-05, momentum=0.1, affine=True, track_running_stats=True\n",
              "            (drop): Identity()\n",
              "            (act): SiLU(inplace=True)\n",
              "          )\n",
              "          (conv_dw): Conv2d(1152, 1152, kernel_size=(5, 5), stride=(1, 1), padding=(2, 2), groups=1152, bias=False)\n",
              "          (bn2): BatchNormAct2d(\n",
              "            1152, eps=1e-05, momentum=0.1, affine=True, track_running_stats=True\n",
              "            (drop): Identity()\n",
              "            (act): SiLU(inplace=True)\n",
              "          )\n",
              "          (se): SqueezeExcite(\n",
              "            (conv_reduce): Conv2d(1152, 48, kernel_size=(1, 1), stride=(1, 1))\n",
              "            (act1): SiLU(inplace=True)\n",
              "            (conv_expand): Conv2d(48, 1152, kernel_size=(1, 1), stride=(1, 1))\n",
              "            (gate): Sigmoid()\n",
              "          )\n",
              "          (conv_pwl): Conv2d(1152, 192, kernel_size=(1, 1), stride=(1, 1), bias=False)\n",
              "          (bn3): BatchNormAct2d(\n",
              "            192, eps=1e-05, momentum=0.1, affine=True, track_running_stats=True\n",
              "            (drop): Identity()\n",
              "            (act): Identity()\n",
              "          )\n",
              "          (drop_path): Identity()\n",
              "        )\n",
              "      )\n",
              "      (6): Sequential(\n",
              "        (0): InvertedResidual(\n",
              "          (conv_pw): Conv2d(192, 1152, kernel_size=(1, 1), stride=(1, 1), bias=False)\n",
              "          (bn1): BatchNormAct2d(\n",
              "            1152, eps=1e-05, momentum=0.1, affine=True, track_running_stats=True\n",
              "            (drop): Identity()\n",
              "            (act): SiLU(inplace=True)\n",
              "          )\n",
              "          (conv_dw): Conv2d(1152, 1152, kernel_size=(3, 3), stride=(1, 1), padding=(1, 1), groups=1152, bias=False)\n",
              "          (bn2): BatchNormAct2d(\n",
              "            1152, eps=1e-05, momentum=0.1, affine=True, track_running_stats=True\n",
              "            (drop): Identity()\n",
              "            (act): SiLU(inplace=True)\n",
              "          )\n",
              "          (se): SqueezeExcite(\n",
              "            (conv_reduce): Conv2d(1152, 48, kernel_size=(1, 1), stride=(1, 1))\n",
              "            (act1): SiLU(inplace=True)\n",
              "            (conv_expand): Conv2d(48, 1152, kernel_size=(1, 1), stride=(1, 1))\n",
              "            (gate): Sigmoid()\n",
              "          )\n",
              "          (conv_pwl): Conv2d(1152, 320, kernel_size=(1, 1), stride=(1, 1), bias=False)\n",
              "          (bn3): BatchNormAct2d(\n",
              "            320, eps=1e-05, momentum=0.1, affine=True, track_running_stats=True\n",
              "            (drop): Identity()\n",
              "            (act): Identity()\n",
              "          )\n",
              "          (drop_path): Identity()\n",
              "        )\n",
              "      )\n",
              "    )\n",
              "    (conv_head): Conv2d(320, 1280, kernel_size=(1, 1), stride=(1, 1), bias=False)\n",
              "    (bn2): BatchNormAct2d(\n",
              "      1280, eps=1e-05, momentum=0.1, affine=True, track_running_stats=True\n",
              "      (drop): Identity()\n",
              "      (act): SiLU(inplace=True)\n",
              "    )\n",
              "    (global_pool): SelectAdaptivePool2d (pool_type=avg, flatten=Flatten(start_dim=1, end_dim=-1))\n",
              "    (classifier): Linear(in_features=1280, out_features=1000, bias=True)\n",
              "  )\n",
              "  (features): Sequential(\n",
              "    (0): Conv2d(3, 32, kernel_size=(3, 3), stride=(2, 2), padding=(1, 1), bias=False)\n",
              "    (1): BatchNormAct2d(\n",
              "      32, eps=1e-05, momentum=0.1, affine=True, track_running_stats=True\n",
              "      (drop): Identity()\n",
              "      (act): SiLU(inplace=True)\n",
              "    )\n",
              "    (2): Sequential(\n",
              "      (0): Sequential(\n",
              "        (0): DepthwiseSeparableConv(\n",
              "          (conv_dw): Conv2d(32, 32, kernel_size=(3, 3), stride=(1, 1), padding=(1, 1), groups=32, bias=False)\n",
              "          (bn1): BatchNormAct2d(\n",
              "            32, eps=1e-05, momentum=0.1, affine=True, track_running_stats=True\n",
              "            (drop): Identity()\n",
              "            (act): SiLU(inplace=True)\n",
              "          )\n",
              "          (se): SqueezeExcite(\n",
              "            (conv_reduce): Conv2d(32, 8, kernel_size=(1, 1), stride=(1, 1))\n",
              "            (act1): SiLU(inplace=True)\n",
              "            (conv_expand): Conv2d(8, 32, kernel_size=(1, 1), stride=(1, 1))\n",
              "            (gate): Sigmoid()\n",
              "          )\n",
              "          (conv_pw): Conv2d(32, 16, kernel_size=(1, 1), stride=(1, 1), bias=False)\n",
              "          (bn2): BatchNormAct2d(\n",
              "            16, eps=1e-05, momentum=0.1, affine=True, track_running_stats=True\n",
              "            (drop): Identity()\n",
              "            (act): Identity()\n",
              "          )\n",
              "          (drop_path): Identity()\n",
              "        )\n",
              "      )\n",
              "      (1): Sequential(\n",
              "        (0): InvertedResidual(\n",
              "          (conv_pw): Conv2d(16, 96, kernel_size=(1, 1), stride=(1, 1), bias=False)\n",
              "          (bn1): BatchNormAct2d(\n",
              "            96, eps=1e-05, momentum=0.1, affine=True, track_running_stats=True\n",
              "            (drop): Identity()\n",
              "            (act): SiLU(inplace=True)\n",
              "          )\n",
              "          (conv_dw): Conv2d(96, 96, kernel_size=(3, 3), stride=(2, 2), padding=(1, 1), groups=96, bias=False)\n",
              "          (bn2): BatchNormAct2d(\n",
              "            96, eps=1e-05, momentum=0.1, affine=True, track_running_stats=True\n",
              "            (drop): Identity()\n",
              "            (act): SiLU(inplace=True)\n",
              "          )\n",
              "          (se): SqueezeExcite(\n",
              "            (conv_reduce): Conv2d(96, 4, kernel_size=(1, 1), stride=(1, 1))\n",
              "            (act1): SiLU(inplace=True)\n",
              "            (conv_expand): Conv2d(4, 96, kernel_size=(1, 1), stride=(1, 1))\n",
              "            (gate): Sigmoid()\n",
              "          )\n",
              "          (conv_pwl): Conv2d(96, 24, kernel_size=(1, 1), stride=(1, 1), bias=False)\n",
              "          (bn3): BatchNormAct2d(\n",
              "            24, eps=1e-05, momentum=0.1, affine=True, track_running_stats=True\n",
              "            (drop): Identity()\n",
              "            (act): Identity()\n",
              "          )\n",
              "          (drop_path): Identity()\n",
              "        )\n",
              "        (1): InvertedResidual(\n",
              "          (conv_pw): Conv2d(24, 144, kernel_size=(1, 1), stride=(1, 1), bias=False)\n",
              "          (bn1): BatchNormAct2d(\n",
              "            144, eps=1e-05, momentum=0.1, affine=True, track_running_stats=True\n",
              "            (drop): Identity()\n",
              "            (act): SiLU(inplace=True)\n",
              "          )\n",
              "          (conv_dw): Conv2d(144, 144, kernel_size=(3, 3), stride=(1, 1), padding=(1, 1), groups=144, bias=False)\n",
              "          (bn2): BatchNormAct2d(\n",
              "            144, eps=1e-05, momentum=0.1, affine=True, track_running_stats=True\n",
              "            (drop): Identity()\n",
              "            (act): SiLU(inplace=True)\n",
              "          )\n",
              "          (se): SqueezeExcite(\n",
              "            (conv_reduce): Conv2d(144, 6, kernel_size=(1, 1), stride=(1, 1))\n",
              "            (act1): SiLU(inplace=True)\n",
              "            (conv_expand): Conv2d(6, 144, kernel_size=(1, 1), stride=(1, 1))\n",
              "            (gate): Sigmoid()\n",
              "          )\n",
              "          (conv_pwl): Conv2d(144, 24, kernel_size=(1, 1), stride=(1, 1), bias=False)\n",
              "          (bn3): BatchNormAct2d(\n",
              "            24, eps=1e-05, momentum=0.1, affine=True, track_running_stats=True\n",
              "            (drop): Identity()\n",
              "            (act): Identity()\n",
              "          )\n",
              "          (drop_path): Identity()\n",
              "        )\n",
              "      )\n",
              "      (2): Sequential(\n",
              "        (0): InvertedResidual(\n",
              "          (conv_pw): Conv2d(24, 144, kernel_size=(1, 1), stride=(1, 1), bias=False)\n",
              "          (bn1): BatchNormAct2d(\n",
              "            144, eps=1e-05, momentum=0.1, affine=True, track_running_stats=True\n",
              "            (drop): Identity()\n",
              "            (act): SiLU(inplace=True)\n",
              "          )\n",
              "          (conv_dw): Conv2d(144, 144, kernel_size=(5, 5), stride=(2, 2), padding=(2, 2), groups=144, bias=False)\n",
              "          (bn2): BatchNormAct2d(\n",
              "            144, eps=1e-05, momentum=0.1, affine=True, track_running_stats=True\n",
              "            (drop): Identity()\n",
              "            (act): SiLU(inplace=True)\n",
              "          )\n",
              "          (se): SqueezeExcite(\n",
              "            (conv_reduce): Conv2d(144, 6, kernel_size=(1, 1), stride=(1, 1))\n",
              "            (act1): SiLU(inplace=True)\n",
              "            (conv_expand): Conv2d(6, 144, kernel_size=(1, 1), stride=(1, 1))\n",
              "            (gate): Sigmoid()\n",
              "          )\n",
              "          (conv_pwl): Conv2d(144, 40, kernel_size=(1, 1), stride=(1, 1), bias=False)\n",
              "          (bn3): BatchNormAct2d(\n",
              "            40, eps=1e-05, momentum=0.1, affine=True, track_running_stats=True\n",
              "            (drop): Identity()\n",
              "            (act): Identity()\n",
              "          )\n",
              "          (drop_path): Identity()\n",
              "        )\n",
              "        (1): InvertedResidual(\n",
              "          (conv_pw): Conv2d(40, 240, kernel_size=(1, 1), stride=(1, 1), bias=False)\n",
              "          (bn1): BatchNormAct2d(\n",
              "            240, eps=1e-05, momentum=0.1, affine=True, track_running_stats=True\n",
              "            (drop): Identity()\n",
              "            (act): SiLU(inplace=True)\n",
              "          )\n",
              "          (conv_dw): Conv2d(240, 240, kernel_size=(5, 5), stride=(1, 1), padding=(2, 2), groups=240, bias=False)\n",
              "          (bn2): BatchNormAct2d(\n",
              "            240, eps=1e-05, momentum=0.1, affine=True, track_running_stats=True\n",
              "            (drop): Identity()\n",
              "            (act): SiLU(inplace=True)\n",
              "          )\n",
              "          (se): SqueezeExcite(\n",
              "            (conv_reduce): Conv2d(240, 10, kernel_size=(1, 1), stride=(1, 1))\n",
              "            (act1): SiLU(inplace=True)\n",
              "            (conv_expand): Conv2d(10, 240, kernel_size=(1, 1), stride=(1, 1))\n",
              "            (gate): Sigmoid()\n",
              "          )\n",
              "          (conv_pwl): Conv2d(240, 40, kernel_size=(1, 1), stride=(1, 1), bias=False)\n",
              "          (bn3): BatchNormAct2d(\n",
              "            40, eps=1e-05, momentum=0.1, affine=True, track_running_stats=True\n",
              "            (drop): Identity()\n",
              "            (act): Identity()\n",
              "          )\n",
              "          (drop_path): Identity()\n",
              "        )\n",
              "      )\n",
              "      (3): Sequential(\n",
              "        (0): InvertedResidual(\n",
              "          (conv_pw): Conv2d(40, 240, kernel_size=(1, 1), stride=(1, 1), bias=False)\n",
              "          (bn1): BatchNormAct2d(\n",
              "            240, eps=1e-05, momentum=0.1, affine=True, track_running_stats=True\n",
              "            (drop): Identity()\n",
              "            (act): SiLU(inplace=True)\n",
              "          )\n",
              "          (conv_dw): Conv2d(240, 240, kernel_size=(3, 3), stride=(2, 2), padding=(1, 1), groups=240, bias=False)\n",
              "          (bn2): BatchNormAct2d(\n",
              "            240, eps=1e-05, momentum=0.1, affine=True, track_running_stats=True\n",
              "            (drop): Identity()\n",
              "            (act): SiLU(inplace=True)\n",
              "          )\n",
              "          (se): SqueezeExcite(\n",
              "            (conv_reduce): Conv2d(240, 10, kernel_size=(1, 1), stride=(1, 1))\n",
              "            (act1): SiLU(inplace=True)\n",
              "            (conv_expand): Conv2d(10, 240, kernel_size=(1, 1), stride=(1, 1))\n",
              "            (gate): Sigmoid()\n",
              "          )\n",
              "          (conv_pwl): Conv2d(240, 80, kernel_size=(1, 1), stride=(1, 1), bias=False)\n",
              "          (bn3): BatchNormAct2d(\n",
              "            80, eps=1e-05, momentum=0.1, affine=True, track_running_stats=True\n",
              "            (drop): Identity()\n",
              "            (act): Identity()\n",
              "          )\n",
              "          (drop_path): Identity()\n",
              "        )\n",
              "        (1): InvertedResidual(\n",
              "          (conv_pw): Conv2d(80, 480, kernel_size=(1, 1), stride=(1, 1), bias=False)\n",
              "          (bn1): BatchNormAct2d(\n",
              "            480, eps=1e-05, momentum=0.1, affine=True, track_running_stats=True\n",
              "            (drop): Identity()\n",
              "            (act): SiLU(inplace=True)\n",
              "          )\n",
              "          (conv_dw): Conv2d(480, 480, kernel_size=(3, 3), stride=(1, 1), padding=(1, 1), groups=480, bias=False)\n",
              "          (bn2): BatchNormAct2d(\n",
              "            480, eps=1e-05, momentum=0.1, affine=True, track_running_stats=True\n",
              "            (drop): Identity()\n",
              "            (act): SiLU(inplace=True)\n",
              "          )\n",
              "          (se): SqueezeExcite(\n",
              "            (conv_reduce): Conv2d(480, 20, kernel_size=(1, 1), stride=(1, 1))\n",
              "            (act1): SiLU(inplace=True)\n",
              "            (conv_expand): Conv2d(20, 480, kernel_size=(1, 1), stride=(1, 1))\n",
              "            (gate): Sigmoid()\n",
              "          )\n",
              "          (conv_pwl): Conv2d(480, 80, kernel_size=(1, 1), stride=(1, 1), bias=False)\n",
              "          (bn3): BatchNormAct2d(\n",
              "            80, eps=1e-05, momentum=0.1, affine=True, track_running_stats=True\n",
              "            (drop): Identity()\n",
              "            (act): Identity()\n",
              "          )\n",
              "          (drop_path): Identity()\n",
              "        )\n",
              "        (2): InvertedResidual(\n",
              "          (conv_pw): Conv2d(80, 480, kernel_size=(1, 1), stride=(1, 1), bias=False)\n",
              "          (bn1): BatchNormAct2d(\n",
              "            480, eps=1e-05, momentum=0.1, affine=True, track_running_stats=True\n",
              "            (drop): Identity()\n",
              "            (act): SiLU(inplace=True)\n",
              "          )\n",
              "          (conv_dw): Conv2d(480, 480, kernel_size=(3, 3), stride=(1, 1), padding=(1, 1), groups=480, bias=False)\n",
              "          (bn2): BatchNormAct2d(\n",
              "            480, eps=1e-05, momentum=0.1, affine=True, track_running_stats=True\n",
              "            (drop): Identity()\n",
              "            (act): SiLU(inplace=True)\n",
              "          )\n",
              "          (se): SqueezeExcite(\n",
              "            (conv_reduce): Conv2d(480, 20, kernel_size=(1, 1), stride=(1, 1))\n",
              "            (act1): SiLU(inplace=True)\n",
              "            (conv_expand): Conv2d(20, 480, kernel_size=(1, 1), stride=(1, 1))\n",
              "            (gate): Sigmoid()\n",
              "          )\n",
              "          (conv_pwl): Conv2d(480, 80, kernel_size=(1, 1), stride=(1, 1), bias=False)\n",
              "          (bn3): BatchNormAct2d(\n",
              "            80, eps=1e-05, momentum=0.1, affine=True, track_running_stats=True\n",
              "            (drop): Identity()\n",
              "            (act): Identity()\n",
              "          )\n",
              "          (drop_path): Identity()\n",
              "        )\n",
              "      )\n",
              "      (4): Sequential(\n",
              "        (0): InvertedResidual(\n",
              "          (conv_pw): Conv2d(80, 480, kernel_size=(1, 1), stride=(1, 1), bias=False)\n",
              "          (bn1): BatchNormAct2d(\n",
              "            480, eps=1e-05, momentum=0.1, affine=True, track_running_stats=True\n",
              "            (drop): Identity()\n",
              "            (act): SiLU(inplace=True)\n",
              "          )\n",
              "          (conv_dw): Conv2d(480, 480, kernel_size=(5, 5), stride=(1, 1), padding=(2, 2), groups=480, bias=False)\n",
              "          (bn2): BatchNormAct2d(\n",
              "            480, eps=1e-05, momentum=0.1, affine=True, track_running_stats=True\n",
              "            (drop): Identity()\n",
              "            (act): SiLU(inplace=True)\n",
              "          )\n",
              "          (se): SqueezeExcite(\n",
              "            (conv_reduce): Conv2d(480, 20, kernel_size=(1, 1), stride=(1, 1))\n",
              "            (act1): SiLU(inplace=True)\n",
              "            (conv_expand): Conv2d(20, 480, kernel_size=(1, 1), stride=(1, 1))\n",
              "            (gate): Sigmoid()\n",
              "          )\n",
              "          (conv_pwl): Conv2d(480, 112, kernel_size=(1, 1), stride=(1, 1), bias=False)\n",
              "          (bn3): BatchNormAct2d(\n",
              "            112, eps=1e-05, momentum=0.1, affine=True, track_running_stats=True\n",
              "            (drop): Identity()\n",
              "            (act): Identity()\n",
              "          )\n",
              "          (drop_path): Identity()\n",
              "        )\n",
              "        (1): InvertedResidual(\n",
              "          (conv_pw): Conv2d(112, 672, kernel_size=(1, 1), stride=(1, 1), bias=False)\n",
              "          (bn1): BatchNormAct2d(\n",
              "            672, eps=1e-05, momentum=0.1, affine=True, track_running_stats=True\n",
              "            (drop): Identity()\n",
              "            (act): SiLU(inplace=True)\n",
              "          )\n",
              "          (conv_dw): Conv2d(672, 672, kernel_size=(5, 5), stride=(1, 1), padding=(2, 2), groups=672, bias=False)\n",
              "          (bn2): BatchNormAct2d(\n",
              "            672, eps=1e-05, momentum=0.1, affine=True, track_running_stats=True\n",
              "            (drop): Identity()\n",
              "            (act): SiLU(inplace=True)\n",
              "          )\n",
              "          (se): SqueezeExcite(\n",
              "            (conv_reduce): Conv2d(672, 28, kernel_size=(1, 1), stride=(1, 1))\n",
              "            (act1): SiLU(inplace=True)\n",
              "            (conv_expand): Conv2d(28, 672, kernel_size=(1, 1), stride=(1, 1))\n",
              "            (gate): Sigmoid()\n",
              "          )\n",
              "          (conv_pwl): Conv2d(672, 112, kernel_size=(1, 1), stride=(1, 1), bias=False)\n",
              "          (bn3): BatchNormAct2d(\n",
              "            112, eps=1e-05, momentum=0.1, affine=True, track_running_stats=True\n",
              "            (drop): Identity()\n",
              "            (act): Identity()\n",
              "          )\n",
              "          (drop_path): Identity()\n",
              "        )\n",
              "        (2): InvertedResidual(\n",
              "          (conv_pw): Conv2d(112, 672, kernel_size=(1, 1), stride=(1, 1), bias=False)\n",
              "          (bn1): BatchNormAct2d(\n",
              "            672, eps=1e-05, momentum=0.1, affine=True, track_running_stats=True\n",
              "            (drop): Identity()\n",
              "            (act): SiLU(inplace=True)\n",
              "          )\n",
              "          (conv_dw): Conv2d(672, 672, kernel_size=(5, 5), stride=(1, 1), padding=(2, 2), groups=672, bias=False)\n",
              "          (bn2): BatchNormAct2d(\n",
              "            672, eps=1e-05, momentum=0.1, affine=True, track_running_stats=True\n",
              "            (drop): Identity()\n",
              "            (act): SiLU(inplace=True)\n",
              "          )\n",
              "          (se): SqueezeExcite(\n",
              "            (conv_reduce): Conv2d(672, 28, kernel_size=(1, 1), stride=(1, 1))\n",
              "            (act1): SiLU(inplace=True)\n",
              "            (conv_expand): Conv2d(28, 672, kernel_size=(1, 1), stride=(1, 1))\n",
              "            (gate): Sigmoid()\n",
              "          )\n",
              "          (conv_pwl): Conv2d(672, 112, kernel_size=(1, 1), stride=(1, 1), bias=False)\n",
              "          (bn3): BatchNormAct2d(\n",
              "            112, eps=1e-05, momentum=0.1, affine=True, track_running_stats=True\n",
              "            (drop): Identity()\n",
              "            (act): Identity()\n",
              "          )\n",
              "          (drop_path): Identity()\n",
              "        )\n",
              "      )\n",
              "      (5): Sequential(\n",
              "        (0): InvertedResidual(\n",
              "          (conv_pw): Conv2d(112, 672, kernel_size=(1, 1), stride=(1, 1), bias=False)\n",
              "          (bn1): BatchNormAct2d(\n",
              "            672, eps=1e-05, momentum=0.1, affine=True, track_running_stats=True\n",
              "            (drop): Identity()\n",
              "            (act): SiLU(inplace=True)\n",
              "          )\n",
              "          (conv_dw): Conv2d(672, 672, kernel_size=(5, 5), stride=(2, 2), padding=(2, 2), groups=672, bias=False)\n",
              "          (bn2): BatchNormAct2d(\n",
              "            672, eps=1e-05, momentum=0.1, affine=True, track_running_stats=True\n",
              "            (drop): Identity()\n",
              "            (act): SiLU(inplace=True)\n",
              "          )\n",
              "          (se): SqueezeExcite(\n",
              "            (conv_reduce): Conv2d(672, 28, kernel_size=(1, 1), stride=(1, 1))\n",
              "            (act1): SiLU(inplace=True)\n",
              "            (conv_expand): Conv2d(28, 672, kernel_size=(1, 1), stride=(1, 1))\n",
              "            (gate): Sigmoid()\n",
              "          )\n",
              "          (conv_pwl): Conv2d(672, 192, kernel_size=(1, 1), stride=(1, 1), bias=False)\n",
              "          (bn3): BatchNormAct2d(\n",
              "            192, eps=1e-05, momentum=0.1, affine=True, track_running_stats=True\n",
              "            (drop): Identity()\n",
              "            (act): Identity()\n",
              "          )\n",
              "          (drop_path): Identity()\n",
              "        )\n",
              "        (1): InvertedResidual(\n",
              "          (conv_pw): Conv2d(192, 1152, kernel_size=(1, 1), stride=(1, 1), bias=False)\n",
              "          (bn1): BatchNormAct2d(\n",
              "            1152, eps=1e-05, momentum=0.1, affine=True, track_running_stats=True\n",
              "            (drop): Identity()\n",
              "            (act): SiLU(inplace=True)\n",
              "          )\n",
              "          (conv_dw): Conv2d(1152, 1152, kernel_size=(5, 5), stride=(1, 1), padding=(2, 2), groups=1152, bias=False)\n",
              "          (bn2): BatchNormAct2d(\n",
              "            1152, eps=1e-05, momentum=0.1, affine=True, track_running_stats=True\n",
              "            (drop): Identity()\n",
              "            (act): SiLU(inplace=True)\n",
              "          )\n",
              "          (se): SqueezeExcite(\n",
              "            (conv_reduce): Conv2d(1152, 48, kernel_size=(1, 1), stride=(1, 1))\n",
              "            (act1): SiLU(inplace=True)\n",
              "            (conv_expand): Conv2d(48, 1152, kernel_size=(1, 1), stride=(1, 1))\n",
              "            (gate): Sigmoid()\n",
              "          )\n",
              "          (conv_pwl): Conv2d(1152, 192, kernel_size=(1, 1), stride=(1, 1), bias=False)\n",
              "          (bn3): BatchNormAct2d(\n",
              "            192, eps=1e-05, momentum=0.1, affine=True, track_running_stats=True\n",
              "            (drop): Identity()\n",
              "            (act): Identity()\n",
              "          )\n",
              "          (drop_path): Identity()\n",
              "        )\n",
              "        (2): InvertedResidual(\n",
              "          (conv_pw): Conv2d(192, 1152, kernel_size=(1, 1), stride=(1, 1), bias=False)\n",
              "          (bn1): BatchNormAct2d(\n",
              "            1152, eps=1e-05, momentum=0.1, affine=True, track_running_stats=True\n",
              "            (drop): Identity()\n",
              "            (act): SiLU(inplace=True)\n",
              "          )\n",
              "          (conv_dw): Conv2d(1152, 1152, kernel_size=(5, 5), stride=(1, 1), padding=(2, 2), groups=1152, bias=False)\n",
              "          (bn2): BatchNormAct2d(\n",
              "            1152, eps=1e-05, momentum=0.1, affine=True, track_running_stats=True\n",
              "            (drop): Identity()\n",
              "            (act): SiLU(inplace=True)\n",
              "          )\n",
              "          (se): SqueezeExcite(\n",
              "            (conv_reduce): Conv2d(1152, 48, kernel_size=(1, 1), stride=(1, 1))\n",
              "            (act1): SiLU(inplace=True)\n",
              "            (conv_expand): Conv2d(48, 1152, kernel_size=(1, 1), stride=(1, 1))\n",
              "            (gate): Sigmoid()\n",
              "          )\n",
              "          (conv_pwl): Conv2d(1152, 192, kernel_size=(1, 1), stride=(1, 1), bias=False)\n",
              "          (bn3): BatchNormAct2d(\n",
              "            192, eps=1e-05, momentum=0.1, affine=True, track_running_stats=True\n",
              "            (drop): Identity()\n",
              "            (act): Identity()\n",
              "          )\n",
              "          (drop_path): Identity()\n",
              "        )\n",
              "        (3): InvertedResidual(\n",
              "          (conv_pw): Conv2d(192, 1152, kernel_size=(1, 1), stride=(1, 1), bias=False)\n",
              "          (bn1): BatchNormAct2d(\n",
              "            1152, eps=1e-05, momentum=0.1, affine=True, track_running_stats=True\n",
              "            (drop): Identity()\n",
              "            (act): SiLU(inplace=True)\n",
              "          )\n",
              "          (conv_dw): Conv2d(1152, 1152, kernel_size=(5, 5), stride=(1, 1), padding=(2, 2), groups=1152, bias=False)\n",
              "          (bn2): BatchNormAct2d(\n",
              "            1152, eps=1e-05, momentum=0.1, affine=True, track_running_stats=True\n",
              "            (drop): Identity()\n",
              "            (act): SiLU(inplace=True)\n",
              "          )\n",
              "          (se): SqueezeExcite(\n",
              "            (conv_reduce): Conv2d(1152, 48, kernel_size=(1, 1), stride=(1, 1))\n",
              "            (act1): SiLU(inplace=True)\n",
              "            (conv_expand): Conv2d(48, 1152, kernel_size=(1, 1), stride=(1, 1))\n",
              "            (gate): Sigmoid()\n",
              "          )\n",
              "          (conv_pwl): Conv2d(1152, 192, kernel_size=(1, 1), stride=(1, 1), bias=False)\n",
              "          (bn3): BatchNormAct2d(\n",
              "            192, eps=1e-05, momentum=0.1, affine=True, track_running_stats=True\n",
              "            (drop): Identity()\n",
              "            (act): Identity()\n",
              "          )\n",
              "          (drop_path): Identity()\n",
              "        )\n",
              "      )\n",
              "      (6): Sequential(\n",
              "        (0): InvertedResidual(\n",
              "          (conv_pw): Conv2d(192, 1152, kernel_size=(1, 1), stride=(1, 1), bias=False)\n",
              "          (bn1): BatchNormAct2d(\n",
              "            1152, eps=1e-05, momentum=0.1, affine=True, track_running_stats=True\n",
              "            (drop): Identity()\n",
              "            (act): SiLU(inplace=True)\n",
              "          )\n",
              "          (conv_dw): Conv2d(1152, 1152, kernel_size=(3, 3), stride=(1, 1), padding=(1, 1), groups=1152, bias=False)\n",
              "          (bn2): BatchNormAct2d(\n",
              "            1152, eps=1e-05, momentum=0.1, affine=True, track_running_stats=True\n",
              "            (drop): Identity()\n",
              "            (act): SiLU(inplace=True)\n",
              "          )\n",
              "          (se): SqueezeExcite(\n",
              "            (conv_reduce): Conv2d(1152, 48, kernel_size=(1, 1), stride=(1, 1))\n",
              "            (act1): SiLU(inplace=True)\n",
              "            (conv_expand): Conv2d(48, 1152, kernel_size=(1, 1), stride=(1, 1))\n",
              "            (gate): Sigmoid()\n",
              "          )\n",
              "          (conv_pwl): Conv2d(1152, 320, kernel_size=(1, 1), stride=(1, 1), bias=False)\n",
              "          (bn3): BatchNormAct2d(\n",
              "            320, eps=1e-05, momentum=0.1, affine=True, track_running_stats=True\n",
              "            (drop): Identity()\n",
              "            (act): Identity()\n",
              "          )\n",
              "          (drop_path): Identity()\n",
              "        )\n",
              "      )\n",
              "    )\n",
              "    (3): Conv2d(320, 1280, kernel_size=(1, 1), stride=(1, 1), bias=False)\n",
              "    (4): BatchNormAct2d(\n",
              "      1280, eps=1e-05, momentum=0.1, affine=True, track_running_stats=True\n",
              "      (drop): Identity()\n",
              "      (act): SiLU(inplace=True)\n",
              "    )\n",
              "    (5): SelectAdaptivePool2d (pool_type=avg, flatten=Flatten(start_dim=1, end_dim=-1))\n",
              "  )\n",
              "  (ln): Linear(in_features=1280, out_features=512, bias=True)\n",
              ")"
            ]
          },
          "metadata": {},
          "execution_count": 150
        }
      ]
    },
    {
      "cell_type": "code",
      "source": [
        "for images, captions in trainloader:\n",
        "  break\n",
        "features = cnn_encoder(images.to(DEVICE))\n",
        "captions = captions.to(DEVICE)"
      ],
      "metadata": {
        "id": "-jGkRcVdzvsA"
      },
      "execution_count": null,
      "outputs": []
    },
    {
      "cell_type": "code",
      "source": [
        "features.shape"
      ],
      "metadata": {
        "colab": {
          "base_uri": "https://localhost:8080/"
        },
        "id": "7Av1vekx0E1r",
        "outputId": "a2e35c6e-d4cb-4b14-b4f5-b71489d3ee5f"
      },
      "execution_count": null,
      "outputs": [
        {
          "output_type": "execute_result",
          "data": {
            "text/plain": [
              "torch.Size([16, 512])"
            ]
          },
          "metadata": {},
          "execution_count": 152
        }
      ]
    },
    {
      "cell_type": "code",
      "source": [],
      "metadata": {
        "id": "lqbrqUWM0HeH"
      },
      "execution_count": null,
      "outputs": []
    },
    {
      "cell_type": "code",
      "source": [
        "lstm_decoder = LSTM_decoder(\n",
        "    vocab_size=VOCAB_SIZE,\n",
        "    embedding_size=EMBEDDING_SIZE,\n",
        "    hidden_size=HIDDEN_SIZE,\n",
        ")\n",
        "lstm_decoder.to(DEVICE)"
      ],
      "metadata": {
        "colab": {
          "base_uri": "https://localhost:8080/"
        },
        "id": "GcIIeFZXICip",
        "outputId": "6b89f75f-fdb7-47e4-d8d7-f0c69ad677c4"
      },
      "execution_count": null,
      "outputs": [
        {
          "output_type": "execute_result",
          "data": {
            "text/plain": [
              "LSTM_decoder(\n",
              "  (embedding): Embedding(5159, 512)\n",
              "  (dropout): Dropout(p=0.6, inplace=False)\n",
              "  (lstm): LSTM(512, 512, num_layers=3, batch_first=True)\n",
              "  (lr): Linear(in_features=512, out_features=5159, bias=True)\n",
              ")"
            ]
          },
          "metadata": {},
          "execution_count": 153
        }
      ]
    },
    {
      "cell_type": "code",
      "source": [
        "#output, shapes = lstm_decoder(features, captions)"
      ],
      "metadata": {
        "id": "MNPI_6Bazr-C"
      },
      "execution_count": null,
      "outputs": []
    },
    {
      "cell_type": "code",
      "source": [
        "#output.shape"
      ],
      "metadata": {
        "id": "f1OesDzmzrxh"
      },
      "execution_count": null,
      "outputs": []
    },
    {
      "cell_type": "code",
      "source": [
        "#output"
      ],
      "metadata": {
        "id": "YkbqVJuEO-0s"
      },
      "execution_count": null,
      "outputs": []
    },
    {
      "cell_type": "code",
      "source": [
        "#shapes"
      ],
      "metadata": {
        "id": "OExWrpAJ6fb0"
      },
      "execution_count": null,
      "outputs": []
    },
    {
      "cell_type": "code",
      "source": [
        "model = IC_Model(\n",
        "    encoder=cnn_encoder,\n",
        "    decoder=lstm_decoder\n",
        ")\n",
        "model.to(DEVICE)"
      ],
      "metadata": {
        "colab": {
          "base_uri": "https://localhost:8080/"
        },
        "id": "gtvK5suiICfh",
        "outputId": "739fbd77-dee3-4b30-ef5f-ba9e554a4718"
      },
      "execution_count": null,
      "outputs": [
        {
          "output_type": "execute_result",
          "data": {
            "text/plain": [
              "IC_Model(\n",
              "  (cnn_encoder): CNN_Encoder(\n",
              "    (cnn): EfficientNet(\n",
              "      (conv_stem): Conv2d(3, 32, kernel_size=(3, 3), stride=(2, 2), padding=(1, 1), bias=False)\n",
              "      (bn1): BatchNormAct2d(\n",
              "        32, eps=1e-05, momentum=0.1, affine=True, track_running_stats=True\n",
              "        (drop): Identity()\n",
              "        (act): SiLU(inplace=True)\n",
              "      )\n",
              "      (blocks): Sequential(\n",
              "        (0): Sequential(\n",
              "          (0): DepthwiseSeparableConv(\n",
              "            (conv_dw): Conv2d(32, 32, kernel_size=(3, 3), stride=(1, 1), padding=(1, 1), groups=32, bias=False)\n",
              "            (bn1): BatchNormAct2d(\n",
              "              32, eps=1e-05, momentum=0.1, affine=True, track_running_stats=True\n",
              "              (drop): Identity()\n",
              "              (act): SiLU(inplace=True)\n",
              "            )\n",
              "            (se): SqueezeExcite(\n",
              "              (conv_reduce): Conv2d(32, 8, kernel_size=(1, 1), stride=(1, 1))\n",
              "              (act1): SiLU(inplace=True)\n",
              "              (conv_expand): Conv2d(8, 32, kernel_size=(1, 1), stride=(1, 1))\n",
              "              (gate): Sigmoid()\n",
              "            )\n",
              "            (conv_pw): Conv2d(32, 16, kernel_size=(1, 1), stride=(1, 1), bias=False)\n",
              "            (bn2): BatchNormAct2d(\n",
              "              16, eps=1e-05, momentum=0.1, affine=True, track_running_stats=True\n",
              "              (drop): Identity()\n",
              "              (act): Identity()\n",
              "            )\n",
              "            (drop_path): Identity()\n",
              "          )\n",
              "        )\n",
              "        (1): Sequential(\n",
              "          (0): InvertedResidual(\n",
              "            (conv_pw): Conv2d(16, 96, kernel_size=(1, 1), stride=(1, 1), bias=False)\n",
              "            (bn1): BatchNormAct2d(\n",
              "              96, eps=1e-05, momentum=0.1, affine=True, track_running_stats=True\n",
              "              (drop): Identity()\n",
              "              (act): SiLU(inplace=True)\n",
              "            )\n",
              "            (conv_dw): Conv2d(96, 96, kernel_size=(3, 3), stride=(2, 2), padding=(1, 1), groups=96, bias=False)\n",
              "            (bn2): BatchNormAct2d(\n",
              "              96, eps=1e-05, momentum=0.1, affine=True, track_running_stats=True\n",
              "              (drop): Identity()\n",
              "              (act): SiLU(inplace=True)\n",
              "            )\n",
              "            (se): SqueezeExcite(\n",
              "              (conv_reduce): Conv2d(96, 4, kernel_size=(1, 1), stride=(1, 1))\n",
              "              (act1): SiLU(inplace=True)\n",
              "              (conv_expand): Conv2d(4, 96, kernel_size=(1, 1), stride=(1, 1))\n",
              "              (gate): Sigmoid()\n",
              "            )\n",
              "            (conv_pwl): Conv2d(96, 24, kernel_size=(1, 1), stride=(1, 1), bias=False)\n",
              "            (bn3): BatchNormAct2d(\n",
              "              24, eps=1e-05, momentum=0.1, affine=True, track_running_stats=True\n",
              "              (drop): Identity()\n",
              "              (act): Identity()\n",
              "            )\n",
              "            (drop_path): Identity()\n",
              "          )\n",
              "          (1): InvertedResidual(\n",
              "            (conv_pw): Conv2d(24, 144, kernel_size=(1, 1), stride=(1, 1), bias=False)\n",
              "            (bn1): BatchNormAct2d(\n",
              "              144, eps=1e-05, momentum=0.1, affine=True, track_running_stats=True\n",
              "              (drop): Identity()\n",
              "              (act): SiLU(inplace=True)\n",
              "            )\n",
              "            (conv_dw): Conv2d(144, 144, kernel_size=(3, 3), stride=(1, 1), padding=(1, 1), groups=144, bias=False)\n",
              "            (bn2): BatchNormAct2d(\n",
              "              144, eps=1e-05, momentum=0.1, affine=True, track_running_stats=True\n",
              "              (drop): Identity()\n",
              "              (act): SiLU(inplace=True)\n",
              "            )\n",
              "            (se): SqueezeExcite(\n",
              "              (conv_reduce): Conv2d(144, 6, kernel_size=(1, 1), stride=(1, 1))\n",
              "              (act1): SiLU(inplace=True)\n",
              "              (conv_expand): Conv2d(6, 144, kernel_size=(1, 1), stride=(1, 1))\n",
              "              (gate): Sigmoid()\n",
              "            )\n",
              "            (conv_pwl): Conv2d(144, 24, kernel_size=(1, 1), stride=(1, 1), bias=False)\n",
              "            (bn3): BatchNormAct2d(\n",
              "              24, eps=1e-05, momentum=0.1, affine=True, track_running_stats=True\n",
              "              (drop): Identity()\n",
              "              (act): Identity()\n",
              "            )\n",
              "            (drop_path): Identity()\n",
              "          )\n",
              "        )\n",
              "        (2): Sequential(\n",
              "          (0): InvertedResidual(\n",
              "            (conv_pw): Conv2d(24, 144, kernel_size=(1, 1), stride=(1, 1), bias=False)\n",
              "            (bn1): BatchNormAct2d(\n",
              "              144, eps=1e-05, momentum=0.1, affine=True, track_running_stats=True\n",
              "              (drop): Identity()\n",
              "              (act): SiLU(inplace=True)\n",
              "            )\n",
              "            (conv_dw): Conv2d(144, 144, kernel_size=(5, 5), stride=(2, 2), padding=(2, 2), groups=144, bias=False)\n",
              "            (bn2): BatchNormAct2d(\n",
              "              144, eps=1e-05, momentum=0.1, affine=True, track_running_stats=True\n",
              "              (drop): Identity()\n",
              "              (act): SiLU(inplace=True)\n",
              "            )\n",
              "            (se): SqueezeExcite(\n",
              "              (conv_reduce): Conv2d(144, 6, kernel_size=(1, 1), stride=(1, 1))\n",
              "              (act1): SiLU(inplace=True)\n",
              "              (conv_expand): Conv2d(6, 144, kernel_size=(1, 1), stride=(1, 1))\n",
              "              (gate): Sigmoid()\n",
              "            )\n",
              "            (conv_pwl): Conv2d(144, 40, kernel_size=(1, 1), stride=(1, 1), bias=False)\n",
              "            (bn3): BatchNormAct2d(\n",
              "              40, eps=1e-05, momentum=0.1, affine=True, track_running_stats=True\n",
              "              (drop): Identity()\n",
              "              (act): Identity()\n",
              "            )\n",
              "            (drop_path): Identity()\n",
              "          )\n",
              "          (1): InvertedResidual(\n",
              "            (conv_pw): Conv2d(40, 240, kernel_size=(1, 1), stride=(1, 1), bias=False)\n",
              "            (bn1): BatchNormAct2d(\n",
              "              240, eps=1e-05, momentum=0.1, affine=True, track_running_stats=True\n",
              "              (drop): Identity()\n",
              "              (act): SiLU(inplace=True)\n",
              "            )\n",
              "            (conv_dw): Conv2d(240, 240, kernel_size=(5, 5), stride=(1, 1), padding=(2, 2), groups=240, bias=False)\n",
              "            (bn2): BatchNormAct2d(\n",
              "              240, eps=1e-05, momentum=0.1, affine=True, track_running_stats=True\n",
              "              (drop): Identity()\n",
              "              (act): SiLU(inplace=True)\n",
              "            )\n",
              "            (se): SqueezeExcite(\n",
              "              (conv_reduce): Conv2d(240, 10, kernel_size=(1, 1), stride=(1, 1))\n",
              "              (act1): SiLU(inplace=True)\n",
              "              (conv_expand): Conv2d(10, 240, kernel_size=(1, 1), stride=(1, 1))\n",
              "              (gate): Sigmoid()\n",
              "            )\n",
              "            (conv_pwl): Conv2d(240, 40, kernel_size=(1, 1), stride=(1, 1), bias=False)\n",
              "            (bn3): BatchNormAct2d(\n",
              "              40, eps=1e-05, momentum=0.1, affine=True, track_running_stats=True\n",
              "              (drop): Identity()\n",
              "              (act): Identity()\n",
              "            )\n",
              "            (drop_path): Identity()\n",
              "          )\n",
              "        )\n",
              "        (3): Sequential(\n",
              "          (0): InvertedResidual(\n",
              "            (conv_pw): Conv2d(40, 240, kernel_size=(1, 1), stride=(1, 1), bias=False)\n",
              "            (bn1): BatchNormAct2d(\n",
              "              240, eps=1e-05, momentum=0.1, affine=True, track_running_stats=True\n",
              "              (drop): Identity()\n",
              "              (act): SiLU(inplace=True)\n",
              "            )\n",
              "            (conv_dw): Conv2d(240, 240, kernel_size=(3, 3), stride=(2, 2), padding=(1, 1), groups=240, bias=False)\n",
              "            (bn2): BatchNormAct2d(\n",
              "              240, eps=1e-05, momentum=0.1, affine=True, track_running_stats=True\n",
              "              (drop): Identity()\n",
              "              (act): SiLU(inplace=True)\n",
              "            )\n",
              "            (se): SqueezeExcite(\n",
              "              (conv_reduce): Conv2d(240, 10, kernel_size=(1, 1), stride=(1, 1))\n",
              "              (act1): SiLU(inplace=True)\n",
              "              (conv_expand): Conv2d(10, 240, kernel_size=(1, 1), stride=(1, 1))\n",
              "              (gate): Sigmoid()\n",
              "            )\n",
              "            (conv_pwl): Conv2d(240, 80, kernel_size=(1, 1), stride=(1, 1), bias=False)\n",
              "            (bn3): BatchNormAct2d(\n",
              "              80, eps=1e-05, momentum=0.1, affine=True, track_running_stats=True\n",
              "              (drop): Identity()\n",
              "              (act): Identity()\n",
              "            )\n",
              "            (drop_path): Identity()\n",
              "          )\n",
              "          (1): InvertedResidual(\n",
              "            (conv_pw): Conv2d(80, 480, kernel_size=(1, 1), stride=(1, 1), bias=False)\n",
              "            (bn1): BatchNormAct2d(\n",
              "              480, eps=1e-05, momentum=0.1, affine=True, track_running_stats=True\n",
              "              (drop): Identity()\n",
              "              (act): SiLU(inplace=True)\n",
              "            )\n",
              "            (conv_dw): Conv2d(480, 480, kernel_size=(3, 3), stride=(1, 1), padding=(1, 1), groups=480, bias=False)\n",
              "            (bn2): BatchNormAct2d(\n",
              "              480, eps=1e-05, momentum=0.1, affine=True, track_running_stats=True\n",
              "              (drop): Identity()\n",
              "              (act): SiLU(inplace=True)\n",
              "            )\n",
              "            (se): SqueezeExcite(\n",
              "              (conv_reduce): Conv2d(480, 20, kernel_size=(1, 1), stride=(1, 1))\n",
              "              (act1): SiLU(inplace=True)\n",
              "              (conv_expand): Conv2d(20, 480, kernel_size=(1, 1), stride=(1, 1))\n",
              "              (gate): Sigmoid()\n",
              "            )\n",
              "            (conv_pwl): Conv2d(480, 80, kernel_size=(1, 1), stride=(1, 1), bias=False)\n",
              "            (bn3): BatchNormAct2d(\n",
              "              80, eps=1e-05, momentum=0.1, affine=True, track_running_stats=True\n",
              "              (drop): Identity()\n",
              "              (act): Identity()\n",
              "            )\n",
              "            (drop_path): Identity()\n",
              "          )\n",
              "          (2): InvertedResidual(\n",
              "            (conv_pw): Conv2d(80, 480, kernel_size=(1, 1), stride=(1, 1), bias=False)\n",
              "            (bn1): BatchNormAct2d(\n",
              "              480, eps=1e-05, momentum=0.1, affine=True, track_running_stats=True\n",
              "              (drop): Identity()\n",
              "              (act): SiLU(inplace=True)\n",
              "            )\n",
              "            (conv_dw): Conv2d(480, 480, kernel_size=(3, 3), stride=(1, 1), padding=(1, 1), groups=480, bias=False)\n",
              "            (bn2): BatchNormAct2d(\n",
              "              480, eps=1e-05, momentum=0.1, affine=True, track_running_stats=True\n",
              "              (drop): Identity()\n",
              "              (act): SiLU(inplace=True)\n",
              "            )\n",
              "            (se): SqueezeExcite(\n",
              "              (conv_reduce): Conv2d(480, 20, kernel_size=(1, 1), stride=(1, 1))\n",
              "              (act1): SiLU(inplace=True)\n",
              "              (conv_expand): Conv2d(20, 480, kernel_size=(1, 1), stride=(1, 1))\n",
              "              (gate): Sigmoid()\n",
              "            )\n",
              "            (conv_pwl): Conv2d(480, 80, kernel_size=(1, 1), stride=(1, 1), bias=False)\n",
              "            (bn3): BatchNormAct2d(\n",
              "              80, eps=1e-05, momentum=0.1, affine=True, track_running_stats=True\n",
              "              (drop): Identity()\n",
              "              (act): Identity()\n",
              "            )\n",
              "            (drop_path): Identity()\n",
              "          )\n",
              "        )\n",
              "        (4): Sequential(\n",
              "          (0): InvertedResidual(\n",
              "            (conv_pw): Conv2d(80, 480, kernel_size=(1, 1), stride=(1, 1), bias=False)\n",
              "            (bn1): BatchNormAct2d(\n",
              "              480, eps=1e-05, momentum=0.1, affine=True, track_running_stats=True\n",
              "              (drop): Identity()\n",
              "              (act): SiLU(inplace=True)\n",
              "            )\n",
              "            (conv_dw): Conv2d(480, 480, kernel_size=(5, 5), stride=(1, 1), padding=(2, 2), groups=480, bias=False)\n",
              "            (bn2): BatchNormAct2d(\n",
              "              480, eps=1e-05, momentum=0.1, affine=True, track_running_stats=True\n",
              "              (drop): Identity()\n",
              "              (act): SiLU(inplace=True)\n",
              "            )\n",
              "            (se): SqueezeExcite(\n",
              "              (conv_reduce): Conv2d(480, 20, kernel_size=(1, 1), stride=(1, 1))\n",
              "              (act1): SiLU(inplace=True)\n",
              "              (conv_expand): Conv2d(20, 480, kernel_size=(1, 1), stride=(1, 1))\n",
              "              (gate): Sigmoid()\n",
              "            )\n",
              "            (conv_pwl): Conv2d(480, 112, kernel_size=(1, 1), stride=(1, 1), bias=False)\n",
              "            (bn3): BatchNormAct2d(\n",
              "              112, eps=1e-05, momentum=0.1, affine=True, track_running_stats=True\n",
              "              (drop): Identity()\n",
              "              (act): Identity()\n",
              "            )\n",
              "            (drop_path): Identity()\n",
              "          )\n",
              "          (1): InvertedResidual(\n",
              "            (conv_pw): Conv2d(112, 672, kernel_size=(1, 1), stride=(1, 1), bias=False)\n",
              "            (bn1): BatchNormAct2d(\n",
              "              672, eps=1e-05, momentum=0.1, affine=True, track_running_stats=True\n",
              "              (drop): Identity()\n",
              "              (act): SiLU(inplace=True)\n",
              "            )\n",
              "            (conv_dw): Conv2d(672, 672, kernel_size=(5, 5), stride=(1, 1), padding=(2, 2), groups=672, bias=False)\n",
              "            (bn2): BatchNormAct2d(\n",
              "              672, eps=1e-05, momentum=0.1, affine=True, track_running_stats=True\n",
              "              (drop): Identity()\n",
              "              (act): SiLU(inplace=True)\n",
              "            )\n",
              "            (se): SqueezeExcite(\n",
              "              (conv_reduce): Conv2d(672, 28, kernel_size=(1, 1), stride=(1, 1))\n",
              "              (act1): SiLU(inplace=True)\n",
              "              (conv_expand): Conv2d(28, 672, kernel_size=(1, 1), stride=(1, 1))\n",
              "              (gate): Sigmoid()\n",
              "            )\n",
              "            (conv_pwl): Conv2d(672, 112, kernel_size=(1, 1), stride=(1, 1), bias=False)\n",
              "            (bn3): BatchNormAct2d(\n",
              "              112, eps=1e-05, momentum=0.1, affine=True, track_running_stats=True\n",
              "              (drop): Identity()\n",
              "              (act): Identity()\n",
              "            )\n",
              "            (drop_path): Identity()\n",
              "          )\n",
              "          (2): InvertedResidual(\n",
              "            (conv_pw): Conv2d(112, 672, kernel_size=(1, 1), stride=(1, 1), bias=False)\n",
              "            (bn1): BatchNormAct2d(\n",
              "              672, eps=1e-05, momentum=0.1, affine=True, track_running_stats=True\n",
              "              (drop): Identity()\n",
              "              (act): SiLU(inplace=True)\n",
              "            )\n",
              "            (conv_dw): Conv2d(672, 672, kernel_size=(5, 5), stride=(1, 1), padding=(2, 2), groups=672, bias=False)\n",
              "            (bn2): BatchNormAct2d(\n",
              "              672, eps=1e-05, momentum=0.1, affine=True, track_running_stats=True\n",
              "              (drop): Identity()\n",
              "              (act): SiLU(inplace=True)\n",
              "            )\n",
              "            (se): SqueezeExcite(\n",
              "              (conv_reduce): Conv2d(672, 28, kernel_size=(1, 1), stride=(1, 1))\n",
              "              (act1): SiLU(inplace=True)\n",
              "              (conv_expand): Conv2d(28, 672, kernel_size=(1, 1), stride=(1, 1))\n",
              "              (gate): Sigmoid()\n",
              "            )\n",
              "            (conv_pwl): Conv2d(672, 112, kernel_size=(1, 1), stride=(1, 1), bias=False)\n",
              "            (bn3): BatchNormAct2d(\n",
              "              112, eps=1e-05, momentum=0.1, affine=True, track_running_stats=True\n",
              "              (drop): Identity()\n",
              "              (act): Identity()\n",
              "            )\n",
              "            (drop_path): Identity()\n",
              "          )\n",
              "        )\n",
              "        (5): Sequential(\n",
              "          (0): InvertedResidual(\n",
              "            (conv_pw): Conv2d(112, 672, kernel_size=(1, 1), stride=(1, 1), bias=False)\n",
              "            (bn1): BatchNormAct2d(\n",
              "              672, eps=1e-05, momentum=0.1, affine=True, track_running_stats=True\n",
              "              (drop): Identity()\n",
              "              (act): SiLU(inplace=True)\n",
              "            )\n",
              "            (conv_dw): Conv2d(672, 672, kernel_size=(5, 5), stride=(2, 2), padding=(2, 2), groups=672, bias=False)\n",
              "            (bn2): BatchNormAct2d(\n",
              "              672, eps=1e-05, momentum=0.1, affine=True, track_running_stats=True\n",
              "              (drop): Identity()\n",
              "              (act): SiLU(inplace=True)\n",
              "            )\n",
              "            (se): SqueezeExcite(\n",
              "              (conv_reduce): Conv2d(672, 28, kernel_size=(1, 1), stride=(1, 1))\n",
              "              (act1): SiLU(inplace=True)\n",
              "              (conv_expand): Conv2d(28, 672, kernel_size=(1, 1), stride=(1, 1))\n",
              "              (gate): Sigmoid()\n",
              "            )\n",
              "            (conv_pwl): Conv2d(672, 192, kernel_size=(1, 1), stride=(1, 1), bias=False)\n",
              "            (bn3): BatchNormAct2d(\n",
              "              192, eps=1e-05, momentum=0.1, affine=True, track_running_stats=True\n",
              "              (drop): Identity()\n",
              "              (act): Identity()\n",
              "            )\n",
              "            (drop_path): Identity()\n",
              "          )\n",
              "          (1): InvertedResidual(\n",
              "            (conv_pw): Conv2d(192, 1152, kernel_size=(1, 1), stride=(1, 1), bias=False)\n",
              "            (bn1): BatchNormAct2d(\n",
              "              1152, eps=1e-05, momentum=0.1, affine=True, track_running_stats=True\n",
              "              (drop): Identity()\n",
              "              (act): SiLU(inplace=True)\n",
              "            )\n",
              "            (conv_dw): Conv2d(1152, 1152, kernel_size=(5, 5), stride=(1, 1), padding=(2, 2), groups=1152, bias=False)\n",
              "            (bn2): BatchNormAct2d(\n",
              "              1152, eps=1e-05, momentum=0.1, affine=True, track_running_stats=True\n",
              "              (drop): Identity()\n",
              "              (act): SiLU(inplace=True)\n",
              "            )\n",
              "            (se): SqueezeExcite(\n",
              "              (conv_reduce): Conv2d(1152, 48, kernel_size=(1, 1), stride=(1, 1))\n",
              "              (act1): SiLU(inplace=True)\n",
              "              (conv_expand): Conv2d(48, 1152, kernel_size=(1, 1), stride=(1, 1))\n",
              "              (gate): Sigmoid()\n",
              "            )\n",
              "            (conv_pwl): Conv2d(1152, 192, kernel_size=(1, 1), stride=(1, 1), bias=False)\n",
              "            (bn3): BatchNormAct2d(\n",
              "              192, eps=1e-05, momentum=0.1, affine=True, track_running_stats=True\n",
              "              (drop): Identity()\n",
              "              (act): Identity()\n",
              "            )\n",
              "            (drop_path): Identity()\n",
              "          )\n",
              "          (2): InvertedResidual(\n",
              "            (conv_pw): Conv2d(192, 1152, kernel_size=(1, 1), stride=(1, 1), bias=False)\n",
              "            (bn1): BatchNormAct2d(\n",
              "              1152, eps=1e-05, momentum=0.1, affine=True, track_running_stats=True\n",
              "              (drop): Identity()\n",
              "              (act): SiLU(inplace=True)\n",
              "            )\n",
              "            (conv_dw): Conv2d(1152, 1152, kernel_size=(5, 5), stride=(1, 1), padding=(2, 2), groups=1152, bias=False)\n",
              "            (bn2): BatchNormAct2d(\n",
              "              1152, eps=1e-05, momentum=0.1, affine=True, track_running_stats=True\n",
              "              (drop): Identity()\n",
              "              (act): SiLU(inplace=True)\n",
              "            )\n",
              "            (se): SqueezeExcite(\n",
              "              (conv_reduce): Conv2d(1152, 48, kernel_size=(1, 1), stride=(1, 1))\n",
              "              (act1): SiLU(inplace=True)\n",
              "              (conv_expand): Conv2d(48, 1152, kernel_size=(1, 1), stride=(1, 1))\n",
              "              (gate): Sigmoid()\n",
              "            )\n",
              "            (conv_pwl): Conv2d(1152, 192, kernel_size=(1, 1), stride=(1, 1), bias=False)\n",
              "            (bn3): BatchNormAct2d(\n",
              "              192, eps=1e-05, momentum=0.1, affine=True, track_running_stats=True\n",
              "              (drop): Identity()\n",
              "              (act): Identity()\n",
              "            )\n",
              "            (drop_path): Identity()\n",
              "          )\n",
              "          (3): InvertedResidual(\n",
              "            (conv_pw): Conv2d(192, 1152, kernel_size=(1, 1), stride=(1, 1), bias=False)\n",
              "            (bn1): BatchNormAct2d(\n",
              "              1152, eps=1e-05, momentum=0.1, affine=True, track_running_stats=True\n",
              "              (drop): Identity()\n",
              "              (act): SiLU(inplace=True)\n",
              "            )\n",
              "            (conv_dw): Conv2d(1152, 1152, kernel_size=(5, 5), stride=(1, 1), padding=(2, 2), groups=1152, bias=False)\n",
              "            (bn2): BatchNormAct2d(\n",
              "              1152, eps=1e-05, momentum=0.1, affine=True, track_running_stats=True\n",
              "              (drop): Identity()\n",
              "              (act): SiLU(inplace=True)\n",
              "            )\n",
              "            (se): SqueezeExcite(\n",
              "              (conv_reduce): Conv2d(1152, 48, kernel_size=(1, 1), stride=(1, 1))\n",
              "              (act1): SiLU(inplace=True)\n",
              "              (conv_expand): Conv2d(48, 1152, kernel_size=(1, 1), stride=(1, 1))\n",
              "              (gate): Sigmoid()\n",
              "            )\n",
              "            (conv_pwl): Conv2d(1152, 192, kernel_size=(1, 1), stride=(1, 1), bias=False)\n",
              "            (bn3): BatchNormAct2d(\n",
              "              192, eps=1e-05, momentum=0.1, affine=True, track_running_stats=True\n",
              "              (drop): Identity()\n",
              "              (act): Identity()\n",
              "            )\n",
              "            (drop_path): Identity()\n",
              "          )\n",
              "        )\n",
              "        (6): Sequential(\n",
              "          (0): InvertedResidual(\n",
              "            (conv_pw): Conv2d(192, 1152, kernel_size=(1, 1), stride=(1, 1), bias=False)\n",
              "            (bn1): BatchNormAct2d(\n",
              "              1152, eps=1e-05, momentum=0.1, affine=True, track_running_stats=True\n",
              "              (drop): Identity()\n",
              "              (act): SiLU(inplace=True)\n",
              "            )\n",
              "            (conv_dw): Conv2d(1152, 1152, kernel_size=(3, 3), stride=(1, 1), padding=(1, 1), groups=1152, bias=False)\n",
              "            (bn2): BatchNormAct2d(\n",
              "              1152, eps=1e-05, momentum=0.1, affine=True, track_running_stats=True\n",
              "              (drop): Identity()\n",
              "              (act): SiLU(inplace=True)\n",
              "            )\n",
              "            (se): SqueezeExcite(\n",
              "              (conv_reduce): Conv2d(1152, 48, kernel_size=(1, 1), stride=(1, 1))\n",
              "              (act1): SiLU(inplace=True)\n",
              "              (conv_expand): Conv2d(48, 1152, kernel_size=(1, 1), stride=(1, 1))\n",
              "              (gate): Sigmoid()\n",
              "            )\n",
              "            (conv_pwl): Conv2d(1152, 320, kernel_size=(1, 1), stride=(1, 1), bias=False)\n",
              "            (bn3): BatchNormAct2d(\n",
              "              320, eps=1e-05, momentum=0.1, affine=True, track_running_stats=True\n",
              "              (drop): Identity()\n",
              "              (act): Identity()\n",
              "            )\n",
              "            (drop_path): Identity()\n",
              "          )\n",
              "        )\n",
              "      )\n",
              "      (conv_head): Conv2d(320, 1280, kernel_size=(1, 1), stride=(1, 1), bias=False)\n",
              "      (bn2): BatchNormAct2d(\n",
              "        1280, eps=1e-05, momentum=0.1, affine=True, track_running_stats=True\n",
              "        (drop): Identity()\n",
              "        (act): SiLU(inplace=True)\n",
              "      )\n",
              "      (global_pool): SelectAdaptivePool2d (pool_type=avg, flatten=Flatten(start_dim=1, end_dim=-1))\n",
              "      (classifier): Linear(in_features=1280, out_features=1000, bias=True)\n",
              "    )\n",
              "    (features): Sequential(\n",
              "      (0): Conv2d(3, 32, kernel_size=(3, 3), stride=(2, 2), padding=(1, 1), bias=False)\n",
              "      (1): BatchNormAct2d(\n",
              "        32, eps=1e-05, momentum=0.1, affine=True, track_running_stats=True\n",
              "        (drop): Identity()\n",
              "        (act): SiLU(inplace=True)\n",
              "      )\n",
              "      (2): Sequential(\n",
              "        (0): Sequential(\n",
              "          (0): DepthwiseSeparableConv(\n",
              "            (conv_dw): Conv2d(32, 32, kernel_size=(3, 3), stride=(1, 1), padding=(1, 1), groups=32, bias=False)\n",
              "            (bn1): BatchNormAct2d(\n",
              "              32, eps=1e-05, momentum=0.1, affine=True, track_running_stats=True\n",
              "              (drop): Identity()\n",
              "              (act): SiLU(inplace=True)\n",
              "            )\n",
              "            (se): SqueezeExcite(\n",
              "              (conv_reduce): Conv2d(32, 8, kernel_size=(1, 1), stride=(1, 1))\n",
              "              (act1): SiLU(inplace=True)\n",
              "              (conv_expand): Conv2d(8, 32, kernel_size=(1, 1), stride=(1, 1))\n",
              "              (gate): Sigmoid()\n",
              "            )\n",
              "            (conv_pw): Conv2d(32, 16, kernel_size=(1, 1), stride=(1, 1), bias=False)\n",
              "            (bn2): BatchNormAct2d(\n",
              "              16, eps=1e-05, momentum=0.1, affine=True, track_running_stats=True\n",
              "              (drop): Identity()\n",
              "              (act): Identity()\n",
              "            )\n",
              "            (drop_path): Identity()\n",
              "          )\n",
              "        )\n",
              "        (1): Sequential(\n",
              "          (0): InvertedResidual(\n",
              "            (conv_pw): Conv2d(16, 96, kernel_size=(1, 1), stride=(1, 1), bias=False)\n",
              "            (bn1): BatchNormAct2d(\n",
              "              96, eps=1e-05, momentum=0.1, affine=True, track_running_stats=True\n",
              "              (drop): Identity()\n",
              "              (act): SiLU(inplace=True)\n",
              "            )\n",
              "            (conv_dw): Conv2d(96, 96, kernel_size=(3, 3), stride=(2, 2), padding=(1, 1), groups=96, bias=False)\n",
              "            (bn2): BatchNormAct2d(\n",
              "              96, eps=1e-05, momentum=0.1, affine=True, track_running_stats=True\n",
              "              (drop): Identity()\n",
              "              (act): SiLU(inplace=True)\n",
              "            )\n",
              "            (se): SqueezeExcite(\n",
              "              (conv_reduce): Conv2d(96, 4, kernel_size=(1, 1), stride=(1, 1))\n",
              "              (act1): SiLU(inplace=True)\n",
              "              (conv_expand): Conv2d(4, 96, kernel_size=(1, 1), stride=(1, 1))\n",
              "              (gate): Sigmoid()\n",
              "            )\n",
              "            (conv_pwl): Conv2d(96, 24, kernel_size=(1, 1), stride=(1, 1), bias=False)\n",
              "            (bn3): BatchNormAct2d(\n",
              "              24, eps=1e-05, momentum=0.1, affine=True, track_running_stats=True\n",
              "              (drop): Identity()\n",
              "              (act): Identity()\n",
              "            )\n",
              "            (drop_path): Identity()\n",
              "          )\n",
              "          (1): InvertedResidual(\n",
              "            (conv_pw): Conv2d(24, 144, kernel_size=(1, 1), stride=(1, 1), bias=False)\n",
              "            (bn1): BatchNormAct2d(\n",
              "              144, eps=1e-05, momentum=0.1, affine=True, track_running_stats=True\n",
              "              (drop): Identity()\n",
              "              (act): SiLU(inplace=True)\n",
              "            )\n",
              "            (conv_dw): Conv2d(144, 144, kernel_size=(3, 3), stride=(1, 1), padding=(1, 1), groups=144, bias=False)\n",
              "            (bn2): BatchNormAct2d(\n",
              "              144, eps=1e-05, momentum=0.1, affine=True, track_running_stats=True\n",
              "              (drop): Identity()\n",
              "              (act): SiLU(inplace=True)\n",
              "            )\n",
              "            (se): SqueezeExcite(\n",
              "              (conv_reduce): Conv2d(144, 6, kernel_size=(1, 1), stride=(1, 1))\n",
              "              (act1): SiLU(inplace=True)\n",
              "              (conv_expand): Conv2d(6, 144, kernel_size=(1, 1), stride=(1, 1))\n",
              "              (gate): Sigmoid()\n",
              "            )\n",
              "            (conv_pwl): Conv2d(144, 24, kernel_size=(1, 1), stride=(1, 1), bias=False)\n",
              "            (bn3): BatchNormAct2d(\n",
              "              24, eps=1e-05, momentum=0.1, affine=True, track_running_stats=True\n",
              "              (drop): Identity()\n",
              "              (act): Identity()\n",
              "            )\n",
              "            (drop_path): Identity()\n",
              "          )\n",
              "        )\n",
              "        (2): Sequential(\n",
              "          (0): InvertedResidual(\n",
              "            (conv_pw): Conv2d(24, 144, kernel_size=(1, 1), stride=(1, 1), bias=False)\n",
              "            (bn1): BatchNormAct2d(\n",
              "              144, eps=1e-05, momentum=0.1, affine=True, track_running_stats=True\n",
              "              (drop): Identity()\n",
              "              (act): SiLU(inplace=True)\n",
              "            )\n",
              "            (conv_dw): Conv2d(144, 144, kernel_size=(5, 5), stride=(2, 2), padding=(2, 2), groups=144, bias=False)\n",
              "            (bn2): BatchNormAct2d(\n",
              "              144, eps=1e-05, momentum=0.1, affine=True, track_running_stats=True\n",
              "              (drop): Identity()\n",
              "              (act): SiLU(inplace=True)\n",
              "            )\n",
              "            (se): SqueezeExcite(\n",
              "              (conv_reduce): Conv2d(144, 6, kernel_size=(1, 1), stride=(1, 1))\n",
              "              (act1): SiLU(inplace=True)\n",
              "              (conv_expand): Conv2d(6, 144, kernel_size=(1, 1), stride=(1, 1))\n",
              "              (gate): Sigmoid()\n",
              "            )\n",
              "            (conv_pwl): Conv2d(144, 40, kernel_size=(1, 1), stride=(1, 1), bias=False)\n",
              "            (bn3): BatchNormAct2d(\n",
              "              40, eps=1e-05, momentum=0.1, affine=True, track_running_stats=True\n",
              "              (drop): Identity()\n",
              "              (act): Identity()\n",
              "            )\n",
              "            (drop_path): Identity()\n",
              "          )\n",
              "          (1): InvertedResidual(\n",
              "            (conv_pw): Conv2d(40, 240, kernel_size=(1, 1), stride=(1, 1), bias=False)\n",
              "            (bn1): BatchNormAct2d(\n",
              "              240, eps=1e-05, momentum=0.1, affine=True, track_running_stats=True\n",
              "              (drop): Identity()\n",
              "              (act): SiLU(inplace=True)\n",
              "            )\n",
              "            (conv_dw): Conv2d(240, 240, kernel_size=(5, 5), stride=(1, 1), padding=(2, 2), groups=240, bias=False)\n",
              "            (bn2): BatchNormAct2d(\n",
              "              240, eps=1e-05, momentum=0.1, affine=True, track_running_stats=True\n",
              "              (drop): Identity()\n",
              "              (act): SiLU(inplace=True)\n",
              "            )\n",
              "            (se): SqueezeExcite(\n",
              "              (conv_reduce): Conv2d(240, 10, kernel_size=(1, 1), stride=(1, 1))\n",
              "              (act1): SiLU(inplace=True)\n",
              "              (conv_expand): Conv2d(10, 240, kernel_size=(1, 1), stride=(1, 1))\n",
              "              (gate): Sigmoid()\n",
              "            )\n",
              "            (conv_pwl): Conv2d(240, 40, kernel_size=(1, 1), stride=(1, 1), bias=False)\n",
              "            (bn3): BatchNormAct2d(\n",
              "              40, eps=1e-05, momentum=0.1, affine=True, track_running_stats=True\n",
              "              (drop): Identity()\n",
              "              (act): Identity()\n",
              "            )\n",
              "            (drop_path): Identity()\n",
              "          )\n",
              "        )\n",
              "        (3): Sequential(\n",
              "          (0): InvertedResidual(\n",
              "            (conv_pw): Conv2d(40, 240, kernel_size=(1, 1), stride=(1, 1), bias=False)\n",
              "            (bn1): BatchNormAct2d(\n",
              "              240, eps=1e-05, momentum=0.1, affine=True, track_running_stats=True\n",
              "              (drop): Identity()\n",
              "              (act): SiLU(inplace=True)\n",
              "            )\n",
              "            (conv_dw): Conv2d(240, 240, kernel_size=(3, 3), stride=(2, 2), padding=(1, 1), groups=240, bias=False)\n",
              "            (bn2): BatchNormAct2d(\n",
              "              240, eps=1e-05, momentum=0.1, affine=True, track_running_stats=True\n",
              "              (drop): Identity()\n",
              "              (act): SiLU(inplace=True)\n",
              "            )\n",
              "            (se): SqueezeExcite(\n",
              "              (conv_reduce): Conv2d(240, 10, kernel_size=(1, 1), stride=(1, 1))\n",
              "              (act1): SiLU(inplace=True)\n",
              "              (conv_expand): Conv2d(10, 240, kernel_size=(1, 1), stride=(1, 1))\n",
              "              (gate): Sigmoid()\n",
              "            )\n",
              "            (conv_pwl): Conv2d(240, 80, kernel_size=(1, 1), stride=(1, 1), bias=False)\n",
              "            (bn3): BatchNormAct2d(\n",
              "              80, eps=1e-05, momentum=0.1, affine=True, track_running_stats=True\n",
              "              (drop): Identity()\n",
              "              (act): Identity()\n",
              "            )\n",
              "            (drop_path): Identity()\n",
              "          )\n",
              "          (1): InvertedResidual(\n",
              "            (conv_pw): Conv2d(80, 480, kernel_size=(1, 1), stride=(1, 1), bias=False)\n",
              "            (bn1): BatchNormAct2d(\n",
              "              480, eps=1e-05, momentum=0.1, affine=True, track_running_stats=True\n",
              "              (drop): Identity()\n",
              "              (act): SiLU(inplace=True)\n",
              "            )\n",
              "            (conv_dw): Conv2d(480, 480, kernel_size=(3, 3), stride=(1, 1), padding=(1, 1), groups=480, bias=False)\n",
              "            (bn2): BatchNormAct2d(\n",
              "              480, eps=1e-05, momentum=0.1, affine=True, track_running_stats=True\n",
              "              (drop): Identity()\n",
              "              (act): SiLU(inplace=True)\n",
              "            )\n",
              "            (se): SqueezeExcite(\n",
              "              (conv_reduce): Conv2d(480, 20, kernel_size=(1, 1), stride=(1, 1))\n",
              "              (act1): SiLU(inplace=True)\n",
              "              (conv_expand): Conv2d(20, 480, kernel_size=(1, 1), stride=(1, 1))\n",
              "              (gate): Sigmoid()\n",
              "            )\n",
              "            (conv_pwl): Conv2d(480, 80, kernel_size=(1, 1), stride=(1, 1), bias=False)\n",
              "            (bn3): BatchNormAct2d(\n",
              "              80, eps=1e-05, momentum=0.1, affine=True, track_running_stats=True\n",
              "              (drop): Identity()\n",
              "              (act): Identity()\n",
              "            )\n",
              "            (drop_path): Identity()\n",
              "          )\n",
              "          (2): InvertedResidual(\n",
              "            (conv_pw): Conv2d(80, 480, kernel_size=(1, 1), stride=(1, 1), bias=False)\n",
              "            (bn1): BatchNormAct2d(\n",
              "              480, eps=1e-05, momentum=0.1, affine=True, track_running_stats=True\n",
              "              (drop): Identity()\n",
              "              (act): SiLU(inplace=True)\n",
              "            )\n",
              "            (conv_dw): Conv2d(480, 480, kernel_size=(3, 3), stride=(1, 1), padding=(1, 1), groups=480, bias=False)\n",
              "            (bn2): BatchNormAct2d(\n",
              "              480, eps=1e-05, momentum=0.1, affine=True, track_running_stats=True\n",
              "              (drop): Identity()\n",
              "              (act): SiLU(inplace=True)\n",
              "            )\n",
              "            (se): SqueezeExcite(\n",
              "              (conv_reduce): Conv2d(480, 20, kernel_size=(1, 1), stride=(1, 1))\n",
              "              (act1): SiLU(inplace=True)\n",
              "              (conv_expand): Conv2d(20, 480, kernel_size=(1, 1), stride=(1, 1))\n",
              "              (gate): Sigmoid()\n",
              "            )\n",
              "            (conv_pwl): Conv2d(480, 80, kernel_size=(1, 1), stride=(1, 1), bias=False)\n",
              "            (bn3): BatchNormAct2d(\n",
              "              80, eps=1e-05, momentum=0.1, affine=True, track_running_stats=True\n",
              "              (drop): Identity()\n",
              "              (act): Identity()\n",
              "            )\n",
              "            (drop_path): Identity()\n",
              "          )\n",
              "        )\n",
              "        (4): Sequential(\n",
              "          (0): InvertedResidual(\n",
              "            (conv_pw): Conv2d(80, 480, kernel_size=(1, 1), stride=(1, 1), bias=False)\n",
              "            (bn1): BatchNormAct2d(\n",
              "              480, eps=1e-05, momentum=0.1, affine=True, track_running_stats=True\n",
              "              (drop): Identity()\n",
              "              (act): SiLU(inplace=True)\n",
              "            )\n",
              "            (conv_dw): Conv2d(480, 480, kernel_size=(5, 5), stride=(1, 1), padding=(2, 2), groups=480, bias=False)\n",
              "            (bn2): BatchNormAct2d(\n",
              "              480, eps=1e-05, momentum=0.1, affine=True, track_running_stats=True\n",
              "              (drop): Identity()\n",
              "              (act): SiLU(inplace=True)\n",
              "            )\n",
              "            (se): SqueezeExcite(\n",
              "              (conv_reduce): Conv2d(480, 20, kernel_size=(1, 1), stride=(1, 1))\n",
              "              (act1): SiLU(inplace=True)\n",
              "              (conv_expand): Conv2d(20, 480, kernel_size=(1, 1), stride=(1, 1))\n",
              "              (gate): Sigmoid()\n",
              "            )\n",
              "            (conv_pwl): Conv2d(480, 112, kernel_size=(1, 1), stride=(1, 1), bias=False)\n",
              "            (bn3): BatchNormAct2d(\n",
              "              112, eps=1e-05, momentum=0.1, affine=True, track_running_stats=True\n",
              "              (drop): Identity()\n",
              "              (act): Identity()\n",
              "            )\n",
              "            (drop_path): Identity()\n",
              "          )\n",
              "          (1): InvertedResidual(\n",
              "            (conv_pw): Conv2d(112, 672, kernel_size=(1, 1), stride=(1, 1), bias=False)\n",
              "            (bn1): BatchNormAct2d(\n",
              "              672, eps=1e-05, momentum=0.1, affine=True, track_running_stats=True\n",
              "              (drop): Identity()\n",
              "              (act): SiLU(inplace=True)\n",
              "            )\n",
              "            (conv_dw): Conv2d(672, 672, kernel_size=(5, 5), stride=(1, 1), padding=(2, 2), groups=672, bias=False)\n",
              "            (bn2): BatchNormAct2d(\n",
              "              672, eps=1e-05, momentum=0.1, affine=True, track_running_stats=True\n",
              "              (drop): Identity()\n",
              "              (act): SiLU(inplace=True)\n",
              "            )\n",
              "            (se): SqueezeExcite(\n",
              "              (conv_reduce): Conv2d(672, 28, kernel_size=(1, 1), stride=(1, 1))\n",
              "              (act1): SiLU(inplace=True)\n",
              "              (conv_expand): Conv2d(28, 672, kernel_size=(1, 1), stride=(1, 1))\n",
              "              (gate): Sigmoid()\n",
              "            )\n",
              "            (conv_pwl): Conv2d(672, 112, kernel_size=(1, 1), stride=(1, 1), bias=False)\n",
              "            (bn3): BatchNormAct2d(\n",
              "              112, eps=1e-05, momentum=0.1, affine=True, track_running_stats=True\n",
              "              (drop): Identity()\n",
              "              (act): Identity()\n",
              "            )\n",
              "            (drop_path): Identity()\n",
              "          )\n",
              "          (2): InvertedResidual(\n",
              "            (conv_pw): Conv2d(112, 672, kernel_size=(1, 1), stride=(1, 1), bias=False)\n",
              "            (bn1): BatchNormAct2d(\n",
              "              672, eps=1e-05, momentum=0.1, affine=True, track_running_stats=True\n",
              "              (drop): Identity()\n",
              "              (act): SiLU(inplace=True)\n",
              "            )\n",
              "            (conv_dw): Conv2d(672, 672, kernel_size=(5, 5), stride=(1, 1), padding=(2, 2), groups=672, bias=False)\n",
              "            (bn2): BatchNormAct2d(\n",
              "              672, eps=1e-05, momentum=0.1, affine=True, track_running_stats=True\n",
              "              (drop): Identity()\n",
              "              (act): SiLU(inplace=True)\n",
              "            )\n",
              "            (se): SqueezeExcite(\n",
              "              (conv_reduce): Conv2d(672, 28, kernel_size=(1, 1), stride=(1, 1))\n",
              "              (act1): SiLU(inplace=True)\n",
              "              (conv_expand): Conv2d(28, 672, kernel_size=(1, 1), stride=(1, 1))\n",
              "              (gate): Sigmoid()\n",
              "            )\n",
              "            (conv_pwl): Conv2d(672, 112, kernel_size=(1, 1), stride=(1, 1), bias=False)\n",
              "            (bn3): BatchNormAct2d(\n",
              "              112, eps=1e-05, momentum=0.1, affine=True, track_running_stats=True\n",
              "              (drop): Identity()\n",
              "              (act): Identity()\n",
              "            )\n",
              "            (drop_path): Identity()\n",
              "          )\n",
              "        )\n",
              "        (5): Sequential(\n",
              "          (0): InvertedResidual(\n",
              "            (conv_pw): Conv2d(112, 672, kernel_size=(1, 1), stride=(1, 1), bias=False)\n",
              "            (bn1): BatchNormAct2d(\n",
              "              672, eps=1e-05, momentum=0.1, affine=True, track_running_stats=True\n",
              "              (drop): Identity()\n",
              "              (act): SiLU(inplace=True)\n",
              "            )\n",
              "            (conv_dw): Conv2d(672, 672, kernel_size=(5, 5), stride=(2, 2), padding=(2, 2), groups=672, bias=False)\n",
              "            (bn2): BatchNormAct2d(\n",
              "              672, eps=1e-05, momentum=0.1, affine=True, track_running_stats=True\n",
              "              (drop): Identity()\n",
              "              (act): SiLU(inplace=True)\n",
              "            )\n",
              "            (se): SqueezeExcite(\n",
              "              (conv_reduce): Conv2d(672, 28, kernel_size=(1, 1), stride=(1, 1))\n",
              "              (act1): SiLU(inplace=True)\n",
              "              (conv_expand): Conv2d(28, 672, kernel_size=(1, 1), stride=(1, 1))\n",
              "              (gate): Sigmoid()\n",
              "            )\n",
              "            (conv_pwl): Conv2d(672, 192, kernel_size=(1, 1), stride=(1, 1), bias=False)\n",
              "            (bn3): BatchNormAct2d(\n",
              "              192, eps=1e-05, momentum=0.1, affine=True, track_running_stats=True\n",
              "              (drop): Identity()\n",
              "              (act): Identity()\n",
              "            )\n",
              "            (drop_path): Identity()\n",
              "          )\n",
              "          (1): InvertedResidual(\n",
              "            (conv_pw): Conv2d(192, 1152, kernel_size=(1, 1), stride=(1, 1), bias=False)\n",
              "            (bn1): BatchNormAct2d(\n",
              "              1152, eps=1e-05, momentum=0.1, affine=True, track_running_stats=True\n",
              "              (drop): Identity()\n",
              "              (act): SiLU(inplace=True)\n",
              "            )\n",
              "            (conv_dw): Conv2d(1152, 1152, kernel_size=(5, 5), stride=(1, 1), padding=(2, 2), groups=1152, bias=False)\n",
              "            (bn2): BatchNormAct2d(\n",
              "              1152, eps=1e-05, momentum=0.1, affine=True, track_running_stats=True\n",
              "              (drop): Identity()\n",
              "              (act): SiLU(inplace=True)\n",
              "            )\n",
              "            (se): SqueezeExcite(\n",
              "              (conv_reduce): Conv2d(1152, 48, kernel_size=(1, 1), stride=(1, 1))\n",
              "              (act1): SiLU(inplace=True)\n",
              "              (conv_expand): Conv2d(48, 1152, kernel_size=(1, 1), stride=(1, 1))\n",
              "              (gate): Sigmoid()\n",
              "            )\n",
              "            (conv_pwl): Conv2d(1152, 192, kernel_size=(1, 1), stride=(1, 1), bias=False)\n",
              "            (bn3): BatchNormAct2d(\n",
              "              192, eps=1e-05, momentum=0.1, affine=True, track_running_stats=True\n",
              "              (drop): Identity()\n",
              "              (act): Identity()\n",
              "            )\n",
              "            (drop_path): Identity()\n",
              "          )\n",
              "          (2): InvertedResidual(\n",
              "            (conv_pw): Conv2d(192, 1152, kernel_size=(1, 1), stride=(1, 1), bias=False)\n",
              "            (bn1): BatchNormAct2d(\n",
              "              1152, eps=1e-05, momentum=0.1, affine=True, track_running_stats=True\n",
              "              (drop): Identity()\n",
              "              (act): SiLU(inplace=True)\n",
              "            )\n",
              "            (conv_dw): Conv2d(1152, 1152, kernel_size=(5, 5), stride=(1, 1), padding=(2, 2), groups=1152, bias=False)\n",
              "            (bn2): BatchNormAct2d(\n",
              "              1152, eps=1e-05, momentum=0.1, affine=True, track_running_stats=True\n",
              "              (drop): Identity()\n",
              "              (act): SiLU(inplace=True)\n",
              "            )\n",
              "            (se): SqueezeExcite(\n",
              "              (conv_reduce): Conv2d(1152, 48, kernel_size=(1, 1), stride=(1, 1))\n",
              "              (act1): SiLU(inplace=True)\n",
              "              (conv_expand): Conv2d(48, 1152, kernel_size=(1, 1), stride=(1, 1))\n",
              "              (gate): Sigmoid()\n",
              "            )\n",
              "            (conv_pwl): Conv2d(1152, 192, kernel_size=(1, 1), stride=(1, 1), bias=False)\n",
              "            (bn3): BatchNormAct2d(\n",
              "              192, eps=1e-05, momentum=0.1, affine=True, track_running_stats=True\n",
              "              (drop): Identity()\n",
              "              (act): Identity()\n",
              "            )\n",
              "            (drop_path): Identity()\n",
              "          )\n",
              "          (3): InvertedResidual(\n",
              "            (conv_pw): Conv2d(192, 1152, kernel_size=(1, 1), stride=(1, 1), bias=False)\n",
              "            (bn1): BatchNormAct2d(\n",
              "              1152, eps=1e-05, momentum=0.1, affine=True, track_running_stats=True\n",
              "              (drop): Identity()\n",
              "              (act): SiLU(inplace=True)\n",
              "            )\n",
              "            (conv_dw): Conv2d(1152, 1152, kernel_size=(5, 5), stride=(1, 1), padding=(2, 2), groups=1152, bias=False)\n",
              "            (bn2): BatchNormAct2d(\n",
              "              1152, eps=1e-05, momentum=0.1, affine=True, track_running_stats=True\n",
              "              (drop): Identity()\n",
              "              (act): SiLU(inplace=True)\n",
              "            )\n",
              "            (se): SqueezeExcite(\n",
              "              (conv_reduce): Conv2d(1152, 48, kernel_size=(1, 1), stride=(1, 1))\n",
              "              (act1): SiLU(inplace=True)\n",
              "              (conv_expand): Conv2d(48, 1152, kernel_size=(1, 1), stride=(1, 1))\n",
              "              (gate): Sigmoid()\n",
              "            )\n",
              "            (conv_pwl): Conv2d(1152, 192, kernel_size=(1, 1), stride=(1, 1), bias=False)\n",
              "            (bn3): BatchNormAct2d(\n",
              "              192, eps=1e-05, momentum=0.1, affine=True, track_running_stats=True\n",
              "              (drop): Identity()\n",
              "              (act): Identity()\n",
              "            )\n",
              "            (drop_path): Identity()\n",
              "          )\n",
              "        )\n",
              "        (6): Sequential(\n",
              "          (0): InvertedResidual(\n",
              "            (conv_pw): Conv2d(192, 1152, kernel_size=(1, 1), stride=(1, 1), bias=False)\n",
              "            (bn1): BatchNormAct2d(\n",
              "              1152, eps=1e-05, momentum=0.1, affine=True, track_running_stats=True\n",
              "              (drop): Identity()\n",
              "              (act): SiLU(inplace=True)\n",
              "            )\n",
              "            (conv_dw): Conv2d(1152, 1152, kernel_size=(3, 3), stride=(1, 1), padding=(1, 1), groups=1152, bias=False)\n",
              "            (bn2): BatchNormAct2d(\n",
              "              1152, eps=1e-05, momentum=0.1, affine=True, track_running_stats=True\n",
              "              (drop): Identity()\n",
              "              (act): SiLU(inplace=True)\n",
              "            )\n",
              "            (se): SqueezeExcite(\n",
              "              (conv_reduce): Conv2d(1152, 48, kernel_size=(1, 1), stride=(1, 1))\n",
              "              (act1): SiLU(inplace=True)\n",
              "              (conv_expand): Conv2d(48, 1152, kernel_size=(1, 1), stride=(1, 1))\n",
              "              (gate): Sigmoid()\n",
              "            )\n",
              "            (conv_pwl): Conv2d(1152, 320, kernel_size=(1, 1), stride=(1, 1), bias=False)\n",
              "            (bn3): BatchNormAct2d(\n",
              "              320, eps=1e-05, momentum=0.1, affine=True, track_running_stats=True\n",
              "              (drop): Identity()\n",
              "              (act): Identity()\n",
              "            )\n",
              "            (drop_path): Identity()\n",
              "          )\n",
              "        )\n",
              "      )\n",
              "      (3): Conv2d(320, 1280, kernel_size=(1, 1), stride=(1, 1), bias=False)\n",
              "      (4): BatchNormAct2d(\n",
              "        1280, eps=1e-05, momentum=0.1, affine=True, track_running_stats=True\n",
              "        (drop): Identity()\n",
              "        (act): SiLU(inplace=True)\n",
              "      )\n",
              "      (5): SelectAdaptivePool2d (pool_type=avg, flatten=Flatten(start_dim=1, end_dim=-1))\n",
              "    )\n",
              "    (ln): Linear(in_features=1280, out_features=512, bias=True)\n",
              "  )\n",
              "  (lstm_decoder): LSTM_decoder(\n",
              "    (embedding): Embedding(5159, 512)\n",
              "    (dropout): Dropout(p=0.6, inplace=False)\n",
              "    (lstm): LSTM(512, 512, num_layers=3, batch_first=True)\n",
              "    (lr): Linear(in_features=512, out_features=5159, bias=True)\n",
              "  )\n",
              ")"
            ]
          },
          "metadata": {},
          "execution_count": 158
        }
      ]
    },
    {
      "cell_type": "markdown",
      "source": [
        "# Train Model"
      ],
      "metadata": {
        "id": "UEMLnudALJFb"
      }
    },
    {
      "cell_type": "code",
      "source": [
        "criterion = nn.CrossEntropyLoss(ignore_index=lang.stoi['<pad>']).cuda() if torch.cuda.is_available() else nn.CrossEntropyLoss(ignore_index=lang.stoi['<pad>'])\n",
        "def train_fn(dataloader, model, criterion, optimizer):\n",
        "\n",
        "  model.train()\n",
        "  total_loss = 0.0\n",
        "\n",
        "  for images, captions in tqdm(dataloader):\n",
        "    images = images.to(DEVICE)\n",
        "    captions = captions.to(DEVICE)\n",
        "    optimizer.zero_grad()\n",
        "    outputs = model(images, captions)\n",
        "    #print(outputs.shape)\n",
        "    #print(captions[:, 1:].reshape(-1).shape)\n",
        "    batch_size, seq_len, vocab_size = outputs.size()\n",
        "    loss = criterion(outputs.view(batch_size * seq_len, vocab_size), captions[:, 1:].reshape(-1))\n",
        "    loss.backward()\n",
        "    optimizer.step()\n",
        "    total_loss += loss.item()\n",
        "\n",
        "  return total_loss / len(dataloader)"
      ],
      "metadata": {
        "id": "A6WNvKfDLIUS"
      },
      "execution_count": null,
      "outputs": []
    },
    {
      "cell_type": "code",
      "source": [
        "input = torch.randn(3, 5, requires_grad=True)\n",
        "target = torch.empty(3, dtype=torch.long).random_(5)\n",
        "input.shape, target"
      ],
      "metadata": {
        "colab": {
          "base_uri": "https://localhost:8080/"
        },
        "id": "yqxULiMlIqA-",
        "outputId": "153a9088-c51a-486a-bf16-a8cdbb613a7d"
      },
      "execution_count": null,
      "outputs": [
        {
          "output_type": "execute_result",
          "data": {
            "text/plain": [
              "(torch.Size([3, 5]), tensor([1, 0, 3]))"
            ]
          },
          "metadata": {},
          "execution_count": 160
        }
      ]
    },
    {
      "cell_type": "code",
      "source": [
        "def eval_fn(dataloader, model, criterion):\n",
        "\n",
        "  model.eval()\n",
        "  total_loss = 0.0\n",
        "\n",
        "  with torch.no_grad():\n",
        "    for images, captions in tqdm(dataloader):\n",
        "      images = images.to(DEVICE)\n",
        "      captions = captions.to(DEVICE)\n",
        "\n",
        "      outputs = model(images, captions)\n",
        "      batch_size, seq_len, vocab_size = outputs.size()\n",
        "      loss = criterion(outputs.view(batch_size * seq_len, vocab_size), captions[:, 1:].reshape(-1))\n",
        "      total_loss += loss.item()\n",
        "  return total_loss / len(dataloader)"
      ],
      "metadata": {
        "id": "yrGasO1vNyQT"
      },
      "execution_count": null,
      "outputs": []
    },
    {
      "cell_type": "code",
      "source": [
        "optimizer = torch.optim.Adam(model.parameters(), lr=LR)"
      ],
      "metadata": {
        "id": "GcRPOmWUP7tx"
      },
      "execution_count": null,
      "outputs": []
    },
    {
      "cell_type": "code",
      "source": [
        "# version 2\n",
        "best_test_loss = np.Inf\n",
        "#model.load_state_dict(torch.load('/content/best_model_pt'))\n",
        "for epoch in range(EPOCHS):\n",
        "  train_loss = train_fn(dataloader=trainloader, model=model, criterion=criterion, optimizer=optimizer)\n",
        "  #test_loss = eval_fn(dataloader=testloader, criterion=criterion, model=model)\n",
        "\n",
        "  torch.save(model.state_dict(), 'best_model_pt')\n",
        "  print(\"MODEL SAVED\")\n",
        "  best_test_loss = train_loss\n",
        "\n",
        "  print(f\"Epoch : {epoch+1}   Train_loss : {train_loss}\")"
      ],
      "metadata": {
        "colab": {
          "base_uri": "https://localhost:8080/"
        },
        "id": "yD8eSLSgLQl0",
        "outputId": "1a70e568-d9a1-4bdd-ceec-fc2d573b5d19"
      },
      "execution_count": null,
      "outputs": [
        {
          "metadata": {
            "tags": null
          },
          "name": "stderr",
          "output_type": "stream",
          "text": [
            "100%|██████████| 405/405 [01:21<00:00,  4.97it/s]\n"
          ]
        },
        {
          "metadata": {
            "tags": null
          },
          "name": "stdout",
          "output_type": "stream",
          "text": [
            "MODEL SAVED\n",
            "Epoch : 1   Train_loss : 8.431218083699545\n"
          ]
        },
        {
          "metadata": {
            "tags": null
          },
          "name": "stderr",
          "output_type": "stream",
          "text": [
            "100%|██████████| 405/405 [01:18<00:00,  5.13it/s]\n"
          ]
        },
        {
          "metadata": {
            "tags": null
          },
          "name": "stdout",
          "output_type": "stream",
          "text": [
            "MODEL SAVED\n",
            "Epoch : 2   Train_loss : 8.429013732627586\n"
          ]
        },
        {
          "metadata": {
            "tags": null
          },
          "name": "stderr",
          "output_type": "stream",
          "text": [
            "100%|██████████| 405/405 [01:27<00:00,  4.63it/s]\n"
          ]
        },
        {
          "metadata": {
            "tags": null
          },
          "name": "stdout",
          "output_type": "stream",
          "text": [
            "MODEL SAVED\n",
            "Epoch : 3   Train_loss : 8.379884079356252\n"
          ]
        },
        {
          "metadata": {
            "tags": null
          },
          "name": "stderr",
          "output_type": "stream",
          "text": [
            "100%|██████████| 405/405 [01:21<00:00,  4.97it/s]\n"
          ]
        },
        {
          "metadata": {
            "tags": null
          },
          "name": "stdout",
          "output_type": "stream",
          "text": [
            "MODEL SAVED\n",
            "Epoch : 4   Train_loss : 8.36143561233709\n"
          ]
        },
        {
          "metadata": {
            "tags": null
          },
          "name": "stderr",
          "output_type": "stream",
          "text": [
            "100%|██████████| 405/405 [01:18<00:00,  5.15it/s]\n"
          ]
        },
        {
          "metadata": {
            "tags": null
          },
          "name": "stdout",
          "output_type": "stream",
          "text": [
            "MODEL SAVED\n",
            "Epoch : 5   Train_loss : 8.36111003028022\n"
          ]
        },
        {
          "metadata": {
            "tags": null
          },
          "name": "stderr",
          "output_type": "stream",
          "text": [
            "100%|██████████| 405/405 [01:19<00:00,  5.10it/s]\n"
          ]
        },
        {
          "metadata": {
            "tags": null
          },
          "name": "stdout",
          "output_type": "stream",
          "text": [
            "MODEL SAVED\n",
            "Epoch : 6   Train_loss : 8.329923474347149\n"
          ]
        },
        {
          "metadata": {
            "tags": null
          },
          "name": "stderr",
          "output_type": "stream",
          "text": [
            "100%|██████████| 405/405 [01:18<00:00,  5.13it/s]\n"
          ]
        },
        {
          "metadata": {
            "tags": null
          },
          "name": "stdout",
          "output_type": "stream",
          "text": [
            "MODEL SAVED\n",
            "Epoch : 7   Train_loss : 8.3086664011449\n"
          ]
        },
        {
          "output_type": "stream",
          "name": "stderr",
          "text": [
            "100%|██████████| 405/405 [01:18<00:00,  5.18it/s]\n"
          ]
        },
        {
          "output_type": "stream",
          "name": "stdout",
          "text": [
            "MODEL SAVED\n",
            "Epoch : 8   Train_loss : 8.305658632443276\n"
          ]
        },
        {
          "output_type": "stream",
          "name": "stderr",
          "text": [
            "100%|██████████| 405/405 [01:18<00:00,  5.18it/s]\n"
          ]
        },
        {
          "output_type": "stream",
          "name": "stdout",
          "text": [
            "MODEL SAVED\n",
            "Epoch : 9   Train_loss : 8.305234937314633\n"
          ]
        },
        {
          "output_type": "stream",
          "name": "stderr",
          "text": [
            "100%|██████████| 405/405 [01:18<00:00,  5.16it/s]\n"
          ]
        },
        {
          "output_type": "stream",
          "name": "stdout",
          "text": [
            "MODEL SAVED\n",
            "Epoch : 10   Train_loss : 8.303376101270134\n"
          ]
        },
        {
          "output_type": "stream",
          "name": "stderr",
          "text": [
            "100%|██████████| 405/405 [01:18<00:00,  5.16it/s]\n"
          ]
        },
        {
          "output_type": "stream",
          "name": "stdout",
          "text": [
            "MODEL SAVED\n",
            "Epoch : 11   Train_loss : 8.303786776978292\n"
          ]
        },
        {
          "output_type": "stream",
          "name": "stderr",
          "text": [
            "100%|██████████| 405/405 [01:18<00:00,  5.18it/s]\n"
          ]
        },
        {
          "output_type": "stream",
          "name": "stdout",
          "text": [
            "MODEL SAVED\n",
            "Epoch : 12   Train_loss : 8.301574309078264\n"
          ]
        },
        {
          "output_type": "stream",
          "name": "stderr",
          "text": [
            "100%|██████████| 405/405 [01:18<00:00,  5.19it/s]\n"
          ]
        },
        {
          "output_type": "stream",
          "name": "stdout",
          "text": [
            "MODEL SAVED\n",
            "Epoch : 13   Train_loss : 8.302389043643151\n"
          ]
        },
        {
          "output_type": "stream",
          "name": "stderr",
          "text": [
            "100%|██████████| 405/405 [01:18<00:00,  5.18it/s]\n"
          ]
        },
        {
          "output_type": "stream",
          "name": "stdout",
          "text": [
            "MODEL SAVED\n",
            "Epoch : 14   Train_loss : 8.30054852520978\n"
          ]
        },
        {
          "output_type": "stream",
          "name": "stderr",
          "text": [
            "100%|██████████| 405/405 [01:18<00:00,  5.19it/s]\n"
          ]
        },
        {
          "output_type": "stream",
          "name": "stdout",
          "text": [
            "MODEL SAVED\n",
            "Epoch : 15   Train_loss : 8.30115193967466\n"
          ]
        },
        {
          "output_type": "stream",
          "name": "stderr",
          "text": [
            "100%|██████████| 405/405 [01:18<00:00,  5.18it/s]\n"
          ]
        },
        {
          "output_type": "stream",
          "name": "stdout",
          "text": [
            "MODEL SAVED\n",
            "Epoch : 16   Train_loss : 8.302584916573984\n"
          ]
        },
        {
          "output_type": "stream",
          "name": "stderr",
          "text": [
            "100%|██████████| 405/405 [01:17<00:00,  5.22it/s]\n"
          ]
        },
        {
          "output_type": "stream",
          "name": "stdout",
          "text": [
            "MODEL SAVED\n",
            "Epoch : 17   Train_loss : 8.300520392994821\n"
          ]
        },
        {
          "output_type": "stream",
          "name": "stderr",
          "text": [
            "100%|██████████| 405/405 [01:18<00:00,  5.19it/s]\n"
          ]
        },
        {
          "output_type": "stream",
          "name": "stdout",
          "text": [
            "MODEL SAVED\n",
            "Epoch : 18   Train_loss : 8.301840655008952\n"
          ]
        },
        {
          "output_type": "stream",
          "name": "stderr",
          "text": [
            "100%|██████████| 405/405 [01:18<00:00,  5.19it/s]\n"
          ]
        },
        {
          "output_type": "stream",
          "name": "stdout",
          "text": [
            "MODEL SAVED\n",
            "Epoch : 19   Train_loss : 8.300956313992724\n"
          ]
        },
        {
          "output_type": "stream",
          "name": "stderr",
          "text": [
            "100%|██████████| 405/405 [01:17<00:00,  5.21it/s]\n"
          ]
        },
        {
          "output_type": "stream",
          "name": "stdout",
          "text": [
            "MODEL SAVED\n",
            "Epoch : 20   Train_loss : 8.300800959269205\n"
          ]
        },
        {
          "output_type": "stream",
          "name": "stderr",
          "text": [
            "100%|██████████| 405/405 [01:17<00:00,  5.22it/s]\n"
          ]
        },
        {
          "output_type": "stream",
          "name": "stdout",
          "text": [
            "MODEL SAVED\n",
            "Epoch : 21   Train_loss : 8.299686886351786\n"
          ]
        },
        {
          "output_type": "stream",
          "name": "stderr",
          "text": [
            "100%|██████████| 405/405 [01:17<00:00,  5.21it/s]\n"
          ]
        },
        {
          "output_type": "stream",
          "name": "stdout",
          "text": [
            "MODEL SAVED\n",
            "Epoch : 22   Train_loss : 8.299674797058106\n"
          ]
        },
        {
          "output_type": "stream",
          "name": "stderr",
          "text": [
            "100%|██████████| 405/405 [01:17<00:00,  5.20it/s]\n"
          ]
        },
        {
          "output_type": "stream",
          "name": "stdout",
          "text": [
            "MODEL SAVED\n",
            "Epoch : 23   Train_loss : 8.299200882146389\n"
          ]
        },
        {
          "output_type": "stream",
          "name": "stderr",
          "text": [
            "100%|██████████| 405/405 [01:18<00:00,  5.16it/s]\n"
          ]
        },
        {
          "output_type": "stream",
          "name": "stdout",
          "text": [
            "MODEL SAVED\n",
            "Epoch : 24   Train_loss : 8.299211419658896\n"
          ]
        },
        {
          "output_type": "stream",
          "name": "stderr",
          "text": [
            "100%|██████████| 405/405 [01:18<00:00,  5.17it/s]\n"
          ]
        },
        {
          "output_type": "stream",
          "name": "stdout",
          "text": [
            "MODEL SAVED\n",
            "Epoch : 25   Train_loss : 8.300983299443752\n"
          ]
        },
        {
          "output_type": "stream",
          "name": "stderr",
          "text": [
            "100%|██████████| 405/405 [01:18<00:00,  5.18it/s]\n"
          ]
        },
        {
          "output_type": "stream",
          "name": "stdout",
          "text": [
            "MODEL SAVED\n",
            "Epoch : 26   Train_loss : 8.299675701282643\n"
          ]
        },
        {
          "output_type": "stream",
          "name": "stderr",
          "text": [
            "100%|██████████| 405/405 [01:18<00:00,  5.18it/s]\n"
          ]
        },
        {
          "output_type": "stream",
          "name": "stdout",
          "text": [
            "MODEL SAVED\n",
            "Epoch : 27   Train_loss : 8.299936092047044\n"
          ]
        },
        {
          "output_type": "stream",
          "name": "stderr",
          "text": [
            "100%|██████████| 405/405 [01:17<00:00,  5.19it/s]\n"
          ]
        },
        {
          "output_type": "stream",
          "name": "stdout",
          "text": [
            "MODEL SAVED\n",
            "Epoch : 28   Train_loss : 8.298777794543607\n"
          ]
        },
        {
          "output_type": "stream",
          "name": "stderr",
          "text": [
            "100%|██████████| 405/405 [01:18<00:00,  5.18it/s]\n"
          ]
        },
        {
          "output_type": "stream",
          "name": "stdout",
          "text": [
            "MODEL SAVED\n",
            "Epoch : 29   Train_loss : 8.297818433502574\n"
          ]
        },
        {
          "output_type": "stream",
          "name": "stderr",
          "text": [
            "100%|██████████| 405/405 [01:18<00:00,  5.17it/s]\n"
          ]
        },
        {
          "output_type": "stream",
          "name": "stdout",
          "text": [
            "MODEL SAVED\n",
            "Epoch : 30   Train_loss : 8.298469585842556\n"
          ]
        }
      ]
    },
    {
      "cell_type": "code",
      "source": [
        "best_test_loss = np.Inf\n",
        "#model.load_state_dict(torch.load('/content/best_model_pt'))\n",
        "for epoch in range(EPOCHS):\n",
        "  train_loss = train_fn(dataloader=trainloader, model=model, criterion=criterion, optimizer=optimizer)\n",
        "  test_loss = eval_fn(dataloader=testloader, criterion=criterion, model=model)\n",
        "\n",
        "  if test_loss  < train_loss:\n",
        "    torch.save(model.state_dict(), 'best_model_pt')\n",
        "    print(\"MODEL SAVED\")\n",
        "    best_test_loss = test_loss\n",
        "\n",
        "  print(f\"Epoch : {epoch+1}   Train_loss : {train_loss}   Valid_loss : {test_loss}\")"
      ],
      "metadata": {
        "colab": {
          "base_uri": "https://localhost:8080/"
        },
        "id": "hm-xCCe4P7I5",
        "outputId": "e4735ea1-d4cd-4199-8020-e0fd661ec8ba"
      },
      "execution_count": null,
      "outputs": [
        {
          "output_type": "stream",
          "name": "stderr",
          "text": [
            "100%|██████████| 405/405 [01:27<00:00,  4.65it/s]\n",
            "100%|██████████| 102/102 [00:16<00:00,  6.12it/s]\n"
          ]
        },
        {
          "output_type": "stream",
          "name": "stdout",
          "text": [
            "MODEL SAVED\n",
            "Epoch : 1   Train_loss : 8.424880762453432   Valid_loss : 8.363981751834645\n"
          ]
        },
        {
          "output_type": "stream",
          "name": "stderr",
          "text": [
            "100%|██████████| 405/405 [01:17<00:00,  5.24it/s]\n",
            "100%|██████████| 102/102 [00:15<00:00,  6.66it/s]\n"
          ]
        },
        {
          "output_type": "stream",
          "name": "stdout",
          "text": [
            "MODEL SAVED\n",
            "Epoch : 2   Train_loss : 8.363935661315917   Valid_loss : 8.3630298352709\n"
          ]
        },
        {
          "output_type": "stream",
          "name": "stderr",
          "text": [
            "100%|██████████| 405/405 [01:17<00:00,  5.20it/s]\n",
            "100%|██████████| 102/102 [00:15<00:00,  6.75it/s]\n"
          ]
        },
        {
          "output_type": "stream",
          "name": "stdout",
          "text": [
            "MODEL SAVED\n",
            "Epoch : 3   Train_loss : 8.362925760245618   Valid_loss : 8.361625063653086\n"
          ]
        },
        {
          "output_type": "stream",
          "name": "stderr",
          "text": [
            "100%|██████████| 405/405 [01:17<00:00,  5.22it/s]\n",
            "100%|██████████| 102/102 [00:15<00:00,  6.77it/s]\n"
          ]
        },
        {
          "output_type": "stream",
          "name": "stdout",
          "text": [
            "MODEL SAVED\n",
            "Epoch : 4   Train_loss : 8.363696519828137   Valid_loss : 8.360501551160626\n"
          ]
        },
        {
          "output_type": "stream",
          "name": "stderr",
          "text": [
            "100%|██████████| 405/405 [01:19<00:00,  5.12it/s]\n",
            "100%|██████████| 102/102 [00:15<00:00,  6.78it/s]\n"
          ]
        },
        {
          "output_type": "stream",
          "name": "stdout",
          "text": [
            "MODEL SAVED\n",
            "Epoch : 5   Train_loss : 8.363251900378568   Valid_loss : 8.36243569617178\n"
          ]
        },
        {
          "output_type": "stream",
          "name": "stderr",
          "text": [
            "100%|██████████| 405/405 [01:17<00:00,  5.24it/s]\n",
            "100%|██████████| 102/102 [00:15<00:00,  6.50it/s]\n"
          ]
        },
        {
          "output_type": "stream",
          "name": "stdout",
          "text": [
            "MODEL SAVED\n",
            "Epoch : 6   Train_loss : 8.363796210583345   Valid_loss : 8.362008852117201\n"
          ]
        },
        {
          "output_type": "stream",
          "name": "stderr",
          "text": [
            "100%|██████████| 405/405 [01:17<00:00,  5.19it/s]\n",
            "100%|██████████| 102/102 [00:15<00:00,  6.75it/s]\n"
          ]
        },
        {
          "output_type": "stream",
          "name": "stdout",
          "text": [
            "MODEL SAVED\n",
            "Epoch : 7   Train_loss : 8.364804750607338   Valid_loss : 8.36159647212309\n"
          ]
        },
        {
          "output_type": "stream",
          "name": "stderr",
          "text": [
            "100%|██████████| 405/405 [01:18<00:00,  5.17it/s]\n",
            "100%|██████████| 102/102 [00:15<00:00,  6.70it/s]\n"
          ]
        },
        {
          "output_type": "stream",
          "name": "stdout",
          "text": [
            "MODEL SAVED\n",
            "Epoch : 8   Train_loss : 8.363329416439857   Valid_loss : 8.360317996903962\n"
          ]
        },
        {
          "output_type": "stream",
          "name": "stderr",
          "text": [
            "100%|██████████| 405/405 [01:17<00:00,  5.22it/s]\n",
            "100%|██████████| 102/102 [00:15<00:00,  6.76it/s]\n"
          ]
        },
        {
          "output_type": "stream",
          "name": "stdout",
          "text": [
            "MODEL SAVED\n",
            "Epoch : 9   Train_loss : 8.362931091402784   Valid_loss : 8.361512034547095\n"
          ]
        },
        {
          "output_type": "stream",
          "name": "stderr",
          "text": [
            "100%|██████████| 405/405 [01:18<00:00,  5.17it/s]\n",
            "100%|██████████| 102/102 [00:16<00:00,  6.24it/s]\n"
          ]
        },
        {
          "output_type": "stream",
          "name": "stdout",
          "text": [
            "MODEL SAVED\n",
            "Epoch : 10   Train_loss : 8.363875238395032   Valid_loss : 8.358711130478802\n"
          ]
        },
        {
          "output_type": "stream",
          "name": "stderr",
          "text": [
            "100%|██████████| 405/405 [01:18<00:00,  5.16it/s]\n",
            "100%|██████████| 102/102 [00:15<00:00,  6.76it/s]\n"
          ]
        },
        {
          "output_type": "stream",
          "name": "stdout",
          "text": [
            "MODEL SAVED\n",
            "Epoch : 11   Train_loss : 8.36219169004464   Valid_loss : 8.359330906587488\n"
          ]
        },
        {
          "output_type": "stream",
          "name": "stderr",
          "text": [
            "100%|██████████| 405/405 [01:17<00:00,  5.21it/s]\n",
            "100%|██████████| 102/102 [00:15<00:00,  6.62it/s]\n"
          ]
        },
        {
          "output_type": "stream",
          "name": "stdout",
          "text": [
            "Epoch : 12   Train_loss : 8.36257053186864   Valid_loss : 8.362854134802724\n"
          ]
        },
        {
          "output_type": "stream",
          "name": "stderr",
          "text": [
            "100%|██████████| 405/405 [01:18<00:00,  5.15it/s]\n",
            "100%|██████████| 102/102 [00:15<00:00,  6.66it/s]\n"
          ]
        },
        {
          "output_type": "stream",
          "name": "stdout",
          "text": [
            "MODEL SAVED\n",
            "Epoch : 13   Train_loss : 8.365073262909313   Valid_loss : 8.358134998994714\n"
          ]
        },
        {
          "output_type": "stream",
          "name": "stderr",
          "text": [
            "100%|██████████| 405/405 [01:17<00:00,  5.19it/s]\n",
            "100%|██████████| 102/102 [00:15<00:00,  6.60it/s]\n"
          ]
        },
        {
          "output_type": "stream",
          "name": "stdout",
          "text": [
            "MODEL SAVED\n",
            "Epoch : 14   Train_loss : 8.363027737464433   Valid_loss : 8.357794658810485\n"
          ]
        },
        {
          "output_type": "stream",
          "name": "stderr",
          "text": [
            "100%|██████████| 405/405 [01:17<00:00,  5.20it/s]\n",
            "100%|██████████| 102/102 [00:15<00:00,  6.66it/s]\n"
          ]
        },
        {
          "output_type": "stream",
          "name": "stdout",
          "text": [
            "MODEL SAVED\n",
            "Epoch : 15   Train_loss : 8.363716302094636   Valid_loss : 8.362048523098816\n"
          ]
        },
        {
          "output_type": "stream",
          "name": "stderr",
          "text": [
            "100%|██████████| 405/405 [01:19<00:00,  5.06it/s]\n",
            "100%|██████████| 102/102 [00:15<00:00,  6.64it/s]\n"
          ]
        },
        {
          "output_type": "stream",
          "name": "stdout",
          "text": [
            "MODEL SAVED\n",
            "Epoch : 16   Train_loss : 8.364185194321621   Valid_loss : 8.361519729389864\n"
          ]
        },
        {
          "output_type": "stream",
          "name": "stderr",
          "text": [
            "100%|██████████| 405/405 [01:18<00:00,  5.15it/s]\n",
            "100%|██████████| 102/102 [00:15<00:00,  6.43it/s]\n"
          ]
        },
        {
          "output_type": "stream",
          "name": "stdout",
          "text": [
            "MODEL SAVED\n",
            "Epoch : 17   Train_loss : 8.364270368034457   Valid_loss : 8.361332005145503\n"
          ]
        },
        {
          "output_type": "stream",
          "name": "stderr",
          "text": [
            "100%|██████████| 405/405 [01:17<00:00,  5.24it/s]\n",
            "100%|██████████| 102/102 [00:15<00:00,  6.62it/s]\n"
          ]
        },
        {
          "output_type": "stream",
          "name": "stdout",
          "text": [
            "MODEL SAVED\n",
            "Epoch : 18   Train_loss : 8.32849442517316   Valid_loss : 8.303453005996404\n"
          ]
        },
        {
          "output_type": "stream",
          "name": "stderr",
          "text": [
            "100%|██████████| 405/405 [01:18<00:00,  5.14it/s]\n",
            "100%|██████████| 102/102 [00:15<00:00,  6.62it/s]\n"
          ]
        },
        {
          "output_type": "stream",
          "name": "stdout",
          "text": [
            "MODEL SAVED\n",
            "Epoch : 19   Train_loss : 8.304663375571922   Valid_loss : 8.298406161513983\n"
          ]
        },
        {
          "output_type": "stream",
          "name": "stderr",
          "text": [
            "100%|██████████| 405/405 [01:18<00:00,  5.16it/s]\n",
            "100%|██████████| 102/102 [00:15<00:00,  6.40it/s]\n"
          ]
        },
        {
          "output_type": "stream",
          "name": "stdout",
          "text": [
            "MODEL SAVED\n",
            "Epoch : 20   Train_loss : 8.302583645008228   Valid_loss : 8.295301914215088\n"
          ]
        },
        {
          "output_type": "stream",
          "name": "stderr",
          "text": [
            "100%|██████████| 405/405 [01:19<00:00,  5.11it/s]\n",
            "100%|██████████| 102/102 [00:15<00:00,  6.67it/s]\n"
          ]
        },
        {
          "output_type": "stream",
          "name": "stdout",
          "text": [
            "MODEL SAVED\n",
            "Epoch : 21   Train_loss : 8.30067238042384   Valid_loss : 8.296582408979827\n"
          ]
        },
        {
          "output_type": "stream",
          "name": "stderr",
          "text": [
            "100%|██████████| 405/405 [01:19<00:00,  5.11it/s]\n",
            "100%|██████████| 102/102 [00:15<00:00,  6.63it/s]\n"
          ]
        },
        {
          "output_type": "stream",
          "name": "stdout",
          "text": [
            "MODEL SAVED\n",
            "Epoch : 22   Train_loss : 8.300796308635194   Valid_loss : 8.29642313601924\n"
          ]
        },
        {
          "output_type": "stream",
          "name": "stderr",
          "text": [
            "100%|██████████| 405/405 [01:19<00:00,  5.11it/s]\n",
            "100%|██████████| 102/102 [00:15<00:00,  6.44it/s]\n"
          ]
        },
        {
          "output_type": "stream",
          "name": "stdout",
          "text": [
            "MODEL SAVED\n",
            "Epoch : 23   Train_loss : 8.301747917834623   Valid_loss : 8.298017754274255\n"
          ]
        },
        {
          "output_type": "stream",
          "name": "stderr",
          "text": [
            "100%|██████████| 405/405 [01:17<00:00,  5.20it/s]\n",
            "100%|██████████| 102/102 [00:15<00:00,  6.44it/s]\n"
          ]
        },
        {
          "output_type": "stream",
          "name": "stdout",
          "text": [
            "MODEL SAVED\n",
            "Epoch : 24   Train_loss : 8.301623589315533   Valid_loss : 8.29927282707364\n"
          ]
        },
        {
          "output_type": "stream",
          "name": "stderr",
          "text": [
            "100%|██████████| 405/405 [01:18<00:00,  5.15it/s]\n",
            "100%|██████████| 102/102 [00:15<00:00,  6.66it/s]\n"
          ]
        },
        {
          "output_type": "stream",
          "name": "stdout",
          "text": [
            "MODEL SAVED\n",
            "Epoch : 25   Train_loss : 8.2988789735017   Valid_loss : 8.296892427930645\n"
          ]
        },
        {
          "output_type": "stream",
          "name": "stderr",
          "text": [
            "100%|██████████| 405/405 [01:21<00:00,  4.98it/s]\n",
            "100%|██████████| 102/102 [00:15<00:00,  6.52it/s]\n"
          ]
        },
        {
          "output_type": "stream",
          "name": "stdout",
          "text": [
            "MODEL SAVED\n",
            "Epoch : 26   Train_loss : 8.300281786035608   Valid_loss : 8.299914322647394\n"
          ]
        },
        {
          "output_type": "stream",
          "name": "stderr",
          "text": [
            "100%|██████████| 405/405 [01:18<00:00,  5.17it/s]\n",
            "100%|██████████| 102/102 [00:15<00:00,  6.48it/s]\n"
          ]
        },
        {
          "output_type": "stream",
          "name": "stdout",
          "text": [
            "MODEL SAVED\n",
            "Epoch : 27   Train_loss : 8.29188343566141   Valid_loss : 8.287341678843779\n"
          ]
        },
        {
          "output_type": "stream",
          "name": "stderr",
          "text": [
            "100%|██████████| 405/405 [01:19<00:00,  5.12it/s]\n",
            "100%|██████████| 102/102 [00:15<00:00,  6.57it/s]\n"
          ]
        },
        {
          "output_type": "stream",
          "name": "stdout",
          "text": [
            "MODEL SAVED\n",
            "Epoch : 28   Train_loss : 8.288661766052247   Valid_loss : 8.28604653302361\n"
          ]
        },
        {
          "output_type": "stream",
          "name": "stderr",
          "text": [
            "100%|██████████| 405/405 [01:19<00:00,  5.08it/s]\n",
            "100%|██████████| 102/102 [00:15<00:00,  6.62it/s]\n"
          ]
        },
        {
          "output_type": "stream",
          "name": "stdout",
          "text": [
            "MODEL SAVED\n",
            "Epoch : 29   Train_loss : 8.28902783334991   Valid_loss : 8.286020475275377\n"
          ]
        },
        {
          "output_type": "stream",
          "name": "stderr",
          "text": [
            "100%|██████████| 405/405 [01:18<00:00,  5.17it/s]\n",
            "100%|██████████| 102/102 [00:15<00:00,  6.50it/s]\n"
          ]
        },
        {
          "output_type": "stream",
          "name": "stdout",
          "text": [
            "MODEL SAVED\n",
            "Epoch : 30   Train_loss : 8.288331938378604   Valid_loss : 8.285309913111668\n"
          ]
        }
      ]
    },
    {
      "cell_type": "code",
      "source": [
        "# After training once :  [00:00<00:00,  7.88it/s]Epoch : 20   Train_loss : 6.8618403031275825   Valid_loss : 6.861988476344517\n",
        "# After training twice:"
      ],
      "metadata": {
        "id": "OoigjFJrLxzt"
      },
      "execution_count": null,
      "outputs": []
    },
    {
      "cell_type": "markdown",
      "source": [
        "# Inference"
      ],
      "metadata": {
        "id": "4gufFdZfKApx"
      }
    },
    {
      "cell_type": "code",
      "source": [
        "model.load_state_dict(torch.load('/content/best_model_pt'))"
      ],
      "metadata": {
        "id": "QANrt_Ty_XgB",
        "colab": {
          "base_uri": "https://localhost:8080/"
        },
        "outputId": "b35cd9ad-c26b-4fd9-98be-19d72d9876be"
      },
      "execution_count": null,
      "outputs": [
        {
          "output_type": "execute_result",
          "data": {
            "text/plain": [
              "<All keys matched successfully>"
            ]
          },
          "metadata": {},
          "execution_count": 164
        }
      ]
    },
    {
      "cell_type": "code",
      "source": [
        "idx = 30\n",
        "image, caption = testset[idx]"
      ],
      "metadata": {
        "id": "np6AgXF_G0iJ"
      },
      "execution_count": null,
      "outputs": []
    },
    {
      "cell_type": "code",
      "source": [
        "show_image(image)"
      ],
      "metadata": {
        "colab": {
          "base_uri": "https://localhost:8080/",
          "height": 435
        },
        "id": "UBo-301HG9nu",
        "outputId": "a7dff5d2-b1c3-4264-b69e-4d497b4ed486"
      },
      "execution_count": null,
      "outputs": [
        {
          "output_type": "display_data",
          "data": {
            "text/plain": [
              "<Figure size 640x480 with 1 Axes>"
            ],
            "image/png": "[encoded data removed]"
          },
          "metadata": {}
        }
      ]
    },
    {
      "cell_type": "code",
      "source": [
        "caption"
      ],
      "metadata": {
        "colab": {
          "base_uri": "https://localhost:8080/"
        },
        "id": "gzXIx1jNHAty",
        "outputId": "d2cffcdb-668f-41bb-fabf-5ca3f626321a"
      },
      "execution_count": null,
      "outputs": [
        {
          "output_type": "execute_result",
          "data": {
            "text/plain": [
              "tensor([  0,  50, 200,  31,   4,  30,  33,   6,  25, 180,  17,   1,   2,   2,\n",
              "          2,   2,   2,   2,   2,   2,   2,   2,   2,   2,   2])"
            ]
          },
          "metadata": {},
          "execution_count": 178
        }
      ]
    },
    {
      "cell_type": "code",
      "source": [
        "lang.decode(caption)"
      ],
      "metadata": {
        "colab": {
          "base_uri": "https://localhost:8080/"
        },
        "id": "YlPKSLogJlmk",
        "outputId": "90750581-fb6e-4329-b5e6-ac666b41956b"
      },
      "execution_count": null,
      "outputs": [
        {
          "output_type": "execute_result",
          "data": {
            "text/plain": [
              "['<sos>',\n",
              " 'two',\n",
              " 'people',\n",
              " 'and',\n",
              " 'a',\n",
              " 'dog',\n",
              " 'are',\n",
              " 'in',\n",
              " 'the',\n",
              " 'snow',\n",
              " '.',\n",
              " '<eos>',\n",
              " '<pad>',\n",
              " '<pad>',\n",
              " '<pad>',\n",
              " '<pad>',\n",
              " '<pad>',\n",
              " '<pad>',\n",
              " '<pad>',\n",
              " '<pad>',\n",
              " '<pad>',\n",
              " '<pad>',\n",
              " '<pad>',\n",
              " '<pad>',\n",
              " '<pad>']"
            ]
          },
          "metadata": {},
          "execution_count": 179
        }
      ]
    },
    {
      "cell_type": "code",
      "source": [
        "out = model(image.to(DEVICE).unsqueeze(0), caption.to(DEVICE).unsqueeze(0))"
      ],
      "metadata": {
        "id": "PWZX1sckKNLM"
      },
      "execution_count": null,
      "outputs": []
    },
    {
      "cell_type": "code",
      "source": [
        "out.shape"
      ],
      "metadata": {
        "colab": {
          "base_uri": "https://localhost:8080/"
        },
        "id": "MyYSgta5K34N",
        "outputId": "48c4f2db-43cf-458d-89cf-934b51b8fd20"
      },
      "execution_count": null,
      "outputs": [
        {
          "output_type": "execute_result",
          "data": {
            "text/plain": [
              "torch.Size([1, 24, 5159])"
            ]
          },
          "metadata": {},
          "execution_count": 181
        }
      ]
    },
    {
      "cell_type": "code",
      "source": [
        "out"
      ],
      "metadata": {
        "colab": {
          "base_uri": "https://localhost:8080/"
        },
        "id": "-L6LNbPXKmpI",
        "outputId": "4ad1aa6d-c1b7-45a8-ab34-115a307f4356"
      },
      "execution_count": null,
      "outputs": [
        {
          "output_type": "execute_result",
          "data": {
            "text/plain": [
              "tensor([[[9.6411e-14, 1.0063e-11, 4.5054e-14,  ..., 7.2441e-14,\n",
              "          8.4685e-14, 1.1910e-13],\n",
              "         [2.7769e-10, 9.3341e-08, 1.5547e-10,  ..., 2.9239e-10,\n",
              "          2.4362e-10, 3.7051e-10],\n",
              "         [7.9446e-10, 6.5582e-07, 5.5121e-10,  ..., 7.5217e-10,\n",
              "          6.1991e-10, 8.2532e-10],\n",
              "         ...,\n",
              "         [3.1392e-13, 3.4674e-11, 1.4525e-13,  ..., 2.8027e-13,\n",
              "          2.7330e-13, 4.1162e-13],\n",
              "         [1.2341e-12, 1.0528e-10, 5.8954e-13,  ..., 1.1465e-12,\n",
              "          1.0792e-12, 1.6159e-12],\n",
              "         [1.0275e-12, 8.9616e-11, 4.8704e-13,  ..., 9.4355e-13,\n",
              "          8.9494e-13, 1.3421e-12]]], device='cuda:0', grad_fn=<CatBackward0>)"
            ]
          },
          "metadata": {},
          "execution_count": 182
        }
      ]
    },
    {
      "cell_type": "code",
      "source": [
        "preds = torch.argmax(out, dim=-1)"
      ],
      "metadata": {
        "id": "T7dYEWIqKyJp"
      },
      "execution_count": null,
      "outputs": []
    },
    {
      "cell_type": "code",
      "source": [
        "preds.shape"
      ],
      "metadata": {
        "colab": {
          "base_uri": "https://localhost:8080/"
        },
        "id": "0GDPl4GQLB7m",
        "outputId": "980db021-88b6-40c1-943f-3176f93205c7"
      },
      "execution_count": null,
      "outputs": [
        {
          "output_type": "execute_result",
          "data": {
            "text/plain": [
              "torch.Size([1, 24])"
            ]
          },
          "metadata": {},
          "execution_count": 184
        }
      ]
    },
    {
      "cell_type": "code",
      "source": [
        "preds"
      ],
      "metadata": {
        "colab": {
          "base_uri": "https://localhost:8080/"
        },
        "id": "4rhMz19fLDup",
        "outputId": "ba75a02e-93a2-4fdd-c5e3-2b3ed6b8a05f"
      },
      "execution_count": null,
      "outputs": [
        {
          "output_type": "execute_result",
          "data": {
            "text/plain": [
              "tensor([[ 4,  4, 17,  4,  4, 17, 17,  4,  4, 17,  1,  4,  4,  4,  4,  4,  4,  4,\n",
              "          4,  4,  4,  4,  4,  4]], device='cuda:0')"
            ]
          },
          "metadata": {},
          "execution_count": 185
        }
      ]
    },
    {
      "cell_type": "code",
      "source": [
        "lang.decode(preds[0])"
      ],
      "metadata": {
        "colab": {
          "base_uri": "https://localhost:8080/"
        },
        "id": "ekv992NLLFUG",
        "outputId": "5757950e-5afc-49df-a7f3-2a03665b678b"
      },
      "execution_count": null,
      "outputs": [
        {
          "output_type": "execute_result",
          "data": {
            "text/plain": [
              "['a',\n",
              " 'a',\n",
              " '.',\n",
              " 'a',\n",
              " 'a',\n",
              " '.',\n",
              " '.',\n",
              " 'a',\n",
              " 'a',\n",
              " '.',\n",
              " '<eos>',\n",
              " 'a',\n",
              " 'a',\n",
              " 'a',\n",
              " 'a',\n",
              " 'a',\n",
              " 'a',\n",
              " 'a',\n",
              " 'a',\n",
              " 'a',\n",
              " 'a',\n",
              " 'a',\n",
              " 'a',\n",
              " 'a']"
            ]
          },
          "metadata": {},
          "execution_count": 186
        }
      ]
    },
    {
      "cell_type": "code",
      "source": [],
      "metadata": {
        "id": "rw1oCmF0LJzr"
      },
      "execution_count": null,
      "outputs": []
    }
  ]
}